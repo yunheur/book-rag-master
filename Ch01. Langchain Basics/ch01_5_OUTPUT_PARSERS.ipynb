{
 "cells": [
  {
   "cell_type": "code",
   "execution_count": null,
   "metadata": {
    "colab": {
     "base_uri": "https://localhost:8080/"
    },
    "executionInfo": {
     "elapsed": 23507,
     "status": "ok",
     "timestamp": 1739708037838,
     "user": {
      "displayName": "조경아",
      "userId": "05652149574770065967"
     },
     "user_tz": -540
    },
    "id": "Ojlsc5Izydm6",
    "outputId": "f02384bb-f8aa-4a9d-d88b-4e3b34c7a488"
   },
   "outputs": [
    {
     "name": "stdout",
     "output_type": "stream",
     "text": [
      "Mounted at /content/drive\n"
     ]
    }
   ],
   "source": [
    "# from google.colab import drive\n",
    "# drive.mount('/content/drive')"
   ]
  },
  {
   "cell_type": "code",
   "execution_count": null,
   "metadata": {
    "id": "PeY1QEffyjJp"
   },
   "outputs": [],
   "source": [
    "# %%capture --no-stderr\n",
    "# !pip install python-dotenv langchain-core langchain langchain-openai langchain-chroma"
   ]
  },
  {
   "cell_type": "code",
   "execution_count": null,
   "metadata": {
    "id": "gvSfsBH6yjHD"
   },
   "outputs": [],
   "source": [
    "# 환경변수 설정"
   ]
  },
  {
   "cell_type": "code",
   "execution_count": null,
   "metadata": {
    "id": "-KGYBfqCyjEY"
   },
   "outputs": [],
   "source": [
    "# 라이브러리 불러오기\n",
    "from dotenv import load_dotenv\n",
    "import os\n",
    "from langchain_openai import OpenAI"
   ]
  },
  {
   "cell_type": "code",
   "execution_count": null,
   "metadata": {
    "id": "OSofIHmFyjBh"
   },
   "outputs": [],
   "source": [
    "# .env 파일에서 환경 변수 로드\n",
    "# load_dotenv(\"/content/.env\")\n",
    "load_dotenv(\"/.env\")\n",
    "# 환경 변수에서 API 키 가져오기\n",
    "api_key = os.getenv(\"OPENAI_API_KEY\")\n",
    "# 오픈AI 대규모 언어 모델 초기화\n",
    "llm = OpenAI()"
   ]
  },
  {
   "cell_type": "code",
   "execution_count": null,
   "metadata": {
    "colab": {
     "base_uri": "https://localhost:8080/"
    },
    "executionInfo": {
     "elapsed": 6,
     "status": "ok",
     "timestamp": 1739708100155,
     "user": {
      "displayName": "조경아",
      "userId": "05652149574770065967"
     },
     "user_tz": -540
    },
    "id": "vc9C4EI3y44P",
    "outputId": "bd6798ff-403c-48ae-c5c1-15b1c98b9822"
   },
   "outputs": [
    {
     "name": "stdout",
     "output_type": "stream",
     "text": [
      "Return a JSON object.\n"
     ]
    }
   ],
   "source": [
    "# <`get_format_instructions` 메서드>\n",
    "\n",
    "# 라이브러리 불러오기\n",
    "from langchain_core.output_parsers import JsonOutputParser\n",
    "# Json 출력 파서 불러오기\n",
    "parser = JsonOutputParser()\n",
    "instructions = parser.get_format_instructions()\n",
    "print(instructions)  # JSON 형식의 지침을 출력\n"
   ]
  },
  {
   "cell_type": "code",
   "execution_count": null,
   "metadata": {
    "colab": {
     "base_uri": "https://localhost:8080/"
    },
    "executionInfo": {
     "elapsed": 5,
     "status": "ok",
     "timestamp": 1739708100155,
     "user": {
      "displayName": "조경아",
      "userId": "05652149574770065967"
     },
     "user_tz": -540
    },
    "id": "rToFT61ITABK",
    "outputId": "3bb7c4bd-2009-4e71-a5b6-8aaac8e626a9"
   },
   "outputs": [
    {
     "name": "stdout",
     "output_type": "stream",
     "text": [
      "{'이름': '김철수', '나이': 30}\n"
     ]
    }
   ],
   "source": [
    "# <`parse` 메서드>\n",
    "\n",
    "ai_response = '{\"이름\": \"김철수\", \"나이\": 30}'\n",
    "parsed_response = parser.parse(ai_response)\n",
    "print(parsed_response)"
   ]
  },
  {
   "cell_type": "code",
   "execution_count": null,
   "metadata": {
    "colab": {
     "base_uri": "https://localhost:8080/"
    },
    "executionInfo": {
     "elapsed": 421,
     "status": "ok",
     "timestamp": 1739708100573,
     "user": {
      "displayName": "조경아",
      "userId": "05652149574770065967"
     },
     "user_tz": -540
    },
    "id": "ogxB3M6xS_-j",
    "outputId": "64babd34-7dc5-4a26-fb56-7220f80379fe"
   },
   "outputs": [
    {
     "name": "stdout",
     "output_type": "stream",
     "text": [
      "오류 발생: 'str' object has no attribute 'to_string'\n"
     ]
    }
   ],
   "source": [
    "# <`parse_with_prompt` 메서드>\n",
    "\n",
    "# 라이브러리 불러오기\n",
    "from langchain.output_parsers import RetryWithErrorOutputParser\n",
    "from langchain_core.output_parsers import JsonOutputParser\n",
    "from langchain_openai import ChatOpenAI\n",
    "# 파서 설정\n",
    "parser = RetryWithErrorOutputParser.from_llm(parser=JsonOutputParser(), llm=ChatOpenAI())\n",
    "\n",
    "question = \"가장 큰 대륙은?\"\n",
    "ai_response = \"아시아입니다.\"  # JSON 형식이 아닌 잘못된 응답\n",
    "try:\n",
    "    result = parser.parse_with_prompt(ai_response, question)\n",
    "    print(result)\n",
    "except Exception as e:\n",
    "    print(f\"오류 발생: {e}\")\n",
    "    # 여기서 AI에게 다시 질문할 수 있습니다\n"
   ]
  },
  {
   "cell_type": "code",
   "execution_count": null,
   "metadata": {
    "colab": {
     "base_uri": "https://localhost:8080/"
    },
    "executionInfo": {
     "elapsed": 3037,
     "status": "ok",
     "timestamp": 1739708266376,
     "user": {
      "displayName": "조경아",
      "userId": "05652149574770065967"
     },
     "user_tz": -540
    },
    "id": "5G9gK_Bnx6hk",
    "outputId": "6102fc5d-277d-4a0b-ae53-f2a4ee014868"
   },
   "outputs": [
    {
     "name": "stdout",
     "output_type": "stream",
     "text": [
      "setup='부동산 투자를 고려하고 있습니다. 현재 시장 상황에서 부동산에 투자하는 것이 좋은 결정일까요?' advice='부동산 투자는 장기적인 관점에서 안정적인 수익을 제공할 수 있지만, 시장의 변동성과 지역별 특성을 고려해야 합니다. 현재 시장 상황, 금리, 지역 개발 계획 등을 분석하여 투자 결정을 내리는 것이 중요합니다. 전문가와 상담하여 구체적인 전략을 세우는 것도 좋은 방법입니다.'\n"
     ]
    }
   ],
   "source": [
    "# <Pydantic 출력 파서 예시>\n",
    "\n",
    "from langchain_core.output_parsers import PydanticOutputParser\n",
    "from langchain_core.prompts import PromptTemplate\n",
    "from langchain_openai import ChatOpenAI\n",
    "from pydantic import BaseModel, Field, model_validator\n",
    "\n",
    "# OpenAI 모델 설정\n",
    "model = ChatOpenAI(model_name=\"gpt-4o\", temperature=0.0)\n",
    "\n",
    "# 원하는 데이터 구조 정의\n",
    "class FinancialAdvice(BaseModel):\n",
    "    setup: str = Field(description=\"금융 조언 상황을 설정하기 위한 질문\")\n",
    "    advice: str = Field(description=\"질문을 해결하기 위한 금융 답변\")\n",
    "    # Pydantic을 사용한 사용자 정의 검증 로직\n",
    "    @model_validator(mode=\"before\")\n",
    "    @classmethod\n",
    "    def question_ends_with_question_mark(cls, values: dict) -> dict:\n",
    "        setup = values.get(\"setup\", \"\")\n",
    "        if not setup.endswith(\"?\"):\n",
    "            raise ValueError(\"잘못된 질문 형식입니다! 질문은 '?'로 끝나야 합니다.\")\n",
    "        return values\n",
    "\n",
    "# 파서 설정 및 프롬프트 템플릿에 지침 삽입\n",
    "parser = PydanticOutputParser(pydantic_object=FinancialAdvice)\n",
    "prompt = PromptTemplate(\n",
    "    template=\"다음 금융 관련 질문에 답변해 주세요.\\n{format_instructions}\\n질문: {query}\\n\",\n",
    "    input_variables=[\"query\"],\n",
    "    partial_variables={\"format_instructions\": parser.get_format_instructions()},\n",
    ")\n",
    "# 언어 모델을 사용해 데이터 구조를 채우도록 프롬프트와 모델 설정\n",
    "chain = prompt | model | parser\n",
    "\n",
    "\n",
    "# 체인 실행 및 결과 출력\n",
    "try:\n",
    "    result = chain.invoke({\"query\": \"부동산에 관련하여 금융 조언을 받을 수 있는 질문하여라.\"})\n",
    "    print(result)\n",
    "except Exception as e:\n",
    "    print(f\"오류 발생: {e}\")\n"
   ]
  },
  {
   "cell_type": "code",
   "execution_count": null,
   "metadata": {
    "colab": {
     "base_uri": "https://localhost:8080/"
    },
    "executionInfo": {
     "elapsed": 1332,
     "status": "ok",
     "timestamp": 1739708429230,
     "user": {
      "displayName": "조경아",
      "userId": "05652149574770065967"
     },
     "user_tz": -540
    },
    "id": "xFIobHjxrWXU",
    "outputId": "49e33bdf-6d38-4d02-f9d4-75b215f00d2b"
   },
   "outputs": [
    {
     "data": {
      "text/plain": [
       "[{},\n",
       " {'description': ''},\n",
       " {'description': '비'},\n",
       " {'description': '비트'},\n",
       " {'description': '비트코'},\n",
       " {'description': '비트코인은'},\n",
       " {'description': '비트코인은 분'},\n",
       " {'description': '비트코인은 분산'},\n",
       " {'description': '비트코인은 분산형'},\n",
       " {'description': '비트코인은 분산형 디'},\n",
       " {'description': '비트코인은 분산형 디지털'},\n",
       " {'description': '비트코인은 분산형 디지털 통'},\n",
       " {'description': '비트코인은 분산형 디지털 통화'},\n",
       " {'description': '비트코인은 분산형 디지털 통화로'},\n",
       " {'description': '비트코인은 분산형 디지털 통화로,'},\n",
       " {'description': '비트코인은 분산형 디지털 통화로, 중앙'},\n",
       " {'description': '비트코인은 분산형 디지털 통화로, 중앙은행'},\n",
       " {'description': '비트코인은 분산형 디지털 통화로, 중앙은행 없이'},\n",
       " {'description': '비트코인은 분산형 디지털 통화로, 중앙은행 없이 개인'},\n",
       " {'description': '비트코인은 분산형 디지털 통화로, 중앙은행 없이 개인 간'},\n",
       " {'description': '비트코인은 분산형 디지털 통화로, 중앙은행 없이 개인 간의'},\n",
       " {'description': '비트코인은 분산형 디지털 통화로, 중앙은행 없이 개인 간의 거래'},\n",
       " {'description': '비트코인은 분산형 디지털 통화로, 중앙은행 없이 개인 간의 거래를'},\n",
       " {'description': '비트코인은 분산형 디지털 통화로, 중앙은행 없이 개인 간의 거래를 가능'},\n",
       " {'description': '비트코인은 분산형 디지털 통화로, 중앙은행 없이 개인 간의 거래를 가능하게'},\n",
       " {'description': '비트코인은 분산형 디지털 통화로, 중앙은행 없이 개인 간의 거래를 가능하게 하는'},\n",
       " {'description': '비트코인은 분산형 디지털 통화로, 중앙은행 없이 개인 간의 거래를 가능하게 하는 블'},\n",
       " {'description': '비트코인은 분산형 디지털 통화로, 중앙은행 없이 개인 간의 거래를 가능하게 하는 블록'},\n",
       " {'description': '비트코인은 분산형 디지털 통화로, 중앙은행 없이 개인 간의 거래를 가능하게 하는 블록체'},\n",
       " {'description': '비트코인은 분산형 디지털 통화로, 중앙은행 없이 개인 간의 거래를 가능하게 하는 블록체인'},\n",
       " {'description': '비트코인은 분산형 디지털 통화로, 중앙은행 없이 개인 간의 거래를 가능하게 하는 블록체인 기술'},\n",
       " {'description': '비트코인은 분산형 디지털 통화로, 중앙은행 없이 개인 간의 거래를 가능하게 하는 블록체인 기술을'},\n",
       " {'description': '비트코인은 분산형 디지털 통화로, 중앙은행 없이 개인 간의 거래를 가능하게 하는 블록체인 기술을 기반'},\n",
       " {'description': '비트코인은 분산형 디지털 통화로, 중앙은행 없이 개인 간의 거래를 가능하게 하는 블록체인 기술을 기반으로'},\n",
       " {'description': '비트코인은 분산형 디지털 통화로, 중앙은행 없이 개인 간의 거래를 가능하게 하는 블록체인 기술을 기반으로 합니다'},\n",
       " {'description': '비트코인은 분산형 디지털 통화로, 중앙은행 없이 개인 간의 거래를 가능하게 하는 블록체인 기술을 기반으로 합니다.'}]"
      ]
     },
     "execution_count": 15,
     "metadata": {},
     "output_type": "execute_result"
    }
   ],
   "source": [
    "# <SimpleJsonOutputParser 출력 파서 예시>\n",
    "\n",
    "from langchain.output_parsers.json import SimpleJsonOutputParser\n",
    "# JSON 포맷의 응답을 생성하는 프롬프트 템플릿 설정\n",
    "json_prompt = PromptTemplate.from_template(\n",
    "    \"다음 질문에 대한 답변이 포함된 JSON 객체를 반환하십시오: {question}\"\n",
    ")\n",
    "json_parser = SimpleJsonOutputParser()\n",
    "json_chain = json_prompt | model | json_parser\n",
    "\n",
    "# 스트리밍 예시: 질문에 대한 답변이 부분적으로 구문 분석됨\n",
    "list(json_chain.stream({\"question\": \"비트코인에 대한 짧은 한문장 설명.\"}))\n"
   ]
  },
  {
   "cell_type": "code",
   "execution_count": null,
   "metadata": {
    "colab": {
     "base_uri": "https://localhost:8080/"
    },
    "executionInfo": {
     "elapsed": 1845,
     "status": "ok",
     "timestamp": 1739708105419,
     "user": {
      "displayName": "조경아",
      "userId": "05652149574770065967"
     },
     "user_tz": -540
    },
    "id": "IyTl_BYGrWRz",
    "outputId": "b9e1aad9-dcff-48fd-90fe-9e77d7faa527"
   },
   "outputs": [
    {
     "data": {
      "text/plain": [
       "{'setup': '부동산 투자 시 어떤 금융 상품을 활용하는 것이 좋을까요?',\n",
       " 'advice': '부동산 투자 시에는 주택담보대출, 주택청약종합저축, 부동산투자신탁 등 다양한 금융 상품을 활용할 수 있습니다. 각 상품의 장단점을 고려하여 자신의 상황에 맞는 금융 상품을 선택하는 것이 중요합니다.'}"
      ]
     },
     "execution_count": 10,
     "metadata": {},
     "output_type": "execute_result"
    }
   ],
   "source": [
    "# <JsonOutputParser출력 파서 예시>\n",
    "\n",
    "from langchain_core.output_parsers import JsonOutputParser\n",
    "from langchain_core.prompts import PromptTemplate\n",
    "from langchain_openai import ChatOpenAI\n",
    "from pydantic import BaseModel, Field\n",
    "# 오픈AI 모델 설정\n",
    "model = ChatOpenAI(temperature=0)\n",
    "\n",
    "\n",
    "# 원하는 데이터 구조 정의\n",
    "class FinancialAdvice(BaseModel):\n",
    "    setup: str = Field(description=\"금융 조언 상황을 설정하기 위한 질문\")\n",
    "    advice: str = Field(description=\"질문을 해결하기 위한 금융 답변\")\n",
    "\n",
    "# JSON 출력 파서 설정 및 프롬프트 템플릿에 지침 삽입\n",
    "parser = JsonOutputParser(pydantic_object=FinancialAdvice)\n",
    "prompt = PromptTemplate(\n",
    "    template=\"다음 금융 관련 질문에 답변해 주세요.\\n{format_instructions}\\n{query}\\n\",\n",
    "    input_variables=[\"query\"],\n",
    "    partial_variables={\"format_instructions\": parser.get_format_instructions()},\n",
    ")\n",
    "\n",
    "# 체인 구성: 프롬프트 -> 모델 -> 파서\n",
    "chain = prompt | model | parser\n",
    "# 체인 실행\n",
    "chain.invoke({\"query\": \"부동산에 관련하여 금융 조언을 받을 수 있는 질문하여라.\"})\n"
   ]
  },
  {
   "cell_type": "code",
   "execution_count": null,
   "metadata": {
    "id": "9j2epQMjrY7V"
   },
   "outputs": [],
   "source": []
  }
 ],
 "metadata": {
  "colab": {
   "authorship_tag": "ABX9TyN2nXRb4mdKrbKlbwsGpbJN",
   "provenance": [
    {
     "file_id": "1NuKBnRZYsknavo_m2FKNt37uog2uEC86",
     "timestamp": 1727092983017
    },
    {
     "file_id": "1wlUQ92nxdUV9kVDpIgaLILzmrtYCBJK7",
     "timestamp": 1727090667415
    },
    {
     "file_id": "19b9Fac4cyr4dVqYzCPfQS6a0TSSWMIrB",
     "timestamp": 1727084186884
    }
   ]
  },
  "kernelspec": {
   "display_name": "Python 3",
   "name": "python3"
  },
  "language_info": {
   "name": "python"
  }
 },
 "nbformat": 4,
 "nbformat_minor": 0
}
