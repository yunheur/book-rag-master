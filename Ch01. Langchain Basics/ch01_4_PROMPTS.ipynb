{
 "cells": [
  {
   "cell_type": "code",
   "execution_count": null,
   "metadata": {
    "colab": {
     "base_uri": "https://localhost:8080/"
    },
    "executionInfo": {
     "elapsed": 25923,
     "status": "ok",
     "timestamp": 1739707261328,
     "user": {
      "displayName": "조경아",
      "userId": "05652149574770065967"
     },
     "user_tz": -540
    },
    "id": "Ojlsc5Izydm6",
    "outputId": "f6196aae-d793-4625-c037-d7d8739a0a24"
   },
   "outputs": [
    {
     "name": "stdout",
     "output_type": "stream",
     "text": [
      "Mounted at /content/drive\n"
     ]
    }
   ],
   "source": [
    "# from google.colab import drive\n",
    "# drive.mount('/content/drive')"
   ]
  },
  {
   "cell_type": "code",
   "execution_count": null,
   "metadata": {
    "id": "PeY1QEffyjJp"
   },
   "outputs": [],
   "source": [
    "# %%capture --no-stderr\n",
    "# !pip install python-dotenv langchain-core langchain-openai langchain-chroma"
   ]
  },
  {
   "cell_type": "code",
   "execution_count": null,
   "metadata": {
    "id": "gvSfsBH6yjHD"
   },
   "outputs": [],
   "source": [
    "# 환경변수 설정"
   ]
  },
  {
   "cell_type": "code",
   "execution_count": null,
   "metadata": {
    "id": "-KGYBfqCyjEY"
   },
   "outputs": [],
   "source": [
    "# 라이브러리 불러오기\n",
    "from dotenv import load_dotenv\n",
    "import os\n",
    "from langchain_openai import OpenAI"
   ]
  },
  {
   "cell_type": "code",
   "execution_count": null,
   "metadata": {
    "id": "OSofIHmFyjBh"
   },
   "outputs": [],
   "source": [
    "# .env 파일에서 환경 변수 로드\n",
    "# load_dotenv(\"/content/.env\")\n",
    "load_dotenv(\"/hh.env\")\n",
    "# 환경 변수에서 API 키 가져오기\n",
    "api_key = os.getenv(\"OPENAI_API_KEY\")\n",
    "# 오픈AI 대규모 언어 모델 초기화\n",
    "llm = OpenAI()"
   ]
  },
  {
   "cell_type": "code",
   "execution_count": null,
   "metadata": {
    "colab": {
     "base_uri": "https://localhost:8080/"
    },
    "executionInfo": {
     "elapsed": 7,
     "status": "ok",
     "timestamp": 1739707465046,
     "user": {
      "displayName": "조경아",
      "userId": "05652149574770065967"
     },
     "user_tz": -540
    },
    "id": "vc9C4EI3y44P",
    "outputId": "5a7bbecc-6076-4af5-b485-c6ea99e3709b"
   },
   "outputs": [
    {
     "data": {
      "text/plain": [
       "StringPromptValue(text='주제 투자에 대해 금융 관련 짧은 조언을 해주세요')"
      ]
     },
     "execution_count": 5,
     "metadata": {},
     "output_type": "execute_result"
    }
   ],
   "source": [
    "# <문자열 프롬프트 템플릿>\n",
    "\n",
    "# 라이브러리 불러오기\n",
    "from langchain_core.prompts import PromptTemplate\n",
    "# 주어진 주제에 대한 농담을 요청하는 프롬프트 템플릿 정의\n",
    "prompt_template = PromptTemplate.from_template(\"주제 {topic}에 대해 금융 관련 짧은 조언을 해주세요\")\n",
    "# '투자' 주제로 프롬프트 템플릿 호출\n",
    "prompt_template.invoke({\"topic\": \"투자\"})"
   ]
  },
  {
   "cell_type": "code",
   "execution_count": null,
   "metadata": {
    "colab": {
     "base_uri": "https://localhost:8080/"
    },
    "executionInfo": {
     "elapsed": 5,
     "status": "ok",
     "timestamp": 1739707465046,
     "user": {
      "displayName": "조경아",
      "userId": "05652149574770065967"
     },
     "user_tz": -540
    },
    "id": "rToFT61ITABK",
    "outputId": "d4e9cf86-2a27-4b5f-b568-e685504af0ce"
   },
   "outputs": [
    {
     "data": {
      "text/plain": [
       "ChatPromptValue(messages=[SystemMessage(content='당신은 유능한 금융 조언가입니다.', additional_kwargs={}, response_metadata={}), HumanMessage(content='주제 주식에 대해 금융 관련 조언을 해주세요', additional_kwargs={}, response_metadata={})])"
      ]
     },
     "execution_count": 6,
     "metadata": {},
     "output_type": "execute_result"
    }
   ],
   "source": [
    "# <챗 프롬프트 템플릿>\n",
    "\n",
    "# 라이브러리 불러오기\n",
    "from langchain_core.prompts import ChatPromptTemplate\n",
    "\n",
    "# 챗 프롬프트 템플릿 정의: 사용자와 시스템 간의 메시지를 포함\n",
    "prompt_template = ChatPromptTemplate.from_messages([\n",
    "    (\"system\", \"당신은 유능한 금융 조언가입니다.\"),\n",
    "    (\"user\", \"주제 {topic}에 대해 금융 관련 조언을 해주세요\")\n",
    "])\n",
    "# '주식' 주제로 챗 프롬프트 템플릿 호출\n",
    "prompt_template.invoke({\"topic\": \"주식\"})\n"
   ]
  },
  {
   "cell_type": "code",
   "execution_count": null,
   "metadata": {
    "colab": {
     "base_uri": "https://localhost:8080/"
    },
    "executionInfo": {
     "elapsed": 394,
     "status": "ok",
     "timestamp": 1739707465436,
     "user": {
      "displayName": "조경아",
      "userId": "05652149574770065967"
     },
     "user_tz": -540
    },
    "id": "ogxB3M6xS_-j",
    "outputId": "0cdc6d4e-6e08-4c8c-a1f2-f14c7b88ba45"
   },
   "outputs": [
    {
     "data": {
      "text/plain": [
       "ChatPromptValue(messages=[SystemMessage(content='당신은 유능한 금융 조언가입니다.', additional_kwargs={}, response_metadata={}), HumanMessage(content='안녕하세요!', additional_kwargs={}, response_metadata={})])"
      ]
     },
     "execution_count": 7,
     "metadata": {},
     "output_type": "execute_result"
    }
   ],
   "source": [
    "# <메시지 자리 표시자 템플릿>\n",
    "\n",
    "# 라이브러리 불러오기\n",
    "from langchain_core.prompts import ChatPromptTemplate, MessagesPlaceholder\n",
    "from langchain_core.messages import HumanMessage\n",
    "\n",
    "# (방법1) 메시지 자리 표시자를 포함한 챗 프롬프트 템플릿 정의\n",
    "prompt_template = ChatPromptTemplate.from_messages([\n",
    "    (\"system\", \"당신은 유능한 금융 조언가입니다.\"),\n",
    "    MessagesPlaceholder(\"msgs\")\n",
    "])\n",
    "# 메시지 리스트를 'msgs' 자리 표시자에 전달하여 호출\n",
    "prompt_template.invoke({\"msgs\": [HumanMessage(content=\"안녕하세요!\")]})\n"
   ]
  },
  {
   "cell_type": "code",
   "execution_count": null,
   "metadata": {
    "colab": {
     "base_uri": "https://localhost:8080/"
    },
    "executionInfo": {
     "elapsed": 6,
     "status": "ok",
     "timestamp": 1739707465436,
     "user": {
      "displayName": "조경아",
      "userId": "05652149574770065967"
     },
     "user_tz": -540
    },
    "id": "hzJJtdYTS_7q",
    "outputId": "9463a173-57b8-41c9-8f3c-21c3556c0786"
   },
   "outputs": [
    {
     "data": {
      "text/plain": [
       "ChatPromptValue(messages=[SystemMessage(content='당신은 유능한 금융 조언가입니다.', additional_kwargs={}, response_metadata={}), HumanMessage(content='안녕하세요!', additional_kwargs={}, response_metadata={})])"
      ]
     },
     "execution_count": 8,
     "metadata": {},
     "output_type": "execute_result"
    }
   ],
   "source": [
    "# (방법2) MessagesPlaceholder 클래스를 명시적으로 사용하지 않고도 비슷한 작업을 수행할 수 있는 방법\n",
    "prompt_template = ChatPromptTemplate.from_messages([\n",
    "(\"system\", \"당신은 유능한 금융 조언가입니다.\"),\n",
    "(\"placeholder\", \"{msgs}\") # <-- 여기서 'msgs'가 자리 표시자로 사용됩니다.\n",
    "])\n",
    "# 메시지 리스트를 'msgs' 자리 표시자에 전달하여 호출\n",
    "prompt_template.invoke({\"msgs\": [HumanMessage(content=\"안녕하세요!\")]})\n"
   ]
  },
  {
   "cell_type": "code",
   "execution_count": null,
   "metadata": {
    "colab": {
     "base_uri": "https://localhost:8080/"
    },
    "executionInfo": {
     "elapsed": 5,
     "status": "ok",
     "timestamp": 1739707465436,
     "user": {
      "displayName": "조경아",
      "userId": "05652149574770065967"
     },
     "user_tz": -540
    },
    "id": "xcIpihDbS_5D",
    "outputId": "246e6412-8a56-4e14-d819-1bb399667e79"
   },
   "outputs": [
    {
     "name": "stdout",
     "output_type": "stream",
     "text": [
      "질문: 주식 투자와 예금 중 어느 것이 더 수익률이 높은가?\n",
      "답변: \n",
      "후속 질문이 필요한가요: 네.\n",
      "후속 질문: 주식 투자의 평균 수익률은 얼마인가요?\n",
      "중간 답변: 주식 투자의 평균 수익률은 연 7%입니다.\n",
      "후속 질문: 예금의 평균 이자율은 얼마인가요?\n",
      "중간 답변: 예금의 평균 이자율은 연 1%입니다.\n",
      "따라서 최종 답변은: 주식 투자\n",
      "\n"
     ]
    }
   ],
   "source": [
    "# <`PromptTemplate`를 이용한 퓨샷 프롬프트>\n",
    "\n",
    "# 라이브러리 불러오기\n",
    "from langchain_core.prompts import PromptTemplate\n",
    "# 질문과 답변을 포맷하는 프롬프트 템플릿 정의\n",
    "example_prompt = PromptTemplate.from_template(\"질문: {question}\\n답변: {answer}\")\n",
    "\n",
    "examples = [\n",
    "    {\n",
    "        \"question\": \"주식 투자와 예금 중 어느 것이 더 수익률이 높은가?\",\n",
    "        \"answer\": \"\"\"\n",
    "후속 질문이 필요한가요: 네.\n",
    "후속 질문: 주식 투자의 평균 수익률은 얼마인가요?\n",
    "중간 답변: 주식 투자의 평균 수익률은 연 7%입니다.\n",
    "후속 질문: 예금의 평균 이자율은 얼마인가요?\n",
    "중간 답변: 예금의 평균 이자율은 연 1%입니다.\n",
    "따라서 최종 답변은: 주식 투자\n",
    "\"\"\",\n",
    "    } ,\n",
    "    {\n",
    "        \"question\": \"부동산과 채권 중 어느 것이 더 안정적인 투자처인가?\",\n",
    "        \"answer\": \"\"\"\n",
    "후속 질문이 필요한가요: 네.\n",
    "후속 질문: 부동산 투자의 위험도는 어느 정도인가요?\n",
    "중간 답변: 부동산 투자의 위험도는 중간 수준입니다.\n",
    "후속 질문: 채권의 위험도는 어느 정도인가요?\n",
    "중간 답변: 채권의 위험도는 낮은 편입니다.\n",
    "따라서 최종 답변은: 채권\n",
    "\"\"\",\n",
    "    },\n",
    "]\n",
    "\n",
    "print(example_prompt.invoke(examples[0]).to_string())"
   ]
  },
  {
   "cell_type": "code",
   "execution_count": null,
   "metadata": {
    "colab": {
     "base_uri": "https://localhost:8080/"
    },
    "executionInfo": {
     "elapsed": 3,
     "status": "ok",
     "timestamp": 1739707465436,
     "user": {
      "displayName": "조경아",
      "userId": "05652149574770065967"
     },
     "user_tz": -540
    },
    "id": "STm8fFNES_2i",
    "outputId": "ae7e1c4d-3222-460c-ff3c-a96a93950bca"
   },
   "outputs": [
    {
     "name": "stdout",
     "output_type": "stream",
     "text": [
      "질문: 주식 투자와 예금 중 어느 것이 더 수익률이 높은가?\n",
      "답변: \n",
      "후속 질문이 필요한가요: 네.\n",
      "후속 질문: 주식 투자의 평균 수익률은 얼마인가요?\n",
      "중간 답변: 주식 투자의 평균 수익률은 연 7%입니다.\n",
      "후속 질문: 예금의 평균 이자율은 얼마인가요?\n",
      "중간 답변: 예금의 평균 이자율은 연 1%입니다.\n",
      "따라서 최종 답변은: 주식 투자\n",
      "\n",
      "\n",
      "질문: 부동산과 채권 중 어느 것이 더 안정적인 투자처인가?\n",
      "답변: \n",
      "후속 질문이 필요한가요: 네.\n",
      "후속 질문: 부동산 투자의 위험도는 어느 정도인가요?\n",
      "중간 답변: 부동산 투자의 위험도는 중간 수준입니다.\n",
      "후속 질문: 채권의 위험도는 어느 정도인가요?\n",
      "중간 답변: 채권의 위험도는 낮은 편입니다.\n",
      "따라서 최종 답변은: 채권\n",
      "\n",
      "\n",
      "질문: 부동산 투자의 장점은 무엇인가?\n"
     ]
    }
   ],
   "source": [
    "# <`FewShotPromptTemplate` 를 이용한 퓨샷 프롬프트>\n",
    "\n",
    "# 라이브러리 불러오기\n",
    "from langchain_core.prompts import FewShotPromptTemplate\n",
    "# FewShotPromptTemplate 생성\n",
    "prompt = FewShotPromptTemplate(\n",
    "    examples=examples,\n",
    "    example_prompt=example_prompt,\n",
    "    suffix=\"질문: {input}\",\n",
    "    input_variables=[\"input\"],\n",
    ")\n",
    "# '부동산 투자' 주제로 프롬프트 호출 및 출력\n",
    "print(\n",
    "    prompt.invoke({\"input\": \"부동산 투자의 장점은 무엇인가?\"}).to_string()\n",
    ")"
   ]
  },
  {
   "cell_type": "code",
   "execution_count": null,
   "metadata": {
    "colab": {
     "base_uri": "https://localhost:8080/"
    },
    "executionInfo": {
     "elapsed": 4316,
     "status": "ok",
     "timestamp": 1739707469750,
     "user": {
      "displayName": "조경아",
      "userId": "05652149574770065967"
     },
     "user_tz": -540
    },
    "id": "NBvDZMoNS_0B",
    "outputId": "1b76b011-b709-4431-f7b8-0675d03f3210"
   },
   "outputs": [
    {
     "name": "stdout",
     "output_type": "stream",
     "text": [
      "입력과 가장 유사한 예제: 부동산 투자의 장점은 무엇인가?\n",
      "\n",
      "\n",
      "answer: \n",
      "후속 질문이 필요한가요: 네.\n",
      "후속 질문: 부동산 투자의 위험도는 어느 정도인가요?\n",
      "중간 답변: 부동산 투자의 위험도는 중간 수준입니다.\n",
      "후속 질문: 채권의 위험도는 어느 정도인가요?\n",
      "중간 답변: 채권의 위험도는 낮은 편입니다.\n",
      "따라서 최종 답변은: 채권\n",
      "\n",
      "question: 부동산과 채권 중 어느 것이 더 안정적인 투자처인가?\n"
     ]
    }
   ],
   "source": [
    "# <예제 선택기를 이용한 퓨샷 프롬프트>\n",
    "\n",
    "# 라이브러리 불러오기\n",
    "from langchain_chroma import Chroma\n",
    "from langchain_core.example_selectors import SemanticSimilarityExampleSelector\n",
    "from langchain_openai import OpenAIEmbeddings\n",
    "\n",
    "# 예제 선택기 초기화\n",
    "example_selector = SemanticSimilarityExampleSelector.from_examples(\n",
    "    examples,  # 사용할 예제 목록\n",
    "    OpenAIEmbeddings(api_key=api_key),  # 임베딩 생성에 사용되는 클래스\n",
    "    Chroma,  # 임베딩을 저장하고 유사도 검색을 수행하는 벡터 스토어 클래스\n",
    "    k=1,  # 선택할 예제의 수\n",
    ")\n",
    "\n",
    "# 입력과 가장 유사한 예제 선택\n",
    "question = \"부동산 투자의 장점은 무엇인가?\"\n",
    "selected_examples = example_selector.select_examples({\"question\": question})\n",
    "\n",
    "# 선택된 예제 출력\n",
    "print(f\"입력과 가장 유사한 예제: {question}\")\n",
    "for example in selected_examples:\n",
    "    print(\"\\n\")\n",
    "    for k, v in example.items():\n",
    "        print(f\"{k}: {v}\")\n"
   ]
  },
  {
   "cell_type": "code",
   "execution_count": null,
   "metadata": {
    "id": "y-bttQQDrWtg"
   },
   "outputs": [],
   "source": [
    "# <퓨샷 프롬프트 AI 모델 적용>\n",
    "\n",
    "# 라이브러리 불러오기\n",
    "from langchain_core.prompts import FewShotPromptTemplate, PromptTemplate\n",
    "from langchain_openai import ChatOpenAI\n",
    "\n",
    "# 예제 프롬프트 템플릿 생성\n",
    "example_prompt = PromptTemplate(\n",
    "    input_variables=[\"question\", \"answer\"],\n",
    "    template=\"질문: {question}\\n답변: {answer}\"\n",
    ")\n",
    "\n",
    "# 퓨샷 프롬프트 템플릿 설정\n",
    "prompt = FewShotPromptTemplate(\n",
    "    example_selector=example_selector,\n",
    "    example_prompt=example_prompt,\n",
    "    prefix=\"다음은 금융 관련 질문과 답변의 예시입니다:\",\n",
    "    suffix=\"질문: {input}\\n답변:\",\n",
    "    input_variables=[\"input\"]\n",
    ")"
   ]
  },
  {
   "cell_type": "code",
   "execution_count": null,
   "metadata": {
    "id": "zvUGfk4NrWqJ"
   },
   "outputs": [],
   "source": [
    "# AI 모델 설정\n",
    "model = ChatOpenAI(model_name=\"gpt-4o\")"
   ]
  },
  {
   "cell_type": "code",
   "execution_count": null,
   "metadata": {
    "colab": {
     "base_uri": "https://localhost:8080/"
    },
    "executionInfo": {
     "elapsed": 2133,
     "status": "ok",
     "timestamp": 1739707596066,
     "user": {
      "displayName": "조경아",
      "userId": "05652149574770065967"
     },
     "user_tz": -540
    },
    "id": "L_Edh6LQrWnD",
    "outputId": "359ea5a5-ad2f-4c16-e39b-4215c0d7f1b5"
   },
   "outputs": [
    {
     "name": "stdout",
     "output_type": "stream",
     "text": [
      "부동산 투자의 장점에는 여러 가지가 있습니다. 우선, 부동산은 실물 자산으로서 가치를 유지할 가능성이 높으며, 인플레이션에 대한 보호 수단이 될 수 있습니다. 또한, 부동산은 장기적으로 가격이 상승하는 경향이 있어 자산 가치를 증대시킬 수 있습니다. 임대 수익을 통해 정기적인 현금 흐름을 창출할 수도 있습니다. 마지막으로, 부동산 투자는 세금 혜택을 받을 수 있는 다양한 방법이 존재하며, 포트폴리오 다각화의 수단이 될 수 있습니다.\n"
     ]
    }
   ],
   "source": [
    "# 체인 구성 및 실행\n",
    "chain = prompt | model  # RunnableSequence를 사용하여 체인 연결\n",
    "\n",
    "response = chain.invoke({\"input\": \"부동산 투자의 장점은 무엇인가?\"})  # invoke 메서드 사용\n",
    "print(response.content)"
   ]
  },
  {
   "cell_type": "code",
   "execution_count": null,
   "metadata": {
    "colab": {
     "base_uri": "https://localhost:8080/"
    },
    "executionInfo": {
     "elapsed": 402,
     "status": "ok",
     "timestamp": 1739707738898,
     "user": {
      "displayName": "조경아",
      "userId": "05652149574770065967"
     },
     "user_tz": -540
    },
    "id": "y6UaO3iprWhx",
    "outputId": "c93ee7aa-63fa-4fdf-9eeb-c06b828cc5b9"
   },
   "outputs": [
    {
     "name": "stderr",
     "output_type": "stream",
     "text": [
      "/usr/local/lib/python3.11/dist-packages/langsmith/client.py:253: LangSmithMissingAPIKeyWarning: API key must be provided when using hosted LangSmith API\n",
      "  warnings.warn(\n"
     ]
    },
    {
     "data": {
      "text/plain": [
       "ChatPromptTemplate(input_variables=['lazy_prompt', 'task'], input_types={}, partial_variables={}, metadata={'lc_hub_owner': 'hardkothari', 'lc_hub_repo': 'prompt-maker', 'lc_hub_commit_hash': 'c5db8eeefa7be4862a9599b759608dd10ee53f53910838f69abb5ab31c257c2d'}, messages=[SystemMessagePromptTemplate(prompt=PromptTemplate(input_variables=[], input_types={}, partial_variables={}, template='You are an expert Prompt Writer for Large Language Models.\\n\\n'), additional_kwargs={}), HumanMessagePromptTemplate(prompt=PromptTemplate(input_variables=['lazy_prompt', 'task'], input_types={}, partial_variables={}, template='Your goal is to improve the prompt given below for {task} :\\n--------------------\\n\\nPrompt: {lazy_prompt}\\n\\n--------------------\\n\\nHere are several tips on writing great prompts:\\n\\n-------\\n\\nStart the prompt by stating that it is an expert in the subject.\\n\\nPut instructions at the beginning of the prompt and use ### or to separate the instruction and context \\n\\nBe specific, descriptive and as detailed as possible about the desired context, outcome, length, format, style, etc \\n\\n---------\\n\\nHere\\'s an example of a great prompt:\\n\\nAs a master YouTube content creator, develop an engaging script that revolves around the theme of \"Exploring Ancient Ruins.\"\\n\\nYour script should encompass exciting discoveries, historical insights, and a sense of adventure.\\n\\nInclude a mix of on-screen narration, engaging visuals, and possibly interactions with co-hosts or experts.\\n\\nThe script should ideally result in a video of around 10-15 minutes, providing viewers with a captivating journey through the secrets of the past.\\n\\nExample:\\n\\n\"Welcome back, fellow history enthusiasts, to our channel! Today, we embark on a thrilling expedition...\"\\n\\n-----\\n\\nNow, improve the prompt.\\n\\nIMPROVED PROMPT:'), additional_kwargs={})])"
      ]
     },
     "execution_count": 23,
     "metadata": {},
     "output_type": "execute_result"
    }
   ],
   "source": [
    "# <랭체인 허브의 특정 프롬프트 불러오기>\n",
    "\n",
    "from langchain import hub\n",
    "# 최신 버전의 프롬프트 불러오기\n",
    "prompt = hub.pull(\"hardkothari/prompt-maker\")\n",
    "# 특정 버전의 프롬프트 불러오기\n",
    "hub.pull(\"hardkothari/prompt-maker\")\n"
   ]
  },
  {
   "cell_type": "code",
   "execution_count": null,
   "metadata": {
    "id": "uUz82BZEoZqE"
   },
   "outputs": [],
   "source": []
  }
 ],
 "metadata": {
  "colab": {
   "authorship_tag": "ABX9TyPvxw0aGU93WrAiSfTp7PHA",
   "provenance": [
    {
     "file_id": "1wlUQ92nxdUV9kVDpIgaLILzmrtYCBJK7",
     "timestamp": 1727090667415
    },
    {
     "file_id": "19b9Fac4cyr4dVqYzCPfQS6a0TSSWMIrB",
     "timestamp": 1727084186884
    }
   ]
  },
  "kernelspec": {
   "display_name": "Python 3",
   "name": "python3"
  },
  "language_info": {
   "name": "python"
  }
 },
 "nbformat": 4,
 "nbformat_minor": 0
}
