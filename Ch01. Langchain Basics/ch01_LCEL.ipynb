{
 "cells": [
  {
   "cell_type": "code",
   "execution_count": null,
   "metadata": {
    "colab": {
     "base_uri": "https://localhost:8080/"
    },
    "executionInfo": {
     "elapsed": 54236,
     "status": "ok",
     "timestamp": 1742716969128,
     "user": {
      "displayName": "조경아",
      "userId": "05652149574770065967"
     },
     "user_tz": -540
    },
    "id": "Ojlsc5Izydm6",
    "outputId": "79107127-cd7f-4420-b857-9a0318b6c61b"
   },
   "outputs": [
    {
     "name": "stdout",
     "output_type": "stream",
     "text": [
      "Mounted at /content/drive\n"
     ]
    }
   ],
   "source": [
    "# from google.colab import drive\n",
    "# drive.mount('/content/drive')"
   ]
  },
  {
   "cell_type": "code",
   "execution_count": null,
   "metadata": {
    "id": "PeY1QEffyjJp"
   },
   "outputs": [],
   "source": [
    "# %%capture --no-stderr\n",
    "# !pip install python-dotenv openAI langchain_core langchain_openai"
   ]
  },
  {
   "cell_type": "code",
   "execution_count": null,
   "metadata": {
    "id": "gvSfsBH6yjHD"
   },
   "outputs": [],
   "source": [
    "# 환경변수 설정"
   ]
  },
  {
   "cell_type": "code",
   "execution_count": 1,
   "metadata": {
    "id": "-KGYBfqCyjEY"
   },
   "outputs": [],
   "source": [
    "# 라이브러리 불러오기\n",
    "from dotenv import load_dotenv\n",
    "import os\n",
    "from langchain_openai import OpenAI"
   ]
  },
  {
   "cell_type": "code",
   "execution_count": 3,
   "metadata": {
    "id": "OSofIHmFyjBh"
   },
   "outputs": [],
   "source": [
    "# .env 파일에서 환경 변수 로드\n",
    "# load_dotenv(\"/content/.env\")\n",
    "load_dotenv(\"/.env\")\n",
    "# 환경 변수에서 API 키 가져오기\n",
    "api_key = os.getenv(\"OPENAI_API_KEY\")\n",
    "api_key\n",
    "# 오픈AI 대규모 언어 모델 초기화\n",
    "llm = OpenAI()"
   ]
  },
  {
   "cell_type": "code",
   "execution_count": 4,
   "metadata": {
    "colab": {
     "base_uri": "https://localhost:8080/",
     "height": 89
    },
    "executionInfo": {
     "elapsed": 2781,
     "status": "ok",
     "timestamp": 1742717026841,
     "user": {
      "displayName": "조경아",
      "userId": "05652149574770065967"
     },
     "user_tz": -540
    },
    "id": "vc9C4EI3y44P",
    "outputId": "143595d6-b8d5-467b-caf7-a38a60047fd7"
   },
   "outputs": [
    {
     "data": {
      "text/plain": [
       "\"더블딥(Double Dip)은 경제학에서 사용되는 용어로, 경기침체 후 경제가 회복되지 않고 다시 침체에 접어드는 현상을 의미합니다. 보통 첫 번째 침체가 끝난 후 일시적인 회복세가 나타나지만, 이 과정이 지속되지 않고 다시 경제가 악화되면 '더블딥'이라고 부릅니다. 이 현상은 소비자 신뢰도 감소, 글로벌 경제 불안정성, 실업률 증가 등 여러 요인에 의해 발생할 수 있습니다. 더블딥은 경제 정책 입안자들에게 중요한 도전 과제가 됩니다.\""
      ]
     },
     "execution_count": 4,
     "metadata": {},
     "output_type": "execute_result"
    }
   ],
   "source": [
    "# <호출(invoke) 출력>\n",
    "\n",
    "# 라이브러리 불러오기\n",
    "from langchain_openai import ChatOpenAI\n",
    "from langchain_core.prompts import ChatPromptTemplate\n",
    "from langchain_core.output_parsers import StrOutputParser\n",
    "\n",
    "# 오픈AI의 대규모 언어 모델 설정\n",
    "model = ChatOpenAI(model=\"gpt-4o-mini\")\n",
    "\n",
    "# 프롬프트 템플릿 정의: 주어진 주제에 대한 설명 요청\n",
    "prompt = ChatPromptTemplate.from_template(\"주제 {topic}에 대해 짧게 설명을 해주세요\")\n",
    "# 출력 파서 정의: AI 메시지의 출력 내용을 추출\n",
    "parser = StrOutputParser()\n",
    "# 프롬프트, 모델, 출력 파서를 체인으로 연결\n",
    "chain = prompt | model | parser\n",
    "\n",
    "# 응답을 호출\n",
    "chain.invoke({\"topic\":\"더블딥\"})\n"
   ]
  },
  {
   "cell_type": "code",
   "execution_count": null,
   "metadata": {
    "colab": {
     "base_uri": "https://localhost:8080/"
    },
    "executionInfo": {
     "elapsed": 2800,
     "status": "ok",
     "timestamp": 1739706344821,
     "user": {
      "displayName": "조경아",
      "userId": "05652149574770065967"
     },
     "user_tz": -540
    },
    "id": "xAFx-KbVy41N",
    "outputId": "eef0436a-9d75-475e-b6f2-84da05a41d14"
   },
   "outputs": [
    {
     "data": {
      "text/plain": [
       "['더블딥(두 번째 하강)은 경제학에서 경기침체의 형태 중 하나로, 첫 번째 경기침체에서 회복된 후 다시 경제가 침체되는 현상을 의미합니다. 이 과정은 통상적으로 경기 회복세가 일시적일 때 발생하며, 생산과 고용이 회복된 것처럼 보이지만 다시 악화되는 상황을 가리킵니다. 더블딥은 통화 정책, 투자 감소, 소비자 신뢰 부족 등 여러 요인에 의해 촉발될 수 있습니다. 이 현상은 경제 전반에 불확실성을 가져오고, 정책 입안자들에게는 복잡한 도전 과제가 됩니다.',\n",
       " '인플레이션은 일반적인 물가 수준이 지속적으로 상승하는 현상을 말합니다. 이는 화폐의 구매력이 감소함을 의미하며, 예를 들어 같은 금액으로 구매할 수 있는 상품의 수가 줄어드는 것입니다. 인플레이션의 원인은 다양한데, 수요가 공급을 초과할 때, 제조 비용이 증가할 때, 중앙은행의 통화 정책 등이 있습니다. moderate한 인플레이션은 경제 성장의 일부로 긍정적인 영향을 미칠 수 있지만, 지나치게 높은 인플레이션은 경제에 부정적 영향을 미쳐 소비자 신뢰와 투자에 악영향을 줄 수 있습니다.']"
      ]
     },
     "execution_count": 7,
     "metadata": {},
     "output_type": "execute_result"
    }
   ],
   "source": [
    "# <배치(Batch) 출력>\n",
    "\n",
    "# 주어진 주제 리스트를 배치로 출력\n",
    "chain.batch([{\"topic\": \"더블딥\"}, {\"topic\": \"인플레이션\"}])"
   ]
  },
  {
   "cell_type": "code",
   "execution_count": null,
   "metadata": {
    "colab": {
     "base_uri": "https://localhost:8080/"
    },
    "executionInfo": {
     "elapsed": 1945,
     "status": "ok",
     "timestamp": 1739706346764,
     "user": {
      "displayName": "조경아",
      "userId": "05652149574770065967"
     },
     "user_tz": -540
    },
    "id": "MWkM8lzpydgU",
    "outputId": "008985d3-8148-4aec-ecec-6a883a0f2b29"
   },
   "outputs": [
    {
     "name": "stdout",
     "output_type": "stream",
     "text": [
      "더블딥(Dual Dip)은 경제학이나 금융에서 사용되는 용어로, 주로 경기 침체 상황을 설명하는 데 쓰입니다. 일반적으로 경제가 한 번 침체한 뒤 회복되다가 다시 또다시 침체에 빠지는 경우를 가리킵니다. 이는 'W' 형태의 회복 곡선으로 시각화될 수 있으며, 한 번의 침체 후 회복이 단기간에 끝나지 않고 다시 하락하는 현상을 나타냅니다. 주로 경제 위기나 불황의 연속적인 영향을 분석할 때 중요한 개념으로 활용됩니다."
     ]
    }
   ],
   "source": [
    "# <스트림(Stream) 출력>\n",
    "\n",
    "# 응답을 토큰 단위로 스트리밍하여 출력\n",
    "for token in chain.stream({\"topic\":\"더블딥\"}):\n",
    "    # 스트리밍된 내용을 출력, 각 내용을 붙여서 출력하며, 버퍼를 즉시 플러시하여 실시간으로 보여줌\n",
    "    print(token, end=\"\", flush=True)\n"
   ]
  },
  {
   "cell_type": "code",
   "execution_count": null,
   "metadata": {
    "colab": {
     "base_uri": "https://localhost:8080/",
     "height": 72
    },
    "executionInfo": {
     "elapsed": 4122,
     "status": "ok",
     "timestamp": 1739706981505,
     "user": {
      "displayName": "조경아",
      "userId": "05652149574770065967"
     },
     "user_tz": -540
    },
    "id": "zuXUZGk5RezV",
    "outputId": "759beeac-50cd-4c5d-96e3-978e7d538290"
   },
   "outputs": [
    {
     "data": {
      "application/vnd.google.colaboratory.intrinsic+json": {
       "type": "string"
      },
      "text/plain": [
       "'\"Double Dip\" is a term used in economics to refer to a situation where a recession occurs followed by an additional period of recession. In other words, it describes a scenario where the economy appears to recover temporarily, only to return to a downward trend. This phenomenon can be triggered by instability in consumer confidence or various external factors, indicating that the economy worsens again before it fully recovers.'"
      ]
     },
     "execution_count": 15,
     "metadata": {},
     "output_type": "execute_result"
    }
   ],
   "source": [
    "# <구성된 체인을 다른 러너블과 결합하기>\n",
    "\n",
    "# 라이브러리 불러오기\n",
    "from langchain_core.prompts import ChatPromptTemplate\n",
    "from langchain_core.output_parsers import StrOutputParser\n",
    "\n",
    "# \"이 대답을 영어로 번역해 주세요\"라는 질문을 생성하는 프롬프트 템플릿을 정의\n",
    "analysis_prompt = ChatPromptTemplate.from_template(\"이 대답을 영어로 번역해 주세요: {answer}\")\n",
    "\n",
    "# 이전에 정의된 체인(chain)을 사용하여 대답을 생성하고, 그 대답을 영어로 번역하도록 프롬프트에 전달한 후, 모델을 통해 결과를 생성하여 최종적으로 문자열로 파싱하는 체인을 구성\n",
    "composed_chain = {\"answer\": chain} | analysis_prompt | model | StrOutputParser()\n",
    "# \"더블딥\"이라는 주제로 대답을 생성하고, 체인 실행\n",
    "composed_chain.invoke({\"topic\": \"더블딥\"})"
   ]
  },
  {
   "cell_type": "code",
   "execution_count": null,
   "metadata": {
    "colab": {
     "base_uri": "https://localhost:8080/",
     "height": 125
    },
    "executionInfo": {
     "elapsed": 4112,
     "status": "ok",
     "timestamp": 1742717279858,
     "user": {
      "displayName": "조경아",
      "userId": "05652149574770065967"
     },
     "user_tz": -540
    },
    "id": "REkoh1jyRfxx",
    "outputId": "67d25e54-31d1-455b-e662-f7594ac4a915"
   },
   "outputs": [
    {
     "data": {
      "application/vnd.google.colaboratory.intrinsic+json": {
       "type": "string"
      },
      "text/plain": [
       "'\"Double Dip\" is a term used in economics that generally refers to the phenomenon where an economy experiences a recession, shows a brief recovery, and then falls back into a recession again. This contrasts with V-shaped or U-shaped recoveries, as it indicates that the economy does not fully recover and instead exhibits repeated downturns. It typically occurs during serious economic crises or recessions and can happen in situations where consumer confidence and investment sentiment have not fully recovered.'"
      ]
     },
     "execution_count": 11,
     "metadata": {},
     "output_type": "execute_result"
    }
   ],
   "source": [
    "# <람다 함수를 사용한 체인을 통해 구성하기>\n",
    "\n",
    "# 이전에 정의된 값들\n",
    "model = ChatOpenAI(model=\"gpt-4o-mini\")\n",
    "prompt = ChatPromptTemplate.from_template(\"{topic}에 대해 짧게 설명을 해주세요.\")\n",
    "chain = prompt | model | StrOutputParser()\n",
    "analysis_prompt = ChatPromptTemplate.from_template(\"이 대답을 영어로 번역해 주세요: {answer}\")\n",
    "\n",
    "# 람다 함수를 사용한 체인 구성\n",
    "composed_chain_with_lambda = (\n",
    "    # 이전에 정의된 체인(chain)을 사용하여 입력된 데이터를 받아옵니다.\n",
    "    chain\n",
    "    # 입력된 데이터를 \"answer\" 키로 변환하는 람다 함수를 적용합니다.\n",
    "    | (lambda input: {\"answer\": input})\n",
    "    # \"answer \" 키를 가진 데이터를 영어로 번역하도록 프롬프트에 전달합니다.\n",
    "    | analysis_prompt\n",
    "    # 프롬프트에서 생성된 요청을 모델에 전달하여 결과를 생성합니다.\n",
    "    | model\n",
    "    # 모델에서 반환된 결과를 문자열로 파싱합니다.\n",
    "    | StrOutputParser()\n",
    ")\n",
    "# \"더블딥\"라는 주제로 대답을 생성하고, 그 대답을 영어로 번역합니다.\n",
    "composed_chain_with_lambda.invoke({\"topic\": \"더블딥\"})\n"
   ]
  },
  {
   "cell_type": "code",
   "execution_count": null,
   "metadata": {
    "colab": {
     "base_uri": "https://localhost:8080/",
     "height": 125
    },
    "executionInfo": {
     "elapsed": 3723,
     "status": "ok",
     "timestamp": 1742717461316,
     "user": {
      "displayName": "조경아",
      "userId": "05652149574770065967"
     },
     "user_tz": -540
    },
    "id": "gus0UrhbRfuj",
    "outputId": "7aade7e6-91ba-45d2-ecfb-399b3002fbeb"
   },
   "outputs": [
    {
     "data": {
      "application/vnd.google.colaboratory.intrinsic+json": {
       "type": "string"
      },
      "text/plain": [
       "'Double Dip refers to a situation in the economy where two recessions occur. It describes a scenario where the economy temporarily recovers after the first recession, only to quickly lead into a second recession. This phenomenon typically arises in situations where economic recovery is incomplete or consumer confidence is low, making sustained growth difficult. Economically, it represents a complex business cycle characterized by the repetition of downturns and recoveries.'"
      ]
     },
     "execution_count": 15,
     "metadata": {},
     "output_type": "execute_result"
    }
   ],
   "source": [
    "# <`.pipe()`를 통해 체인 구성하기>\n",
    "\n",
    "# (방법1) 여러 작업을 순차적으로 .pipe를 통해 연결하여 체인 구성하기\n",
    "composed_chain_with_pipe = (\n",
    "  # 이전에 정의된 체인(chain)으로 입력된 데이터를 받아옴\n",
    "  chain\n",
    "  # 입력된 데이터를 \"answer\" 키로 변환하는 람다 함수 적용\n",
    "  .pipe(lambda input: {\"answer\": input})\n",
    "  # analysis_prompt를 체인에 연결하여 설명을 영어로 번역하는 작업 추가\n",
    "  .pipe(analysis_prompt)\n",
    "  # 모델을 사용해 응답 생성\n",
    "  .pipe(model)\n",
    "  # 생성된 응답을 문자열로 파싱\n",
    "  .pipe(StrOutputParser())\n",
    ")\n",
    "# \"더블딥\"이라는 주제로 체인을 실행하여 답변 생성\n",
    "composed_chain_with_pipe.invoke({\"topic\": \"더블딥\"})\n"
   ]
  },
  {
   "cell_type": "code",
   "execution_count": null,
   "metadata": {
    "colab": {
     "base_uri": "https://localhost:8080/",
     "height": 107
    },
    "executionInfo": {
     "elapsed": 3482,
     "status": "ok",
     "timestamp": 1742717497853,
     "user": {
      "displayName": "조경아",
      "userId": "05652149574770065967"
     },
     "user_tz": -540
    },
    "id": "Tro3642IRfrL",
    "outputId": "3c201a05-a533-4f54-ae15-eef47bf80076"
   },
   "outputs": [
    {
     "data": {
      "application/vnd.google.colaboratory.intrinsic+json": {
       "type": "string"
      },
      "text/plain": [
       "'Double Dip is a term used in economics that refers to the phenomenon where the economy recovers after a recession, only to fall into another recession again. In other words, instead of a V-shaped recovery, the economic cycle appears in a W shape. This scenario can arise due to factors such as declining consumer confidence, job instability, and external shocks, and it typically reflects uncertainty and volatility in the economy.'"
      ]
     },
     "execution_count": 16,
     "metadata": {},
     "output_type": "execute_result"
    }
   ],
   "source": [
    "# (방법2) 좀 더 간단하게 연결하기\n",
    "composed_chain_with_pipe = chain.pipe(lambda input:{\"answer\":input}, analysis_prompt, model, StrOutputParser())\n",
    "\n",
    "# \"더블딥\"이라는 주제로 체인을 실행하여 답변 생성\n",
    "composed_chain_with_pipe.invoke({\"topic\": \"더블딥\"})"
   ]
  },
  {
   "cell_type": "code",
   "execution_count": null,
   "metadata": {
    "colab": {
     "base_uri": "https://localhost:8080/"
    },
    "executionInfo": {
     "elapsed": 1549,
     "status": "ok",
     "timestamp": 1742717520615,
     "user": {
      "displayName": "조경아",
      "userId": "05652149574770065967"
     },
     "user_tz": -540
    },
    "id": "ZRUFeCaUAkuf",
    "outputId": "69f84616-09a0-459e-dc14-4d12286459e0"
   },
   "outputs": [
    {
     "name": "stdout",
     "output_type": "stream",
     "text": [
      "한글 설명: 더블딥(Double deep)은 딥러닝 모델 중 하나로, 심층신경망(deep neural network)의 확장형태입니다. 즉, 더블딥은 두 개의 딥러닝 모델을 연결한 것을 의미합니다. 이러한 구조를 사용하여 보다 복잡하고 정교한 문제를 해결하거나, 더 많은 데이터를 처리할 수 있습니다.더블딥은 일반적인 딥러닝 모델보다 더 강력한 성능을 보여줄 수 있지만, 그만큼 학습과 모델 구성에 더 많은 노력이 필요합니다.\n",
      "영어 설명: Double deep is a type of artificial neural network with multiple layers of neurons, allowing for more complex and accurate patterns to be learned and processed.\n"
     ]
    }
   ],
   "source": [
    "# <`RunnableParallel`을 이용한 체인 구성>\n",
    "from langchain_core.runnables import RunnableParallel\n",
    "# OpenAI 모델 초기화\n",
    "model = ChatOpenAI()\n",
    "# 한국어 설명 생성 프롬프트 체인\n",
    "kor_chain = (\n",
    "    ChatPromptTemplate.from_template(\"{topic}에 대해 짧은 설명을 해주세요.\")\n",
    "    | model\n",
    "    | StrOutputParser()\n",
    ")\n",
    "# 영어 설명 생성 프롬프트 체인\n",
    "eng_chain = (\n",
    "    ChatPromptTemplate.from_template(\"{topic}에 대해 짧게 영어로 설명을 해주세요.\")\n",
    "    | model\n",
    "    | StrOutputParser()\n",
    ")\n",
    "# 병렬 실행을 위한 RunnableParallel 설정\n",
    "parallel_chain = RunnableParallel(kor=kor_chain, eng=eng_chain)\n",
    "# 주제에 대한 한국어와 영어 설명 생성\n",
    "result = parallel_chain.invoke({\"topic\": \"더블딥\"})\n",
    "# 결과 출력\n",
    "print(\"한글 설명:\", result['kor'])\n",
    "print(\"영어 설명:\", result['eng'])\n"
   ]
  },
  {
   "cell_type": "code",
   "execution_count": null,
   "metadata": {
    "colab": {
     "base_uri": "https://localhost:8080/"
    },
    "executionInfo": {
     "elapsed": 2868,
     "status": "ok",
     "timestamp": 1739707159170,
     "user": {
      "displayName": "조경아",
      "userId": "05652149574770065967"
     },
     "user_tz": -540
    },
    "id": "KN9Q20ZYnu4S",
    "outputId": "aa9a9498-463a-42cb-bc75-67747a54491b"
   },
   "outputs": [
    {
     "name": "stdout",
     "output_type": "stream",
     "text": [
      "한글 설명: 더블딥은 두 개 이상의 노래를 동시에 녹음하는 음악 기술이다. 각 노래는 다른 리듬, 템포, 가사 및 음악적 특징을 가지고 있으며, 오디오 편집 소프트웨어를 사용하여 이 노래들을 함께 조합하여 새로운 음악적 경험을 만들어낸다. 이는 혼합된 사운드와 효과를 만들어내는 창의적인 기술로, 음악 제작자와 프로듀서들 사이에서 널리 사용되고 있다.\n",
      "영어 설명: Double deep learning is a machine learning method that combines two deep learning models to improve the performance and accuracy of the overall system. By combining the strengths of two separate models, it aims to maximize the potential of deep learning techniques for solving complex problems.\n"
     ]
    }
   ],
   "source": [
    "# <`RunnableParallel`를 이용한 체인 구성하기>\n",
    "from langchain_core.runnables import RunnableParallel\n",
    "# OpenAI 모델 초기화\n",
    "model = ChatOpenAI()\n",
    "# 한국어 설명 생성 프롬프트 체인\n",
    "kor_chain = (\n",
    "    ChatPromptTemplate.from_template(\"{topic}에 대해 짧게 설명을 해주세요.\")\n",
    "    | model\n",
    "    | StrOutputParser()\n",
    ")\n",
    "# 영어 설명 생성 프롬프트 체인\n",
    "eng_chain = (\n",
    "    ChatPromptTemplate.from_template(\"{topic}에 대해 짧게 영어로 설명을 해주세요.\")\n",
    "    | model\n",
    "    | StrOutputParser()\n",
    ")\n",
    "# 병렬 실행을 위한 RunnableParallel 설정\n",
    "parallel_chain = RunnableParallel(kor=kor_chain, eng=eng_chain)\n",
    "# 주제에 대한 한국어와 영어 설명 생성\n",
    "result = parallel_chain.invoke({\"topic\": \"더블딥\"})\n",
    "# 결과 출력\n",
    "print(\"한글 설명:\", result['kor'])\n",
    "print(\"영어 설명:\", result['eng'])\n"
   ]
  },
  {
   "cell_type": "code",
   "execution_count": null,
   "metadata": {
    "colab": {
     "base_uri": "https://localhost:8080/"
    },
    "executionInfo": {
     "elapsed": 4,
     "status": "ok",
     "timestamp": 1739706364282,
     "user": {
      "displayName": "조경아",
      "userId": "05652149574770065967"
     },
     "user_tz": -540
    },
    "id": "uJ7AYpAxTADZ",
    "outputId": "7c412097-5670-4501-a3dd-c70ef547ece9"
   },
   "outputs": [
    {
     "name": "stdout",
     "output_type": "stream",
     "text": [
      "!기하부공 인체랭\n"
     ]
    }
   ],
   "source": [
    "# 참고\n",
    "class CustomLCEL:\n",
    "    def __init__(self, value):\n",
    "        self.value = value  # 객체 생성 시 값을 초기화합니다.\n",
    "    def __or__(self, other):\n",
    "        if callable(other):\n",
    "            return CustomLCEL(other(self.value))  # other가 함수일 경우, 함수를 호출하고 그 결과를 새로운 객체로 반환합니다.\n",
    "        else:\n",
    "            raise ValueError(\"Right operand must be callable\")  # other가 함수가 아니면 에러를 발생시킵니다.\n",
    "    def result(self):\n",
    "        return self.value  # 현재 값을 반환합니다.\n",
    "# 문자열 끝에 느낌표를 추가하는 함수\n",
    "def add_exclamation(s):\n",
    "    return s + \"!\"\n",
    "# 문자열을 뒤집는 함수\n",
    "def reverse_string(s):\n",
    "    return s[::-1]\n",
    "# 파이프라인을 생성하여 순차적으로 문자열 변환 작업을 수행합니다.\n",
    "custom_chain = (\n",
    "    CustomLCEL(\"랭체인 공부하기\")  # \"랭체인 공부하기\"로 초기화된 객체 생성\n",
    "    | add_exclamation  # 느낌표 추가\n",
    "    | reverse_string  # 문자열 뒤집기\n",
    ")\n",
    "# 최종 결과를 출력합니다.\n",
    "result = custom_chain.result()\n",
    "print(result)\n",
    "# 출력: !기하부공 인체랭\n"
   ]
  },
  {
   "cell_type": "code",
   "execution_count": null,
   "metadata": {
    "id": "UkKmhOFik4TV"
   },
   "outputs": [],
   "source": []
  }
 ],
 "metadata": {
  "colab": {
   "authorship_tag": "ABX9TyNV3FCHSdGKjbcraJZ1th3C",
   "provenance": [
    {
     "file_id": "19b9Fac4cyr4dVqYzCPfQS6a0TSSWMIrB",
     "timestamp": 1727084186884
    }
   ]
  },
  "kernelspec": {
   "display_name": ".venv",
   "language": "python",
   "name": "python3"
  },
  "language_info": {
   "codemirror_mode": {
    "name": "ipython",
    "version": 3
   },
   "file_extension": ".py",
   "mimetype": "text/x-python",
   "name": "python",
   "nbconvert_exporter": "python",
   "pygments_lexer": "ipython3",
   "version": "3.12.10"
  }
 },
 "nbformat": 4,
 "nbformat_minor": 0
}
