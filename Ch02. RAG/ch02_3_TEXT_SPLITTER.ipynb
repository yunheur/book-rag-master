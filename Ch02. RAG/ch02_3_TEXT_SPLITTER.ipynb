{
 "cells": [
  {
   "cell_type": "code",
   "execution_count": null,
   "metadata": {
    "colab": {
     "base_uri": "https://localhost:8080/"
    },
    "executionInfo": {
     "elapsed": 20927,
     "status": "ok",
     "timestamp": 1738291064091,
     "user": {
      "displayName": "조경아",
      "userId": "05652149574770065967"
     },
     "user_tz": -540
    },
    "id": "Ojlsc5Izydm6",
    "outputId": "05700ddc-552d-4510-9211-1410ee7329c5"
   },
   "outputs": [
    {
     "name": "stdout",
     "output_type": "stream",
     "text": [
      "Mounted at /content/drive\n"
     ]
    }
   ],
   "source": [
    "# from google.colab import drive\n",
    "# drive.mount('/content/drive')"
   ]
  },
  {
   "cell_type": "code",
   "execution_count": null,
   "metadata": {
    "collapsed": true,
    "id": "PeY1QEffyjJp"
   },
   "outputs": [],
   "source": [
    "# %%capture --no-stderr\n",
    "# !pip install python-dotenv langchain_openai langchain_experimental langchain_community pypdf langchain pymupdf"
   ]
  },
  {
   "cell_type": "code",
   "execution_count": null,
   "metadata": {
    "id": "khfH_LiHOMwH"
   },
   "outputs": [],
   "source": [
    "# 환경변수 설정"
   ]
  },
  {
   "cell_type": "code",
   "execution_count": null,
   "metadata": {
    "id": "-KGYBfqCyjEY"
   },
   "outputs": [],
   "source": [
    "# 라이브러리 불러오기\n",
    "import os\n",
    "from dotenv import load_dotenv\n",
    "\n",
    "# .env 파일에서 환경 변수 로드\n",
    "load_dotenv(\"/content/.env\")\n",
    "# 환경 변수에서 API 키 가져오기\n",
    "api_key = os.getenv(\"OPENAI_API_KEY\")"
   ]
  },
  {
   "cell_type": "code",
   "execution_count": null,
   "metadata": {
    "id": "m6GqDTFCaldW"
   },
   "outputs": [],
   "source": [
    "# <ReursiveCharacterTextSplitter>\n",
    "# 라이브러리 불러오기\n",
    "from langchain.text_splitter import RecursiveCharacterTextSplitter\n",
    "from langchain_community.document_loaders import PyPDFLoader"
   ]
  },
  {
   "cell_type": "code",
   "execution_count": null,
   "metadata": {
    "colab": {
     "base_uri": "https://localhost:8080/"
    },
    "executionInfo": {
     "elapsed": 16507,
     "status": "ok",
     "timestamp": 1738291156092,
     "user": {
      "displayName": "조경아",
      "userId": "05652149574770065967"
     },
     "user_tz": -540
    },
    "id": "47PAavRWDfUU",
    "outputId": "8141b02c-558c-4be3-8bea-1c84e56d7d81"
   },
   "outputs": [
    {
     "name": "stdout",
     "output_type": "stream",
     "text": [
      "총 글자 수: 90699\n"
     ]
    }
   ],
   "source": [
    "# PyPDFLoader를 사용하여 PDF 파일 로드\n",
    "loader = PyPDFLoader(\"/content/drive/MyDrive/langchain-tutorial/Ch02. RAG/Data/2024_KB_부동산_보고서_최종.pdf\")\n",
    "pages = loader.load()\n",
    "\n",
    "# PDF 파일의 모든 페이지에서 텍스트를 추출하여 총 글자 수 계산\n",
    "print('총 글자 수:', len(''.join([i.page_content for i in pages])))\n"
   ]
  },
  {
   "cell_type": "code",
   "execution_count": null,
   "metadata": {
    "colab": {
     "base_uri": "https://localhost:8080/"
    },
    "executionInfo": {
     "elapsed": 13,
     "status": "ok",
     "timestamp": 1738291156092,
     "user": {
      "displayName": "조경아",
      "userId": "05652149574770065967"
     },
     "user_tz": -540
    },
    "id": "vp-XIQhj3aYA",
    "outputId": "e051dbe8-aa78-4bf9-a0fb-ddd5b6bb0f74"
   },
   "outputs": [
    {
     "name": "stdout",
     "output_type": "stream",
     "text": [
      "분할된 청크의 수: 242\n"
     ]
    }
   ],
   "source": [
    "# RecursiveCharacterTextSplitter 초기화\n",
    "text_splitter = RecursiveCharacterTextSplitter(chunk_size=500, chunk_overlap=100)\n",
    "\n",
    "# 문서 분할\n",
    "texts = text_splitter.split_documents(pages)\n",
    "print('분할된 청크의 수:', len(texts))"
   ]
  },
  {
   "cell_type": "code",
   "execution_count": null,
   "metadata": {
    "colab": {
     "base_uri": "https://localhost:8080/"
    },
    "executionInfo": {
     "elapsed": 12,
     "status": "ok",
     "timestamp": 1738291156092,
     "user": {
      "displayName": "조경아",
      "userId": "05652149574770065967"
     },
     "user_tz": -540
    },
    "id": "dAkwdykVwLH3",
    "outputId": "e2e3cfc8-228b-44cd-a31f-55ab1876ea77"
   },
   "outputs": [
    {
     "data": {
      "text/plain": [
       "Document(metadata={'source': '/content/drive/MyDrive/Colab Notebooks/langchain_book/2024_KB_부동산_보고서_최종.pdf', 'page': 1, 'page_label': '2'}, page_content='부담은 주택 수요를 크게 위축시킬 수밖에 없기 때문이다. 다만 주택시장의 주요 변수들의 상황에 따라 \\n소폭 반등 혹은 하락폭 확대 등의 방향이 정해질 것으로 보인다. \\n2024년 주택시장의 주요 변수는 공급과 금리다. 급격하게 위축된 주택 공급이 단기간에 증가하기는 \\n쉽지 않으나 정부의 공급 시그널이 지속된다면 일정 부분 해소가 될 가능성이 있다. 무엇보다 금리가 주요 \\n변수가 될 것이다. 기준금리 인하 시기와 인하 폭에 따라 주택 수요는 영향을 받을 수밖에 없기 때문이다. \\n한편, 수요 위축으로 거래가 급감한 상황에서 실수요자 금융 지원, 관련 규제 완화 등 수요 회복을 위한 \\n정부 정책도 중요한 변수가 될 전망이다. \\n \\n\\uf06e 7대 이슈를 통해 바라보는 2024년 주택시장 \\n1 역대 최저 수준이 지속되고 있는 주택 거래 \\n \\n주택 매매 거래는 2022년에 이어 2년 연속 침체. 총선 이후 정책 불확실성 해소와 금리 인하로 인한 회')"
      ]
     },
     "execution_count": 8,
     "metadata": {},
     "output_type": "execute_result"
    }
   ],
   "source": [
    "# 1 번째 청크 출력\n",
    "texts[1]"
   ]
  },
  {
   "cell_type": "code",
   "execution_count": null,
   "metadata": {
    "colab": {
     "base_uri": "https://localhost:8080/",
     "height": 70
    },
    "executionInfo": {
     "elapsed": 11,
     "status": "ok",
     "timestamp": 1738291156092,
     "user": {
      "displayName": "조경아",
      "userId": "05652149574770065967"
     },
     "user_tz": -540
    },
    "id": "wJFLPX7wS9by",
    "outputId": "f3ae987a-4524-4d90-cc36-d3d8181a9394"
   },
   "outputs": [
    {
     "data": {
      "application/vnd.google.colaboratory.intrinsic+json": {
       "type": "string"
      },
      "text/plain": [
       "'부담은 주택 수요를 크게 위축시킬 수밖에 없기 때문이다. 다만 주택시장의 주요 변수들의 상황에 따라 \\n소폭 반등 혹은 하락폭 확대 등의 방향이 정해질 것으로 보인다. \\n2024년 주택시장의 주요 변수는 공급과 금리다. 급격하게 위축된 주택 공급이 단기간에 증가하기는 \\n쉽지 않으나 정부의 공급 시그널이 지속된다면 일정 부분 해소가 될 가능성이 있다. 무엇보다 금리가 주요 \\n변수가 될 것이다. 기준금리 인하 시기와 인하 폭에 따라 주택 수요는 영향을 받을 수밖에 없기 때문이다. \\n한편, 수요 위축으로 거래가 급감한 상황에서 실수요자 금융 지원, 관련 규제 완화 등 수요 회복을 위한 \\n정부 정책도 중요한 변수가 될 전망이다. \\n \\n\\uf06e 7대 이슈를 통해 바라보는 2024년 주택시장 \\n1 역대 최저 수준이 지속되고 있는 주택 거래 \\n \\n주택 매매 거래는 2022년에 이어 2년 연속 침체. 총선 이후 정책 불확실성 해소와 금리 인하로 인한 회'"
      ]
     },
     "execution_count": 9,
     "metadata": {},
     "output_type": "execute_result"
    }
   ],
   "source": [
    "texts[1].page_content"
   ]
  },
  {
   "cell_type": "code",
   "execution_count": null,
   "metadata": {
    "colab": {
     "base_uri": "https://localhost:8080/",
     "height": 70
    },
    "executionInfo": {
     "elapsed": 9,
     "status": "ok",
     "timestamp": 1738291156092,
     "user": {
      "displayName": "조경아",
      "userId": "05652149574770065967"
     },
     "user_tz": -540
    },
    "id": "zBtREoxSS9X9",
    "outputId": "2f8cc3e0-e66f-442f-fbc5-4aa98d9a4f48"
   },
   "outputs": [
    {
     "data": {
      "application/vnd.google.colaboratory.intrinsic+json": {
       "type": "string"
      },
      "text/plain": [
       "'1 역대 최저 수준이 지속되고 있는 주택 거래 \\n \\n주택 매매 거래는 2022년에 이어 2년 연속 침체. 총선 이후 정책 불확실성 해소와 금리 인하로 인한 회\\n복 가능성이 있으나 일부 지역 수요 쏠림 현상과 금리 인하 속도가 더딜 경우 회복세는 제한적일 전망 \\n2 주택공급 급격한 감소로 인한 공급 부족 가능성 \\n \\n분양물량과 함께 장기적인 주택 공급 기반인 인허가물량까지 급감. 청약 수요 위축으로 분양 지연이 장기\\n화될 가능성이 높은 가운데 정부의 공급 정책 구체화가 매우 중요 \\n3 노후계획도시 특별법과 재건축 시장 영향 \\n \\n2023년 말 국회를 통과한 「노후계획도시 특별법」 시행을 앞두고 당초 51곳이었던 대상 지역이 108곳으\\n로 확대. 단기적 효과는 제한적이나 사업진행이 구체화되면 시장 영향도 커질 것  \\n4 전세 수요 아파트 집중, 입주물량 부족으로 가격 상승 가능성 확대'"
      ]
     },
     "execution_count": 10,
     "metadata": {},
     "output_type": "execute_result"
    }
   ],
   "source": [
    "texts[2].page_content"
   ]
  },
  {
   "cell_type": "code",
   "execution_count": null,
   "metadata": {
    "colab": {
     "base_uri": "https://localhost:8080/"
    },
    "executionInfo": {
     "elapsed": 8,
     "status": "ok",
     "timestamp": 1738291156092,
     "user": {
      "displayName": "조경아",
      "userId": "05652149574770065967"
     },
     "user_tz": -540
    },
    "id": "hqD7NVrSS9Uk",
    "outputId": "890e395f-944b-45f2-e1b2-e7f971165782"
   },
   "outputs": [
    {
     "name": "stdout",
     "output_type": "stream",
     "text": [
      "1번 청크의 길이: 471\n",
      "2번 청크의 길이: 442\n"
     ]
    }
   ],
   "source": [
    "print('1번 청크의 길이:', len(texts[1].page_content))\n",
    "print('2번 청크의 길이:', len(texts[2].page_content))"
   ]
  },
  {
   "cell_type": "code",
   "execution_count": null,
   "metadata": {
    "id": "Iofvxm7nLPgy"
   },
   "outputs": [],
   "source": [
    "# <SemanticChunker>\n",
    "# 라이브러리 불러오기\n",
    "from langchain_experimental.text_splitter import SemanticChunker\n",
    "from langchain_openai.embeddings import OpenAIEmbeddings\n",
    "from langchain_community.document_loaders import PyPDFLoader"
   ]
  },
  {
   "cell_type": "code",
   "execution_count": null,
   "metadata": {
    "id": "iaqn5Ij7bLww"
   },
   "outputs": [],
   "source": [
    "# PyPDFLoader를 사용하여 PDF 파일 로드\n",
    "loader = PyPDFLoader(\"/content/drive/MyDrive/langchain-tutorial/Ch02. RAG/Data/2024_KB_부동산_보고서_최종.pdf\")\n",
    "pages = loader.load()\n",
    "\n",
    "# SemanticChunker 초기화\n",
    "text_splitter = SemanticChunker(embeddings=OpenAIEmbeddings())\n",
    "\n",
    "# 텍스트를 의미 단위로 분할\n",
    "chunks = text_splitter.split_documents(pages)"
   ]
  },
  {
   "cell_type": "code",
   "execution_count": null,
   "metadata": {
    "colab": {
     "base_uri": "https://localhost:8080/"
    },
    "executionInfo": {
     "elapsed": 11,
     "status": "ok",
     "timestamp": 1738291241158,
     "user": {
      "displayName": "조경아",
      "userId": "05652149574770065967"
     },
     "user_tz": -540
    },
    "id": "_FGplL4cbExF",
    "outputId": "e2cf1914-4bb7-4a7a-860b-f3bad0bbe6c0"
   },
   "outputs": [
    {
     "name": "stdout",
     "output_type": "stream",
     "text": [
      "분할된 청크의 수: 165\n"
     ]
    }
   ],
   "source": [
    "# 분할된 청크 수\n",
    "print('분할된 청크의 수:', len(chunks))"
   ]
  },
  {
   "cell_type": "code",
   "execution_count": null,
   "metadata": {
    "colab": {
     "base_uri": "https://localhost:8080/"
    },
    "executionInfo": {
     "elapsed": 9,
     "status": "ok",
     "timestamp": 1738291241158,
     "user": {
      "displayName": "조경아",
      "userId": "05652149574770065967"
     },
     "user_tz": -540
    },
    "id": "oIQ6awPibErX",
    "outputId": "c0dcf631-c561-4cfe-ec13-792fad508d4a"
   },
   "outputs": [
    {
     "data": {
      "text/plain": [
       "Document(metadata={'source': '/content/drive/MyDrive/Colab Notebooks/langchain_book/2024_KB_부동산_보고서_최종.pdf', 'page': 2, 'page_label': '3'}, page_content=' \\n \\n                                                                                             2 \\n2024 KB 부동산 보고서: 2024년 주택시장 진단과 전망 \\n \\n \\n \\nExecutive Summary 2 \\n\\uf06e 주택 매매시장 하락 전망 우세, 부동산 투자 선호도 하락 \\n• 2024년 주택 매매가격 지난해에 이어 올해도 하락 전망 우세, 높은 금리가 가장 큰 부담 \\n부동산시장 전문가와 공인중개사, 자산관리전문가(PB)를 대상으로 한 설문 조사 결과, 2024년 전국 주택 \\n매매가격은 하락세가 이어질 것이라는 전망이 우세하였다. 다만 시장 급락에 대한 우려는 다소 완화된 \\n것으로 보인다.')"
      ]
     },
     "execution_count": 15,
     "metadata": {},
     "output_type": "execute_result"
    }
   ],
   "source": [
    "chunks[3]"
   ]
  },
  {
   "cell_type": "code",
   "execution_count": null,
   "metadata": {
    "colab": {
     "base_uri": "https://localhost:8080/"
    },
    "executionInfo": {
     "elapsed": 8,
     "status": "ok",
     "timestamp": 1738291241159,
     "user": {
      "displayName": "조경아",
      "userId": "05652149574770065967"
     },
     "user_tz": -540
    },
    "id": "2xgnDw-Fk5kw",
    "outputId": "7892a037-a8f2-4885-f2f1-39d0b1d0aca9"
   },
   "outputs": [
    {
     "data": {
      "text/plain": [
       "Document(metadata={'source': '/content/drive/MyDrive/Colab Notebooks/langchain_book/2024_KB_부동산_보고서_최종.pdf', 'page': 2, 'page_label': '3'}, page_content='상승에 대한 전망이 2023년 대비 크게 증가했기 때문이다(전문가 21%p, 공인중개사 \\n17%p, PB 13%p  증가). 매매가격 하락요인으로는 높은 금리에 따른 이자부담이 가장 중요한 이유로 \\n조사되었다. • 2024년 주택 전세가격, 비수도권은 하락 전망이 우세하나 수도권 전망은 엇갈려  \\n2024년 전국 주택 전세가격에 대해 전문가의 53%, 공인중개사의 61%가 하락을 전망하였다. 하락폭에 \\n대해서는 3% 이하가 될 것이라는 의견이 많았다. 다만 2023년 하락 전망이 압도적으로 우세했던 것과 \\n달리 2024년에는 상승과 하락 전망에 격차가 크지 않았다. 지역별로 수도권에서는 주택 전세가격이 \\n상승과 하락 의견이 엇갈렸으나 비수도권에서는 하락 전망이 우세하였다. • 경기 회복을 위해서는 금리 인하와 대출 규제 완화가 중요 변수 \\n주택 경기 회복을 위해 필요한 핵심 정책으로 전문가와 공인중개사, PB 모두 금리 인하를 꼽았다. 다음으로 주택담보대출 지원, LTV·DSR 등 금융 규제 완화가 필요하다는 의견이 많았다. 특히 공인중개사 \\n그룹에서 금리와 대출 관련 정책의 필요성을 높게 평가하였다. 이는 현재 주택시장 침체가 수요 감소에 \\n따른 영향이 크며 수요 회복 여부가 향후 시장 흐름을 결정할 핵심 요인이라는 인식이 반영된 결과로 \\n풀이된다. • 투자 유망 부동산으로 아파트 분양과 신축 아파트, 재건축 \\n전문가, 공인중개사, PB 는 공통적으로 2024년 투자 유망 부동산으로 아파트 분양과 신축 아파트, \\n재건축을 꼽았다. 아파트 분양과 신축 아파트는 지난해 비해 선호도가 높아졌으며, 재건축은 꾸준히 투자 \\n유망 부동산으로 주목을 받을 것으로 보인다. 전문가는 아파트 분양(28%), 공인중개사는 신축 \\n아파트(23%), PB는 재건축(27%)을 1순위 투자유망 부동산으로 꼽았다. • 고자산가는 투자 자산으로 예금과 채권을 선호, 부동산 경기 위축 및 고금리로 부동산 선호도는 하락  \\nPB 대상 설문조사에서 고자산가가 선호하는 투자 자산은 예금(29%), 채권(24%), 부동산(23%) 순으로 \\n나타났다. 부동산은 2017년 조사 이래 고자산가들이 가장 선호하는 투자 자산 부동의 1위 자리를 지켜 \\n왔으나 부동산시장이 위축되고 고금리 상황이 지속되면서 순위가 하락하였다. • 부동산 세무에 대한 상담 수요가 가장 높으며, 보유 부동산 처분에 대한 관심도 증가 \\n고자산가의 2023년 부동산 관련 상담 및 자문 1위는 지난해에 이어 부동산 세무(40%)가 차지했는데, \\n이는 여전히 높은 부동산 세금 부담 때문으로 판단된다. 이어서 수익형 부동산 구입(23%)과 보유 부동산 \\n처분(22%)에 관한 상담이 주를 이루었다. ')"
      ]
     },
     "execution_count": 16,
     "metadata": {},
     "output_type": "execute_result"
    }
   ],
   "source": [
    "chunks[4]"
   ]
  },
  {
   "cell_type": "code",
   "execution_count": null,
   "metadata": {
    "colab": {
     "base_uri": "https://localhost:8080/"
    },
    "executionInfo": {
     "elapsed": 7,
     "status": "ok",
     "timestamp": 1738291241159,
     "user": {
      "displayName": "조경아",
      "userId": "05652149574770065967"
     },
     "user_tz": -540
    },
    "id": "TgmYoH-Lk5il",
    "outputId": "0bafc828-cc08-4416-c8d8-4745cc8921f8"
   },
   "outputs": [
    {
     "data": {
      "text/plain": [
       "Document(metadata={'source': '/content/drive/MyDrive/Colab Notebooks/langchain_book/2024_KB_부동산_보고서_최종.pdf', 'page': 3, 'page_label': '4'}, page_content=' \\n \\n                                                                                             3 \\n2024 KB 부동산 보고서: 2024년 주택시장 진단과 전망 \\n \\n  \\n \\n \\nExecutive Summary 3 \\n\\uf06e 수도권 주택시장 전반적 침체, 강남권 등 선호 지역 상대적 강세 \\n과거와는 달리 높은 기준금리와 주택 매매가격, DSR 규제 등으로 매수자들의 구매 여력은 회복되지 \\n못하고 있으나, 2023년 이후 정부의 다양한 규제 완화로 매도자들의 기대 심리는 높아지고 있다. 재건축 \\n규제 완화, 광역급행철도(GTX, Great Train Express) 개통 등에 따라 지역별로 호재가 존재하며 부동산 \\nPF대출 부실, 전세보증금 반환 문제 등 전반적인 주택 경기 위축 요소들도 상존하고 있다. 구분 지역명 주요 이슈 \\n서울 \\n한강 \\n이남 \\n강남구 정부 규제 완화와 주택 수요 집중으로 긍정적 기대감 유지 \\n서초구 높은 분양가에도 청약 수요는 많으나 진행 중인 정비사업은 차별화 예상 \\n송파구 전세가격 하락에 영향을 줄 수 있는 대규모 단지 입주 예정 \\n양천구 재건축 사업 진행은 긍정적이나 토지거래허가구역으로 매매시장 위축 지속 \\n서울 \\n한강 \\n이북 \\n마포구 지역 내에서 매수세 변화가 나타나면서 지역간 매매가격 격차 확대 \\n용산구 한남뉴타운 사업 진행은 양호하나 여전히 큰 매도자와 매수자 간 간극 \\n성동구 대기 수요는 많으나 실제 매수 가담 여부가 중요한 요소로 작용할 것 \\n수도권 \\n위례 위례선 개통 예정과 위례신사선 착공 지연으로 긍정적·부정적 요인이 혼재 \\n과천 지식정보타운의 본격적인 입주와 교통 개발로 지역 확대 \\n동탄 교통 개선과 반도체 관련 수요보다 수도권 주택시장 및 금리 영향이 클 전망 \\n \\n\\uf06e 상업용 부동산시장  \\n고금리와 경기 불확실성 확대 영향으로 2023년 상업용 부동산시장은 거래량이 크게 감소하고 평균 \\n매매가격 역시 하락하였다. 거래량 감소와 함께 매매가격이 하락하면서 2023년 상업용 부동산 거래총액은 \\n2022년 대비 34.8% 감소했다.')"
      ]
     },
     "execution_count": 17,
     "metadata": {},
     "output_type": "execute_result"
    }
   ],
   "source": [
    "chunks[5]"
   ]
  },
  {
   "cell_type": "code",
   "execution_count": null,
   "metadata": {
    "colab": {
     "base_uri": "https://localhost:8080/"
    },
    "executionInfo": {
     "elapsed": 50005,
     "status": "ok",
     "timestamp": 1738291291159,
     "user": {
      "displayName": "조경아",
      "userId": "05652149574770065967"
     },
     "user_tz": -540
    },
    "id": "FboKysoiaaYc",
    "outputId": "f77a4e74-263e-4064-9a79-1df36b1e3e6a"
   },
   "outputs": [
    {
     "name": "stdout",
     "output_type": "stream",
     "text": [
      "분할된 청크의 수: 165\n"
     ]
    }
   ],
   "source": [
    "# <백분위수 방식의 SemanticChunker>\n",
    "text_splitter = SemanticChunker(\n",
    "    OpenAIEmbeddings(),\n",
    "    breakpoint_threshold_type=\"percentile\",\n",
    "    breakpoint_threshold_amount=95,\n",
    ")\n",
    "chunks = text_splitter.split_documents(pages)\n",
    "print('분할된 청크의 수:', len(chunks))"
   ]
  },
  {
   "cell_type": "code",
   "execution_count": null,
   "metadata": {
    "colab": {
     "base_uri": "https://localhost:8080/"
    },
    "executionInfo": {
     "elapsed": 40342,
     "status": "ok",
     "timestamp": 1738291331498,
     "user": {
      "displayName": "조경아",
      "userId": "05652149574770065967"
     },
     "user_tz": -540
    },
    "id": "dDMGs4z1k5f4",
    "outputId": "49c5c228-76f7-4465-cf1d-00bb13f4a919"
   },
   "outputs": [
    {
     "name": "stdout",
     "output_type": "stream",
     "text": [
      "분할된 청크의 수: 84\n"
     ]
    }
   ],
   "source": [
    "# <표준편차 방식의 SemanticChunker>\n",
    "text_splitter = SemanticChunker(\n",
    "    OpenAIEmbeddings(),\n",
    "    breakpoint_threshold_type=\"standard_deviation\",\n",
    "    breakpoint_threshold_amount=3,\n",
    ")\n",
    "chunks = text_splitter.split_documents(pages)\n",
    "print('분할된 청크의 수:', len(chunks))"
   ]
  },
  {
   "cell_type": "code",
   "execution_count": null,
   "metadata": {
    "colab": {
     "base_uri": "https://localhost:8080/"
    },
    "executionInfo": {
     "elapsed": 43333,
     "status": "ok",
     "timestamp": 1738291374827,
     "user": {
      "displayName": "조경아",
      "userId": "05652149574770065967"
     },
     "user_tz": -540
    },
    "id": "IN6rZ7XO3BNM",
    "outputId": "7c263167-4a0d-4c0c-82f7-ee336ddcb587"
   },
   "outputs": [
    {
     "name": "stdout",
     "output_type": "stream",
     "text": [
      "분할된 청크의 수: 144\n"
     ]
    }
   ],
   "source": [
    "# <사분위수 방식의 SemanticChunker>\n",
    "text_splitter = SemanticChunker(\n",
    "    OpenAIEmbeddings(),\n",
    "    breakpoint_threshold_type=\"interquartile\",\n",
    "    breakpoint_threshold_amount=1.5,\n",
    ")\n",
    "chunks = text_splitter.split_documents(pages)\n",
    "print('분할된 청크의 수:', len(chunks))"
   ]
  }
 ],
 "metadata": {
  "colab": {
   "authorship_tag": "ABX9TyPDOJyhs6+BF2uWCl8sWMsQ",
   "provenance": [
    {
     "file_id": "1pdlCEHwvXT4Ljv9VGBciaemVHcBIiyMn",
     "timestamp": 1730563801037
    },
    {
     "file_id": "17pNawQlJCc7SQHqPznYT2QVIwvB4kjzI",
     "timestamp": 1729507273500
    },
    {
     "file_id": "1hYMuG0nH6xN6PV1yYXHF5rojjQIqhmi0",
     "timestamp": 1729491300245
    }
   ]
  },
  "kernelspec": {
   "display_name": ".venv",
   "language": "python",
   "name": "python3"
  },
  "language_info": {
   "name": "python",
   "version": "3.12.10"
  }
 },
 "nbformat": 4,
 "nbformat_minor": 0
}
