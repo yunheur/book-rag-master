{
 "cells": [
  {
   "cell_type": "code",
   "execution_count": null,
   "metadata": {
    "colab": {
     "base_uri": "https://localhost:8080/"
    },
    "executionInfo": {
     "elapsed": 23662,
     "status": "ok",
     "timestamp": 1738290858656,
     "user": {
      "displayName": "조경아",
      "userId": "05652149574770065967"
     },
     "user_tz": -540
    },
    "id": "Ojlsc5Izydm6",
    "outputId": "0f29f2a5-ed8c-4091-b696-e5b4c1350e81"
   },
   "outputs": [
    {
     "name": "stdout",
     "output_type": "stream",
     "text": [
      "Mounted at /content/drive\n"
     ]
    }
   ],
   "source": [
    "# from google.colab import drive\n",
    "# drive.mount('/content/drive')"
   ]
  },
  {
   "cell_type": "code",
   "execution_count": null,
   "metadata": {
    "colab": {
     "base_uri": "https://localhost:8080/"
    },
    "executionInfo": {
     "elapsed": 468,
     "status": "ok",
     "timestamp": 1738290664271,
     "user": {
      "displayName": "조경아",
      "userId": "05652149574770065967"
     },
     "user_tz": -540
    },
    "id": "3ZMCGLE8MjYJ",
    "outputId": "83fe8f59-4f95-45db-bb38-35e2893ee165"
   },
   "outputs": [
    {
     "name": "stdout",
     "output_type": "stream",
     "text": [
      "nvcc: NVIDIA (R) Cuda compiler driver\n",
      "Copyright (c) 2005-2024 NVIDIA Corporation\n",
      "Built on Thu_Jun__6_02:18:23_PDT_2024\n",
      "Cuda compilation tools, release 12.5, V12.5.82\n",
      "Build cuda_12.5.r12.5/compiler.34385749_0\n"
     ]
    }
   ],
   "source": [
    "# !nvcc --version"
   ]
  },
  {
   "cell_type": "code",
   "execution_count": null,
   "metadata": {
    "collapsed": true,
    "id": "PeY1QEffyjJp"
   },
   "outputs": [],
   "source": [
    "# faiss-gpu를 쓰기 위해서는 '런타임 유형'을 'T4 GPU'로 바꿔주어야 합니다.\n",
    "# %%capture --no-stderr\n",
    "# !pip install python-dotenv langchain_openai langchain_experimental langchain-chroma pypdf chromadb faiss-gpu-cu12"
   ]
  },
  {
   "cell_type": "code",
   "execution_count": null,
   "metadata": {
    "id": "gvSfsBH6yjHD"
   },
   "outputs": [],
   "source": [
    "# 환경변수 설정"
   ]
  },
  {
   "cell_type": "code",
   "execution_count": 1,
   "metadata": {
    "id": "-KGYBfqCyjEY"
   },
   "outputs": [],
   "source": [
    "# 라이브러리 불러오기\n",
    "import os\n",
    "from dotenv import load_dotenv\n",
    "\n",
    "# .env 파일에서 환경 변수 로드\n",
    "load_dotenv(\"/content/.env\")\n",
    "# 환경 변수에서 API 키 가져오기\n",
    "api_key = os.getenv(\"OPENAI_API_KEY\")"
   ]
  },
  {
   "cell_type": "code",
   "execution_count": null,
   "metadata": {
    "colab": {
     "base_uri": "https://localhost:8080/"
    },
    "executionInfo": {
     "elapsed": 11692,
     "status": "ok",
     "timestamp": 1738290879097,
     "user": {
      "displayName": "조경아",
      "userId": "05652149574770065967"
     },
     "user_tz": -540
    },
    "id": "m6GqDTFCaldW",
    "outputId": "74602383-13c8-4d66-9a2e-79fad2049bd7"
   },
   "outputs": [
    {
     "name": "stdout",
     "output_type": "stream",
     "text": [
      "청크의 수: 84\n"
     ]
    }
   ],
   "source": [
    "# <Chroma>\n",
    "# 라이브러리 불러오기\n",
    "import os\n",
    "from langchain_community.document_loaders import PyPDFLoader\n",
    "from langchain_text_splitters import RecursiveCharacterTextSplitter\n",
    "from langchain_openai import OpenAIEmbeddings\n",
    "from langchain_chroma import Chroma\n",
    "\n",
    "# PDF 파일 로드\n",
    "# loader = PyPDFLoader(\"/content/drive/MyDrive/langchain-tutorial/Ch02. RAG/Data/2024_KB_부동산_보고서_최종.pdf\")\n",
    "loader = PyPDFLoader(\"./Data/2024_KB_부동산_보고서_최종.pdf\")\n",
    "pages = loader.load()\n",
    "\n",
    "print(\"청크의 수:\", len(pages))"
   ]
  },
  {
   "cell_type": "code",
   "execution_count": 4,
   "metadata": {
    "colab": {
     "base_uri": "https://localhost:8080/"
    },
    "executionInfo": {
     "elapsed": 5,
     "status": "ok",
     "timestamp": 1738290879097,
     "user": {
      "displayName": "조경아",
      "userId": "05652149574770065967"
     },
     "user_tz": -540
    },
    "id": "Mxnoi4tDYJWg",
    "outputId": "49f23479-9405-4045-82e6-bbc2dd5efcfc"
   },
   "outputs": [
    {
     "name": "stdout",
     "output_type": "stream",
     "text": [
      "분할된 청크의 수: 135\n"
     ]
    }
   ],
   "source": [
    "# 텍스트 분할\n",
    "text_splitter = RecursiveCharacterTextSplitter(chunk_size=1000, chunk_overlap=200)\n",
    "splits = text_splitter.split_documents(pages)\n",
    "\n",
    "print(\"분할된 청크의 수:\", len(splits))"
   ]
  },
  {
   "cell_type": "code",
   "execution_count": 5,
   "metadata": {
    "colab": {
     "base_uri": "https://localhost:8080/"
    },
    "executionInfo": {
     "elapsed": 4,
     "status": "ok",
     "timestamp": 1738290879097,
     "user": {
      "displayName": "조경아",
      "userId": "05652149574770065967"
     },
     "user_tz": -540
    },
    "id": "PHVOBLLscEVy",
    "outputId": "993cd6c7-0a4f-4201-b268-70d98a15b7b9"
   },
   "outputs": [
    {
     "name": "stdout",
     "output_type": "stream",
     "text": [
      "청크의 최대 길이 : 1000\n",
      "청크의 최소 길이 : 56\n",
      "청크의 평균 길이 : 674.9481481481481\n"
     ]
    }
   ],
   "source": [
    "# 각 청크의 길이(문자 수)를 저장한 리스트 생성\n",
    "chunk_lengths = [len(chunk.page_content) for chunk in splits]\n",
    "max_length = max(chunk_lengths)\n",
    "min_length = min(chunk_lengths)\n",
    "avg_length = sum(chunk_lengths) / len(chunk_lengths)\n",
    "\n",
    "print('청크의 최대 길이 :', max_length)\n",
    "print('청크의 최소 길이 :', min_length)\n",
    "print('청크의 평균 길이 :', avg_length)"
   ]
  },
  {
   "cell_type": "code",
   "execution_count": 6,
   "metadata": {
    "id": "Z891npm-XOJE"
   },
   "outputs": [],
   "source": [
    "# 임베딩 모델 초기화\n",
    "embedding_function = OpenAIEmbeddings()\n",
    "\n",
    "# Chroma DB 생성 및 데이터 저장\n",
    "# persist_directory = \"/content/drive/MyDrive/langchain-tutorial/Ch02. RAG/directory\"\n",
    "persist_directory = \"./directory\"\n",
    "vectordb = Chroma.from_documents(\n",
    "    documents=splits,\n",
    "    embedding=embedding_function,\n",
    "    persist_directory=persist_directory\n",
    ")"
   ]
  },
  {
   "cell_type": "code",
   "execution_count": 7,
   "metadata": {
    "colab": {
     "base_uri": "https://localhost:8080/"
    },
    "executionInfo": {
     "elapsed": 7,
     "status": "ok",
     "timestamp": 1738290887471,
     "user": {
      "displayName": "조경아",
      "userId": "05652149574770065967"
     },
     "user_tz": -540
    },
    "id": "Abscuse0VKaQ",
    "outputId": "6298fabb-7308-4495-f7fe-094e23d8b892"
   },
   "outputs": [
    {
     "name": "stdout",
     "output_type": "stream",
     "text": [
      "문서의 수: 135\n"
     ]
    }
   ],
   "source": [
    "print('문서의 수:', vectordb._collection.count())"
   ]
  },
  {
   "cell_type": "code",
   "execution_count": 8,
   "metadata": {
    "id": "DM2nx8PVVQ-j"
   },
   "outputs": [],
   "source": [
    "# 임베딩 모델 초기화\n",
    "embedding_function = OpenAIEmbeddings()\n",
    "\n",
    "# Chroma DB 불러오기\n",
    "vectordb = Chroma(\n",
    "    embedding_function=embedding_function,\n",
    "    persist_directory=persist_directory\n",
    ")"
   ]
  },
  {
   "cell_type": "code",
   "execution_count": null,
   "metadata": {
    "colab": {
     "base_uri": "https://localhost:8080/"
    },
    "executionInfo": {
     "elapsed": 6,
     "status": "ok",
     "timestamp": 1738290887471,
     "user": {
      "displayName": "조경아",
      "userId": "05652149574770065967"
     },
     "user_tz": -540
    },
    "id": "ISuCWtWMVQ7y",
    "outputId": "8308fed1-a499-4159-c901-5f7e64f7ab3d"
   },
   "outputs": [
    {
     "name": "stdout",
     "output_type": "stream",
     "text": [
      "문서의 수: 135\n"
     ]
    }
   ],
   "source": [
    "print('문서의 수:', vectordb._collection.count())"
   ]
  },
  {
   "cell_type": "code",
   "execution_count": 10,
   "metadata": {
    "colab": {
     "base_uri": "https://localhost:8080/"
    },
    "executionInfo": {
     "elapsed": 973,
     "status": "ok",
     "timestamp": 1738290888439,
     "user": {
      "displayName": "조경아",
      "userId": "05652149574770065967"
     },
     "user_tz": -540
    },
    "id": "AoSPxX-tVQ37",
    "outputId": "412daf8c-0bfb-4b7a-91d7-ce44851f772d"
   },
   "outputs": [
    {
     "name": "stdout",
     "output_type": "stream",
     "text": [
      "문서 1:\n",
      "내용: 8 \n",
      "2024 KB 부동산 보고서: 2024년 주택시장 진단과 전망 \n",
      " \n",
      "실 등에 따른 주택 경기 불안을 이유로 매매를 망설이며 시세 대비 저렴한 매물에만 관심을 보였다. 결\n",
      "국 매도자와 매수자 간 희망가격 차이로 인한 매매 거래 위축 현상은 2023년 거래 침체의 가...\n",
      "메타데이터: {'producer': 'Microsoft® Word 2016', 'total_pages': 84, 'creator': 'Microsoft® Word 2016', 'moddate': '2024-03-04T15:30:01+09:00', 'title': 'Morning Meeting', 'page_label': '15', 'creationdate': '2024-03-04T15:30:01+09:00', 'source': './Data/2024_KB_부동산_보고서_최종.pdf', 'author': '손은경', 'page': 14}\n",
      "----------------------------------------\n",
      "문서 2:\n",
      "내용: 18 \n",
      "2024 KB 부동산 보고서: 2024년 주택시장 진단과 전망 \n",
      " \n",
      "그림Ⅰ-30. 수도권 입주물량과 전세가격 변동률 추이  그림Ⅰ-31. 기타지방 입주물량과 전세가격 변동률 추이 \n",
      " \n",
      " \n",
      " \n",
      "자료: KB국민은행, 부동산114  자료: KB국민은행, 부동산114...\n",
      "메타데이터: {'total_pages': 84, 'page': 24, 'title': 'Morning Meeting', 'producer': 'Microsoft® Word 2016', 'moddate': '2024-03-04T15:30:01+09:00', 'author': '손은경', 'creator': 'Microsoft® Word 2016', 'creationdate': '2024-03-04T15:30:01+09:00', 'page_label': '25', 'source': './Data/2024_KB_부동산_보고서_최종.pdf'}\n",
      "----------------------------------------\n"
     ]
    }
   ],
   "source": [
    "# similarity_search 메서드 사용\n",
    "question = \"수도권 주택 매매 전망\"\n",
    "top_three_docs = vectordb.similarity_search(question, k=2)\n",
    "\n",
    "for i, doc in enumerate(top_three_docs, 1):\n",
    "    print(f\"문서 {i}:\")\n",
    "    print(f\"내용: {doc.page_content[:150]}...\")\n",
    "    print(f\"메타데이터: {doc.metadata}\")\n",
    "    print('--' * 20)"
   ]
  },
  {
   "cell_type": "code",
   "execution_count": 11,
   "metadata": {
    "colab": {
     "base_uri": "https://localhost:8080/"
    },
    "executionInfo": {
     "elapsed": 1046,
     "status": "ok",
     "timestamp": 1738290889482,
     "user": {
      "displayName": "조경아",
      "userId": "05652149574770065967"
     },
     "user_tz": -540
    },
    "id": "VAl2MDZCVQ0f",
    "outputId": "500653e7-858a-42e3-e5fd-57ad82ac607f"
   },
   "outputs": [
    {
     "name": "stdout",
     "output_type": "stream",
     "text": [
      "문서 1:\n",
      "유사 점수 0.8451337337601001:\n",
      "내용: 8 \n",
      "2024 KB 부동산 보고서: 2024년 주택시장 진단과 전망 \n",
      " \n",
      "실 등에 따른 주택 경기 불안을 이유로 매매를 망설이며 시세 대비 저렴한 매물에만 관심을 보였다. 결\n",
      "국 매도자와 매수자 간 희망가격 차이로 인한 매매 거래 위축 현상은 2023년 거래 침체의 가...\n",
      "메타데이터: {'producer': 'Microsoft® Word 2016', 'page': 14, 'title': 'Morning Meeting', 'author': '손은경', 'total_pages': 84, 'creator': 'Microsoft® Word 2016', 'creationdate': '2024-03-04T15:30:01+09:00', 'moddate': '2024-03-04T15:30:01+09:00', 'source': './Data/2024_KB_부동산_보고서_최종.pdf', 'page_label': '15'}\n",
      "----------------------------------------\n",
      "문서 2:\n",
      "유사 점수 0.8328907591539737:\n",
      "내용: 18 \n",
      "2024 KB 부동산 보고서: 2024년 주택시장 진단과 전망 \n",
      " \n",
      "그림Ⅰ-30. 수도권 입주물량과 전세가격 변동률 추이  그림Ⅰ-31. 기타지방 입주물량과 전세가격 변동률 추이 \n",
      " \n",
      " \n",
      " \n",
      "자료: KB국민은행, 부동산114  자료: KB국민은행, 부동산114...\n",
      "메타데이터: {'page_label': '25', 'moddate': '2024-03-04T15:30:01+09:00', 'creator': 'Microsoft® Word 2016', 'page': 24, 'source': './Data/2024_KB_부동산_보고서_최종.pdf', 'total_pages': 84, 'producer': 'Microsoft® Word 2016', 'creationdate': '2024-03-04T15:30:01+09:00', 'author': '손은경', 'title': 'Morning Meeting'}\n",
      "----------------------------------------\n",
      "문서 3:\n",
      "유사 점수 0.831974992429529:\n",
      "내용: 3 \n",
      "2024 KB 부동산 보고서: 2024년 주택시장 진단과 전망 \n",
      " \n",
      "  \n",
      " \n",
      " \n",
      "Executive Summary 3 \n",
      " 수도권 주택시장 전반적 침체, 강남권 등 선호 지역 상대적 강세 \n",
      "과거와는 달리 높은 기준금리와 주택 매매가격, DSR 규제 등으로 매수자들의...\n",
      "메타데이터: {'title': 'Morning Meeting', 'creationdate': '2024-03-04T15:30:01+09:00', 'moddate': '2024-03-04T15:30:01+09:00', 'creator': 'Microsoft® Word 2016', 'source': './Data/2024_KB_부동산_보고서_최종.pdf', 'total_pages': 84, 'page_label': '4', 'producer': 'Microsoft® Word 2016', 'page': 3, 'author': '손은경'}\n",
      "----------------------------------------\n"
     ]
    }
   ],
   "source": [
    "# similarity_search_with_relevance_scores 메서드 사용\n",
    "question = \"수도권 주택 매매 전망\"\n",
    "top_three_docs = vectordb.similarity_search_with_relevance_scores(question, k=3)\n",
    "\n",
    "for i, doc in enumerate(top_three_docs, 1):\n",
    "    print(f\"문서 {i}:\")\n",
    "    print(f\"유사 점수 {doc[1]}:\")\n",
    "    print(f\"내용: {doc[0].page_content[:150]}...\")\n",
    "    print(f\"메타데이터: {doc[0].metadata}\")\n",
    "    print('--' * 20)"
   ]
  },
  {
   "cell_type": "code",
   "execution_count": 12,
   "metadata": {
    "id": "8rNv5ZXQGlIL"
   },
   "outputs": [],
   "source": [
    "# <FAISS>\n",
    "# 라이브러리 불러오기\n",
    "from langchain_community.vectorstores import FAISS"
   ]
  },
  {
   "cell_type": "code",
   "execution_count": 13,
   "metadata": {
    "colab": {
     "base_uri": "https://localhost:8080/"
    },
    "executionInfo": {
     "elapsed": 4458,
     "status": "ok",
     "timestamp": 1738290893937,
     "user": {
      "displayName": "조경아",
      "userId": "05652149574770065967"
     },
     "user_tz": -540
    },
    "id": "yv_UG1CUGlEM",
    "outputId": "026d6679-e1ea-4e38-940b-2517037158d1"
   },
   "outputs": [
    {
     "name": "stdout",
     "output_type": "stream",
     "text": [
      "문서의 수: 135\n"
     ]
    }
   ],
   "source": [
    "# 파이스 DB 생성\n",
    "faiss_db = FAISS.from_documents(documents=splits,\n",
    "    embedding=embedding_function\n",
    ")\n",
    "print('문서의 수:', faiss_db.index.ntotal)"
   ]
  },
  {
   "cell_type": "code",
   "execution_count": null,
   "metadata": {
    "id": "11WlM-AcHj5v"
   },
   "outputs": [],
   "source": [
    "# 파이스 DB 저장하기\n",
    "# faiss_directory = '/content/drive/MyDrive/langchain_tutorial/Ch02. RAG/directory/faiss_index'\n",
    "faiss_directory = './directory/faiss_index'\n",
    "faiss_db.save_local(faiss_directory)\n",
    "\n",
    "# 파이스 DB 불러오기\n",
    "new_db_faiss = FAISS.load_local(faiss_directory,\n",
    "\t\t\t\tOpenAIEmbeddings(),\n",
    "\t\t\t\tallow_dangerous_deserialization=True)"
   ]
  },
  {
   "cell_type": "code",
   "execution_count": 16,
   "metadata": {
    "colab": {
     "base_uri": "https://localhost:8080/"
    },
    "executionInfo": {
     "elapsed": 447,
     "status": "ok",
     "timestamp": 1738290898054,
     "user": {
      "displayName": "조경아",
      "userId": "05652149574770065967"
     },
     "user_tz": -540
    },
    "id": "A7cSLW8KHj0p",
    "outputId": "9c60e2e7-737d-48e4-f68b-0340166cb61c"
   },
   "outputs": [
    {
     "name": "stdout",
     "output_type": "stream",
     "text": [
      "문서 1:\n",
      "내용: 8 \n",
      "2024 KB 부동산 보고서: 2024년 주택시장 진단과 전망 \n",
      " \n",
      "실 등에 따른 주택 경기 불안을 이유로 매매를 망설이며 시세 대비 저렴한 매물에만 관심을 보였다. 결\n",
      "국 매도자와 매수자 간 희망가격 차이로 인한 매매 거래 위축 현상은 2023년 거래 침체의 가...\n",
      "메타데이터: {'producer': 'Microsoft® Word 2016', 'creator': 'Microsoft® Word 2016', 'creationdate': '2024-03-04T15:30:01+09:00', 'title': 'Morning Meeting', 'author': '손은경', 'moddate': '2024-03-04T15:30:01+09:00', 'source': './Data/2024_KB_부동산_보고서_최종.pdf', 'total_pages': 84, 'page': 14, 'page_label': '15'}\n",
      "----------------------------------------\n",
      "문서 2:\n",
      "내용: 18 \n",
      "2024 KB 부동산 보고서: 2024년 주택시장 진단과 전망 \n",
      " \n",
      "그림Ⅰ-30. 수도권 입주물량과 전세가격 변동률 추이  그림Ⅰ-31. 기타지방 입주물량과 전세가격 변동률 추이 \n",
      " \n",
      " \n",
      " \n",
      "자료: KB국민은행, 부동산114  자료: KB국민은행, 부동산114...\n",
      "메타데이터: {'producer': 'Microsoft® Word 2016', 'creator': 'Microsoft® Word 2016', 'creationdate': '2024-03-04T15:30:01+09:00', 'title': 'Morning Meeting', 'author': '손은경', 'moddate': '2024-03-04T15:30:01+09:00', 'source': './Data/2024_KB_부동산_보고서_최종.pdf', 'total_pages': 84, 'page': 24, 'page_label': '25'}\n",
      "----------------------------------------\n",
      "문서 3:\n",
      "내용: 3 \n",
      "2024 KB 부동산 보고서: 2024년 주택시장 진단과 전망 \n",
      " \n",
      "  \n",
      " \n",
      " \n",
      "Executive Summary 3 \n",
      " 수도권 주택시장 전반적 침체, 강남권 등 선호 지역 상대적 강세 \n",
      "과거와는 달리 높은 기준금리와 주택 매매가격, DSR 규제 등으로 매수자들의...\n",
      "메타데이터: {'producer': 'Microsoft® Word 2016', 'creator': 'Microsoft® Word 2016', 'creationdate': '2024-03-04T15:30:01+09:00', 'title': 'Morning Meeting', 'author': '손은경', 'moddate': '2024-03-04T15:30:01+09:00', 'source': './Data/2024_KB_부동산_보고서_최종.pdf', 'total_pages': 84, 'page': 3, 'page_label': '4'}\n",
      "----------------------------------------\n",
      "문서 4:\n",
      "내용: 30 \n",
      "2024 KB 부동산 보고서: 주택시장 설문조사 \n",
      " \n",
      " \n",
      "■ 주택 전세가격, 비수도권 하락 전망이 우세한 가운데 수도권 전망은 엇갈려 \n",
      "2024년 전국 주택 전세가격에 대해 전문가의 53%, 공인중개사의 61%가 하락을 전망하였다. 하락\n",
      "폭에 대해서는 3% 이하...\n",
      "메타데이터: {'producer': 'Microsoft® Word 2016', 'creator': 'Microsoft® Word 2016', 'creationdate': '2024-03-04T15:30:01+09:00', 'title': 'Morning Meeting', 'author': '손은경', 'moddate': '2024-03-04T15:30:01+09:00', 'source': './Data/2024_KB_부동산_보고서_최종.pdf', 'total_pages': 84, 'page': 36, 'page_label': '37'}\n",
      "----------------------------------------\n"
     ]
    }
   ],
   "source": [
    "# 검색할 질문 정의\n",
    "question = \"수도권 주택 매매 전망\"\n",
    "\n",
    "# similarity_search 메서드 사용\n",
    "docs = new_db_faiss.similarity_search(question)\n",
    "\n",
    "for i, doc in enumerate(docs, 1):\n",
    "    print(f\"문서 {i}:\")\n",
    "    print(f\"내용: {doc.page_content[:150]}...\")\n",
    "    print(f\"메타데이터: {doc.metadata}\")\n",
    "    print('--' * 20)"
   ]
  },
  {
   "cell_type": "code",
   "execution_count": null,
   "metadata": {
    "colab": {
     "base_uri": "https://localhost:8080/"
    },
    "executionInfo": {
     "elapsed": 887,
     "status": "ok",
     "timestamp": 1738290898939,
     "user": {
      "displayName": "조경아",
      "userId": "05652149574770065967"
     },
     "user_tz": -540
    },
    "id": "1xDXXlHdjGSI",
    "outputId": "4f499c77-9d7e-4579-b6b6-2621abee3ab9"
   },
   "outputs": [
    {
     "name": "stdout",
     "output_type": "stream",
     "text": [
      "문서 1:\n",
      "내용: 8 \n",
      "2024 KB 부동산 보고서: 2024년 주택시장 진단과 전망 \n",
      " \n",
      "실 등에 따른 주택 경기 불안을 이유로 매매를 망설이며 시세 대비 저렴한 매물에만 관심을 보였다. 결\n",
      "국 매도자와 매수자 간 희망가격 차이로 인한 매매 거래 위축 현상은 2023년 거래 침체의 가장 큰 원\n",
      "인으로 볼 수 있다. \n",
      "또한 과거 전국적인 주택 거래 호황기와는 달리 서울 등 일부 지역을 중심으로 매수세가 형성되고, \n",
      "전세 사기를 포함한 보증금 미반환 리스크에 따라 비아파트에 대한 선호도가 낮아지면서 아파트로 수\n",
      "요가 집중되었다. 거시경제 불확실성이 확대되면서 투자 수요 보다 실수요를 중심으로 매매 거래가 이\n",
      "루어지는 등 다양한 원인이 복합적으로 작용하여 거래 침체를 유발하였다. \n",
      "이에 따라 꾸준한 주택 재고 증가에도 불구하고 주택 매매 거래회전율(전체 주택 재고 대비 주택 매\n",
      "매거래 비율)은 최근 2년간 평균 3%를 하회하면서 지난 10년 전국 평균(6%) 대비 절반 수준에 머물\n",
      "렀다. 전체 주택시장에...\n",
      "메타데이터: {'source': '/content/drive/MyDrive/Colab Notebooks/langchain_book/2024_KB_부동산_보고서_최종.pdf', 'page': 14, 'page_label': '15'}\n",
      "----------------------------------------\n",
      "문서 2:\n",
      "내용: 그림Ⅰ-14. 매수우위지수 및 매매가격전망지수 추이  그림Ⅰ-15. 전국 및 서울 주택 매매 거래회전율 추이 \n",
      " \n",
      " \n",
      " \n",
      "주: 갭=매매가격전망지수-매수우위지수 \n",
      "자료: KB국민은행  \n",
      "자료: 부동산114 \n",
      " \n",
      " \n",
      "■ 하반기 이후 거래 침체 현상이 다소 완화될 수 있으나 전반적인 회복세는 제한적일 것 \n",
      "주택 매매 거래 회복을 위해서는 매도자와 매수자 간 희망가격 격차 축소와 매수세 회복이 중요한데, \n",
      "여전히 불확실한 주택가격 향방으로 주택시장에 대한 매도자와 매수자의 기대감이 달라 이러한 요인들\n",
      "이 단기간에 해소되기는 쉽지 않을 것으로 보인다. 매도자는 향후 금리 인하, 총선 등에 따라 가격 상승\n",
      "을 예상하면서 관망세를 유지하고, 매수자는 주택가격 하락세가 지속될 것으로 기대하면서 매수 시기를 \n",
      "늦출 가능성이 크다....\n",
      "메타데이터: {'source': '/content/drive/MyDrive/Colab Notebooks/langchain_book/2024_KB_부동산_보고서_최종.pdf', 'page': 14, 'page_label': '15'}\n",
      "----------------------------------------\n",
      "문서 3:\n",
      "내용: 3 \n",
      "2024 KB 부동산 보고서: 2024년 주택시장 진단과 전망 \n",
      " \n",
      "  \n",
      " \n",
      " \n",
      "Executive Summary 3 \n",
      " 수도권 주택시장 전반적 침체, 강남권 등 선호 지역 상대적 강세 \n",
      "과거와는 달리 높은 기준금리와 주택 매매가격, DSR 규제 등으로 매수자들의 구매 여력은 회복되지 \n",
      "못하고 있으나, 2023년 이후 정부의 다양한 규제 완화로 매도자들의 기대 심리는 높아지고 있다. 재건축 \n",
      "규제 완화, 광역급행철도(GTX, Great Train Express) 개통 등에 따라 지역별로 호재가 존재하며 부동산 \n",
      "PF대출 부실, 전세보증금 반환 문제 등 전반적인 주택 경기 위축 요소들도 상존하고 있다. \n",
      " \n",
      "구분 지역명 주요 이슈 \n",
      "서울 \n",
      "한강 \n",
      "이남 \n",
      "강남구 정부 규제 완화와 주택 수요 집중으로 긍정적 기대감 유지 \n",
      "서초구 높은 분양가에도 청약 수요는 많으나 진행 중인 정비사업은 차별화 예상 \n",
      "송파구 전세가격 하락에 영향을 줄 수 있는 대규모 단지 입주 예정 \n",
      "양천구 재건축 사...\n",
      "메타데이터: {'source': '/content/drive/MyDrive/Colab Notebooks/langchain_book/2024_KB_부동산_보고서_최종.pdf', 'page': 3, 'page_label': '4'}\n",
      "----------------------------------------\n",
      "문서 4:\n",
      "내용: 18 \n",
      "2024 KB 부동산 보고서: 2024년 주택시장 진단과 전망 \n",
      " \n",
      "그림Ⅰ-30. 수도권 입주물량과 전세가격 변동률 추이  그림Ⅰ-31. 기타지방 입주물량과 전세가격 변동률 추이 \n",
      " \n",
      " \n",
      " \n",
      "자료: KB국민은행, 부동산114  자료: KB국민은행, 부동산114...\n",
      "메타데이터: {'source': '/content/drive/MyDrive/Colab Notebooks/langchain_book/2024_KB_부동산_보고서_최종.pdf', 'page': 24, 'page_label': '25'}\n",
      "----------------------------------------\n"
     ]
    }
   ],
   "source": [
    "# 검색할 질문 정의\n",
    "question = \"수도권 주택 매매 전망\"\n",
    "\n",
    "# similarity_search 메서드 사용\n",
    "docs = new_db_faiss.similarity_search(question)\n",
    "\n",
    "for i, doc in enumerate(docs, 1):\n",
    "    print(f\"문서 {i}:\")\n",
    "    print(f\"내용: {doc.page_content[:500]}...\")\n",
    "    print(f\"메타데이터: {doc.metadata}\")\n",
    "    print('--' * 20)"
   ]
  },
  {
   "cell_type": "code",
   "execution_count": null,
   "metadata": {
    "id": "4cXZufAPpT59"
   },
   "outputs": [],
   "source": []
  }
 ],
 "metadata": {
  "accelerator": "GPU",
  "colab": {
   "authorship_tag": "ABX9TyNZTVp7MfQeA4JTvbXfWSzy",
   "gpuType": "T4",
   "provenance": [
    {
     "file_id": "121A8jqwXbjJbUfwI0WuV53th7o0frtkK",
     "timestamp": 1730646342102
    },
    {
     "file_id": "1pdlCEHwvXT4Ljv9VGBciaemVHcBIiyMn",
     "timestamp": 1730563801037
    },
    {
     "file_id": "17pNawQlJCc7SQHqPznYT2QVIwvB4kjzI",
     "timestamp": 1729507273500
    },
    {
     "file_id": "1hYMuG0nH6xN6PV1yYXHF5rojjQIqhmi0",
     "timestamp": 1729491300245
    }
   ]
  },
  "kernelspec": {
   "display_name": ".venv",
   "language": "python",
   "name": "python3"
  },
  "language_info": {
   "codemirror_mode": {
    "name": "ipython",
    "version": 3
   },
   "file_extension": ".py",
   "mimetype": "text/x-python",
   "name": "python",
   "nbconvert_exporter": "python",
   "pygments_lexer": "ipython3",
   "version": "3.12.10"
  }
 },
 "nbformat": 4,
 "nbformat_minor": 0
}
