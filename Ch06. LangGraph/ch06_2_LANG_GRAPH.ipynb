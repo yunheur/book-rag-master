{
  "cells": [
    {
      "cell_type": "markdown",
      "metadata": {
        "id": "v0VzP649C8N5"
      },
      "source": [
        "## 6.2 랭그래프 활용"
      ]
    },
    {
      "cell_type": "markdown",
      "metadata": {
        "id": "-3vOujyYC8OE"
      },
      "source": [
        "### 6.2.1 루프 구현하기"
      ]
    },
    {
      "cell_type": "code",
      "execution_count": null,
      "metadata": {
        "ExecuteTime": {
          "end_time": "2024-09-23T14:10:33.215056Z",
          "start_time": "2024-09-23T14:10:31.442486Z"
        },
        "id": "524huJMXC8OK"
      },
      "outputs": [],
      "source": [
        "# %%capture --no-stderr\n",
        "# %pip install -U langgraph\n",
        "# %pip install -U langchain-openai\n",
        "# %pip install -U python-dotenv"
      ]
    },
    {
      "cell_type": "code",
      "execution_count": null,
      "metadata": {
        "ExecuteTime": {
          "end_time": "2024-09-23T14:10:58.235368Z",
          "start_time": "2024-09-23T14:10:33.734323Z"
        },
        "colab": {
          "base_uri": "https://localhost:8080/"
        },
        "id": "eNo8avKTyDB2",
        "outputId": "8065ecd3-ba68-4cd3-d411-c2dd8ecb67c1"
      },
      "outputs": [
        {
          "name": "stdout",
          "output_type": "stream",
          "text": [
            "Drive already mounted at /content/drive; to attempt to forcibly remount, call drive.mount(\"/content/drive\", force_remount=True).\n"
          ]
        }
      ],
      "source": [
        "# from google.colab import drive\n",
        "# drive.mount('/content/drive')"
      ]
    },
    {
      "cell_type": "code",
      "execution_count": null,
      "metadata": {
        "colab": {
          "base_uri": "https://localhost:8080/"
        },
        "id": "Z1OGR19BC8OP",
        "outputId": "b2effaa6-ea58-499a-c342-041998e18c28"
      },
      "outputs": [
        {
          "data": {
            "text/plain": [
              "True"
            ]
          },
          "execution_count": 3,
          "metadata": {},
          "output_type": "execute_result"
        }
      ],
      "source": [
        "from dotenv import load_dotenv\n",
        "import os\n",
        "\n",
        "# .env 파일에서 환경 변수 로드\n",
        "# load_dotenv(\"/content/.env\")\n",
        "load_dotenv(\"/.env\")"
      ]
    },
    {
      "cell_type": "code",
      "execution_count": 4,
      "metadata": {
        "ExecuteTime": {
          "end_time": "2024-09-23T14:11:34.433469Z",
          "start_time": "2024-09-23T14:11:34.423883Z"
        },
        "id": "lcWjuzzK1_KP"
      },
      "outputs": [],
      "source": [
        "from typing import Annotated\n",
        "\n",
        "from typing_extensions import TypedDict\n",
        "\n",
        "from langgraph.graph import StateGraph, START, END\n",
        "from langgraph.graph.message import add_messages\n",
        "\n",
        "\n",
        "# 실습에서 사용할 그래프의 상태값 정의\n",
        "class State(TypedDict):\n",
        "    messages: Annotated[list, add_messages]\n",
        "\n",
        "# 실습에서 사용할 그래프 정의\n",
        "graph_builder = StateGraph(State)"
      ]
    },
    {
      "cell_type": "code",
      "execution_count": 5,
      "metadata": {
        "ExecuteTime": {
          "end_time": "2024-09-23T14:11:46.498890Z",
          "start_time": "2024-09-23T14:11:45.890036Z"
        },
        "colab": {
          "base_uri": "https://localhost:8080/"
        },
        "id": "pYNl44tt40g4",
        "outputId": "20d929e1-3181-4278-9728-1e8dc3a10c39"
      },
      "outputs": [
        {
          "data": {
            "text/plain": [
              "<langgraph.graph.state.StateGraph at 0x798a77cfdf50>"
            ]
          },
          "execution_count": 5,
          "metadata": {},
          "output_type": "execute_result"
        }
      ],
      "source": [
        "from langchain_openai import ChatOpenAI\n",
        "\n",
        "# 오픈AI 클라이언트 정의\n",
        "llm = ChatOpenAI(model=\"gpt-4o-mini\")\n",
        "\n",
        "# 오픈AI를 호출하여 응답을 받아 온 뒤, 상태값에 저장하여 반환하는 챗봇 함수 정의\n",
        "def chatbot(state: State):\n",
        "    return {\"messages\": [llm.invoke(state[\"messages\"])]}\n",
        "\n",
        "# 챗봇 노드 정의\n",
        "graph_builder.add_node(\"chatbot\", chatbot)"
      ]
    },
    {
      "cell_type": "code",
      "execution_count": 6,
      "metadata": {
        "ExecuteTime": {
          "end_time": "2024-09-23T14:11:57.785447Z",
          "start_time": "2024-09-23T14:11:57.777770Z"
        },
        "colab": {
          "base_uri": "https://localhost:8080/"
        },
        "id": "mNl33z-k5e6r",
        "outputId": "3af7b46e-1f4e-4efe-f34b-8518ab644617"
      },
      "outputs": [
        {
          "data": {
            "text/plain": [
              "<langgraph.graph.state.StateGraph at 0x798a77cfdf50>"
            ]
          },
          "execution_count": 6,
          "metadata": {},
          "output_type": "execute_result"
        }
      ],
      "source": [
        "from langgraph.graph import StateGraph, START, END\n",
        "# 진입지점\n",
        "graph_builder.add_edge(START, \"chatbot\")\n",
        "# 종료지점\n",
        "graph_builder.add_edge(\"chatbot\", END)"
      ]
    },
    {
      "cell_type": "code",
      "execution_count": 7,
      "metadata": {
        "ExecuteTime": {
          "end_time": "2024-09-23T14:12:00.827371Z",
          "start_time": "2024-09-23T14:12:00.822612Z"
        },
        "id": "uauFlo6y5iME"
      },
      "outputs": [],
      "source": [
        "graph = graph_builder.compile()"
      ]
    },
    {
      "cell_type": "code",
      "execution_count": 8,
      "metadata": {
        "ExecuteTime": {
          "end_time": "2024-09-23T14:13:22.168732Z",
          "start_time": "2024-09-23T14:13:13.305364Z"
        },
        "colab": {
          "base_uri": "https://localhost:8080/"
        },
        "id": "O25FlOkR5jxe",
        "outputId": "59b3cef6-1649-4b2e-9e6a-2fb6b8b83b3a"
      },
      "outputs": [
        {
          "name": "stdout",
          "output_type": "stream",
          "text": [
            "User: 너는 누구야?\n",
            "User: 너는 누구야?\n",
            "Assistant: 저는 여러분의 질문에 답하고 정보를 제공하기 위해 설계된 인공지능 언어 모델입니다. 도움이 필요하시거나 궁금한 점이 있다면 말씀해 주세요!\n",
            "User: ㅂ\n",
            "User: ㅂ\n",
            "Assistant: 안녕하세요! 무엇을 도와드릴까요?\n",
            "User: q\n",
            "User: q\n",
            "Goodbye!\n"
          ]
        }
      ],
      "source": [
        "while True:\n",
        "    # 사용자의 질의 입력받음\n",
        "    user_input = input(\"User: \")\n",
        "    print(\"User:\", user_input)\n",
        "\n",
        "    # 사용자가 quit 혹은 exit 혹은 q를 입력했다면 루프 종료\n",
        "    if user_input.lower() in [\"quit\", \"exit\", \"q\"]:\n",
        "        print(\"Goodbye!\")\n",
        "        break\n",
        "\n",
        "    # 사용자의 입력을 그래프에 입력하여 정의된 흐름 실행\n",
        "    for event in graph.stream({\"messages\": (\"user\", user_input)}):\n",
        "        for value in event.values():\n",
        "            print(\"Assistant:\", value[\"messages\"][-1].content)\n"
      ]
    },
    {
      "cell_type": "code",
      "execution_count": 9,
      "metadata": {
        "ExecuteTime": {
          "end_time": "2024-09-23T14:13:42.072761Z",
          "start_time": "2024-09-23T14:13:41.802839Z"
        },
        "colab": {
          "base_uri": "https://localhost:8080/",
          "height": 251
        },
        "id": "p37XZ9BPC8Ok",
        "outputId": "61dfe631-5452-44d4-e905-64b8550e2a49"
      },
      "outputs": [
        {
          "data": {
            "image/png": "[encoded data removed]",
            "text/plain": [
              "<IPython.core.display.Image object>"
            ]
          },
          "metadata": {},
          "output_type": "display_data"
        }
      ],
      "source": [
        "from IPython.display import Image, display\n",
        "\n",
        "display(Image(graph.get_graph().draw_mermaid_png()))"
      ]
    },
    {
      "cell_type": "markdown",
      "metadata": {
        "id": "AAiYBGhoC8Ok"
      },
      "source": [
        "### 6.2.2 조건문 구현하기"
      ]
    },
    {
      "cell_type": "code",
      "execution_count": null,
      "metadata": {
        "ExecuteTime": {
          "end_time": "2024-09-23T14:13:51.180353Z",
          "start_time": "2024-09-23T14:13:49.466609Z"
        },
        "id": "lhyGj_foC8Oq"
      },
      "outputs": [],
      "source": [
        "# %%capture --no-stderr\n",
        "# %pip install -U tavily-python\n",
        "# %pip install -U langchain_community"
      ]
    },
    {
      "cell_type": "code",
      "execution_count": null,
      "metadata": {
        "colab": {
          "base_uri": "https://localhost:8080/"
        },
        "id": "zlpEHHYCC8Or",
        "outputId": "0791cea3-1b3a-44ea-e46c-01e60497343d"
      },
      "outputs": [
        {
          "data": {
            "text/plain": [
              "True"
            ]
          },
          "execution_count": 11,
          "metadata": {},
          "output_type": "execute_result"
        }
      ],
      "source": [
        "from dotenv import load_dotenv\n",
        "\n",
        "# .env 파일에서 환경 변수 로드\n",
        "# load_dotenv(\"/content/.env\")\n",
        "load_dotenv(\"/.env\")"
      ]
    },
    {
      "cell_type": "code",
      "execution_count": 12,
      "metadata": {
        "ExecuteTime": {
          "end_time": "2024-09-23T14:14:41.296920Z",
          "start_time": "2024-09-23T14:14:37.541430Z"
        },
        "colab": {
          "base_uri": "https://localhost:8080/"
        },
        "id": "9PxQJWtDC8Or",
        "outputId": "0744420c-b5c3-4177-b1b9-c8ab35b70a85"
      },
      "outputs": [
        {
          "data": {
            "text/plain": [
              "[{'title': '서울 실시간 날씨 정보 | 서울 공식 관광정보 웹사이트',\n",
              "  'url': 'https://korean.visitseoul.net/weather',\n",
              "  'content': '전체보기메뉴 열기버튼\\n검색영역 닫기버튼\\n검색 영역 열기  검색어 삭제 검색실행\\n검색순위\\n전체보기메뉴 열기버튼\\nvisitseoul.net\\n검색\\n검색영역  닫기 검색실행\\n검색순위\\n나의 찜한 목록\\n나의 찜한 목록\\n나의 찜하기 툴팁 버튼\\n찜하기는 관심 있는 여행 정보를 저장하여 서울의 주요 지역별로 탐색할 수 있는 기능입니다.\\n나의 찜한 목록 바로가기\\nvisitseoul.net\\n전체보기메뉴 닫기버튼\\n서울의 날씨\\n> 여행정보> 서울의 날씨\\n서울의 날씨\\n3일 예보\\n3일 예보 : 날짜, 날씨, 최저/최고기온(℃), 강수확률 날짜오늘 : 2025-02-25내일 : 2025-02-26모레 : 2025-02-27날씨구름많음맑음맑음최저/최고기온(℃)-2℃ / 7℃-2℃ / 6℃-1℃ / 11℃강수확률20% / 20%10% / 0%-\\n대기오염 상세\\n대기오염 상세 : 날짜, 미세먼지, 초미세먼지 날짜오늘예보내일예보모레예보미세먼지 (PM10) 보통 보통 보통초미세먼지 (PM2.5) 보통 나쁨 나쁨 [...] 주간예보\\n주간예보 : 날짜, 날씨, 최저/최고기온(℃)      날짜2025-02-252025-02-262025-02-272025-02-282025-03-01날씨구름많음맑음맑음흐림흐림최저/최고기온(℃)-2℃ / 7℃-2℃ / 6℃-1℃ / 11℃3℃ / 13℃5℃ / 12℃\\n제공 : 케이웨더(Kweather)\\nSTO 서울관광재단 SEOUL TOURISM ORGANIZATION SEOUL MY SOUL\\n개인정보처리방침 공지사항\\n운영\\n월~금, 오전 9시~오후 6시 staff@visitseoul.net\\n문의\\n관광불편처리센터 일반 관광 문의 1330\\nVisit Seoul 모바일 앱\\nApp Store Google Play\\n비짓서울 공식채널',\n",
              "  'score': 0.85008353},\n",
              " {'title': '서울특별시, 서울시, 대한민국 시간별 날씨 - AccuWeather',\n",
              "  'url': 'https://www.accuweather.com/ko/kr/seoul/226081/hourly-weather-forecast/226081',\n",
              "  'content': '30°\\nRealFeel® 33°\\n추움\\n 0%\\n맑음\\n경보 건조 주의보경보 건조 주의보\\n바람북서 2mi/h\\n대기질나쁨\\n돌풍5mi/h\\n습도56%\\n이슬점17° F\\n구름량0%\\n가시거리10mi\\n운저30000ft\\n오후 10시\\n\\n29°\\nRealFeel® 32°\\n추움\\n 0%\\n맑음\\n경보 건조 주의보경보 건조 주의보\\n바람서북서 2mi/h\\n대기질나쁨\\n돌풍5mi/h\\n습도63%\\n이슬점18° F\\n구름량2%\\n가시거리10mi\\n운저30000ft\\n오후 11시\\n\\n28°\\nRealFeel® 30°\\n추움\\n 0%\\n맑음\\n경보 건조 주의보경보 건조 주의보\\n바람서 2mi/h\\n대기질나쁨\\n돌풍7mi/h\\n습도67%\\n이슬점18° F\\n구름량3%\\n가시거리10mi\\n운저30000ft\\n전망\\n\\n### 내일### 수요일### 일별\\n전 세계\\n\\n### 허리케인### 악천후 기상### 레이더 및 지도### 동영상\\nAround The Web\\n전 세계 아시아 대한민국 서울시 서울특별시\\n인근 지역:\\n\\n동작구, 서울시\\n마포구, 서울시\\n서대문구, 서울시 [...] 40°\\nRealFeel® 38°\\n추움\\n 0%\\n화창\\n경보 건조 주의보경보 건조 주의보\\nRealFeel Shade™34°\\n바람서북서 8mi/h\\n대기질나쁨\\n최대 자외선 지수2 낮음\\n돌풍21mi/h\\n습도26%\\n이슬점7° F\\n구름량0%\\n가시거리10mi\\n운저30000ft\\n오후 4시\\n\\n41°\\nRealFeel® 39°\\n추움\\n 0%\\n화창\\n경보 건조 주의보경보 건조 주의보\\nRealFeel Shade™36°\\n바람서 8mi/h\\n대기질나쁨\\n최대 자외선 지수1 낮음\\n돌풍20mi/h\\n습도25%\\n이슬점8° F\\n구름량0%\\n가시거리10mi\\n운저30000ft\\n오후 5시\\n\\n39°\\nRealFeel® 37°\\n추움\\n 0%\\n화창\\n경보 건조 주의보경보 건조 주의보\\nRealFeel Shade™37°\\n바람서 7mi/h\\n대기질나쁨\\n최대 자외선 지수0 낮음\\n돌풍16mi/h\\n습도29%\\n이슬점9° F\\n구름량0%\\n가시거리10mi\\n운저30000ft\\n오후 6시 [...] 34°\\nRealFeel® 38°\\n추움\\n 0%\\n화창\\n경보 건조 주의보경보 건조 주의보\\nRealFeel Shade™30°\\n바람서북서 7mi/h\\n대기질나쁨\\n최대 자외선 지수4 보통\\n돌풍17mi/h\\n습도32%\\n이슬점7° F\\n구름량0%\\n가시거리10mi\\n운저30000ft\\n오후 1시\\n\\n37°\\nRealFeel® 39°\\n추움\\n 0%\\n화창\\n경보 건조 주의보경보 건조 주의보\\nRealFeel Shade™32°\\n바람서북서 8mi/h\\n대기질나쁨\\n최대 자외선 지수4 보통\\n돌풍18mi/h\\n습도28%\\n이슬점7° F\\n구름량0%\\n가시거리10mi\\n운저30000ft\\n오후 2시\\n\\n39°\\nRealFeel® 39°\\n추움\\n 0%\\n화창\\n경보 건조 주의보경보 건조 주의보\\nRealFeel Shade™33°\\n바람서북서 8mi/h\\n대기질나쁨\\n최대 자외선 지수3 보통\\n돌풍21mi/h\\n습도26%\\n이슬점7° F\\n구름량0%\\n가시거리10mi\\n운저30000ft\\n오후 3시',\n",
              "  'score': 0.81665546}]"
            ]
          },
          "execution_count": 12,
          "metadata": {},
          "output_type": "execute_result"
        }
      ],
      "source": [
        "from langchain_community.tools.tavily_search import TavilySearchResults\n",
        "\n",
        "# Tavily검색 엔진을 도구로 정의\n",
        "tool = TavilySearchResults(max_results=2)\n",
        "tools = [tool]\n",
        "tool.invoke(\"내일 대한민국 서울의 날씨는?\")"
      ]
    },
    {
      "cell_type": "code",
      "execution_count": 13,
      "metadata": {
        "ExecuteTime": {
          "end_time": "2024-09-23T14:14:59.311396Z",
          "start_time": "2024-09-23T14:14:59.181514Z"
        },
        "colab": {
          "base_uri": "https://localhost:8080/"
        },
        "id": "kEFNbEqaC8Or",
        "outputId": "88daf925-f074-435f-a220-8e6944a5615b"
      },
      "outputs": [
        {
          "data": {
            "text/plain": [
              "<langgraph.graph.state.StateGraph at 0x798a76746390>"
            ]
          },
          "execution_count": 13,
          "metadata": {},
          "output_type": "execute_result"
        }
      ],
      "source": [
        "from typing import Annotated\n",
        "\n",
        "from langchain_openai import ChatOpenAI\n",
        "from typing_extensions import TypedDict\n",
        "\n",
        "from langgraph.graph import StateGraph, START\n",
        "from langgraph.graph.message import add_messages\n",
        "\n",
        "\n",
        "# 그래프 상태 정의\n",
        "class State(TypedDict):\n",
        "    messages: Annotated[list, add_messages]\n",
        "\n",
        "\n",
        "# 그래프 정의\n",
        "graph_builder = StateGraph(State)\n",
        "\n",
        "# 오픈AI 클라이언트 정의\n",
        "llm = ChatOpenAI(model=\"gpt-4o-mini\")\n",
        "# 오픈AI 클라이언트에 Tavily 검색 엔진 도구를 할당\n",
        "llm_with_tools = llm.bind_tools(tools)\n",
        "\n",
        "# 챗봇 함수 정의\n",
        "def chatbot(state: State):\n",
        "    return {\"messages\": [llm_with_tools.invoke(state[\"messages\"])]}\n",
        "\n",
        "# 그래프에 챗봇 노드 추가\n",
        "graph_builder.add_node(\"chatbot\", chatbot)"
      ]
    },
    {
      "cell_type": "code",
      "execution_count": 14,
      "metadata": {
        "ExecuteTime": {
          "end_time": "2024-09-23T14:15:17.337611Z",
          "start_time": "2024-09-23T14:15:17.314352Z"
        },
        "colab": {
          "base_uri": "https://localhost:8080/"
        },
        "id": "7dQfFtGEC8Ox",
        "outputId": "9b5b5220-57e6-4db6-d2a4-20f00c01906e"
      },
      "outputs": [
        {
          "data": {
            "text/plain": [
              "<langgraph.graph.state.StateGraph at 0x798a76746390>"
            ]
          },
          "execution_count": 14,
          "metadata": {},
          "output_type": "execute_result"
        }
      ],
      "source": [
        "import json\n",
        "\n",
        "from langchain_core.messages import ToolMessage\n",
        "\n",
        "\n",
        "# 도구 노드로 사용될 클래스\n",
        "class BasicToolNode:\n",
        "\n",
        "    # 도구 노드에서 사용될 초기 파라미터 정의\n",
        "    def __init__(self, tools: list) -> None:\n",
        "        self.tools_by_name = {tool.name: tool for tool in tools}\n",
        "\n",
        "    # 도구 노드가 호출되었을때의 행동 정의\n",
        "    def __call__(self, inputs: dict):\n",
        "        # 입력된 상태의 가장 마지막 메세지 획득\n",
        "        if messages := inputs.get(\"messages\", []):\n",
        "            message = messages[-1]\n",
        "        else:\n",
        "            raise ValueError(\"No message found in input\")\n",
        "        # 메세지의 tool_calls 에 도구호출을 위한 값들이 존재한다면 이를 활용해 도구 호출\n",
        "        outputs = []\n",
        "        for tool_call in message.tool_calls:\n",
        "            tool_result = self.tools_by_name[tool_call[\"name\"]].invoke(\n",
        "                tool_call[\"args\"]\n",
        "            )\n",
        "            # 도구 호출의 결과물을 ToolMessage로 정의하여 출력값에 저장\n",
        "            outputs.append(\n",
        "                ToolMessage(\n",
        "                    content=json.dumps(tool_result, ensure_ascii=False),\n",
        "                    name=tool_call[\"name\"],\n",
        "                    tool_call_id=tool_call[\"id\"],\n",
        "                )\n",
        "            )\n",
        "        # 출력값을 상태값 형식에 맞춰 반환\n",
        "        return {\"messages\": outputs}\n",
        "\n",
        "\n",
        "# 도구 노드 정의\n",
        "tool_node = BasicToolNode(tools=[tool])\n",
        "# 도구 노드 그래프에 추가\n",
        "graph_builder.add_node(\"tools\", tool_node)"
      ]
    },
    {
      "cell_type": "code",
      "execution_count": 15,
      "metadata": {
        "ExecuteTime": {
          "end_time": "2024-09-23T14:16:29.356686Z",
          "start_time": "2024-09-23T14:16:29.345146Z"
        },
        "colab": {
          "base_uri": "https://localhost:8080/"
        },
        "id": "WTU_f6XKC8Oz",
        "outputId": "8b9c422f-b8fe-425b-db0e-9a6d66a00fd3"
      },
      "outputs": [
        {
          "data": {
            "text/plain": [
              "<langgraph.graph.state.StateGraph at 0x798a76746390>"
            ]
          },
          "execution_count": 15,
          "metadata": {},
          "output_type": "execute_result"
        }
      ],
      "source": [
        "from typing import Literal\n",
        "\n",
        "\n",
        "# 도구노드 호출 여부를 결정하는 함수 정의\n",
        "def route_tools(\n",
        "        state: State,\n",
        ") -> Literal[\"tools\", \"__end__\"]:\n",
        "    # 상태값의 가장 최근 메세지를 정의\n",
        "    if isinstance(state, list):\n",
        "        ai_message = state[-1]\n",
        "    elif messages := state.get(\"messages\", []):\n",
        "        ai_message = messages[-1]\n",
        "    else:\n",
        "        raise ValueError(f\"No messages found in input state to tool_edge: {state}\")\n",
        "\n",
        "    # 가장 최근 메세지가 tool_calls 속성을 포함하고 있다면 tools 노드를 아니라면 종료지점을 반환\n",
        "    if hasattr(ai_message, \"tool_calls\") and len(ai_message.tool_calls) > 0:\n",
        "        return \"tools\"\n",
        "    return \"__end__\"\n",
        "\n",
        "\n",
        "# 챗봇 노드에 조건부 엣지를 정의\n",
        "graph_builder.add_conditional_edges(\n",
        "    \"chatbot\",\n",
        "    route_tools,\n",
        "    {\"tools\": \"tools\", \"__end__\": \"__end__\"},\n",
        ")"
      ]
    },
    {
      "cell_type": "code",
      "execution_count": 16,
      "metadata": {
        "ExecuteTime": {
          "end_time": "2024-09-23T14:16:45.037870Z",
          "start_time": "2024-09-23T14:16:45.028189Z"
        },
        "colab": {
          "base_uri": "https://localhost:8080/"
        },
        "id": "kAYdZ9boC8O5",
        "outputId": "37ec542e-1e91-4a4e-f2e5-d661c3c433fc"
      },
      "outputs": [
        {
          "data": {
            "text/plain": [
              "<langgraph.graph.state.StateGraph at 0x798a76746390>"
            ]
          },
          "execution_count": 16,
          "metadata": {},
          "output_type": "execute_result"
        }
      ],
      "source": [
        "# 도구 노드와 챗봇 노드 연결\n",
        "graph_builder.add_edge(\"tools\", \"chatbot\")\n",
        "# 진입지점으로 챗봇 노드 지정\n",
        "graph_builder.add_edge(START, \"chatbot\")"
      ]
    },
    {
      "cell_type": "code",
      "execution_count": 17,
      "metadata": {
        "ExecuteTime": {
          "end_time": "2024-09-23T14:16:49.167428Z",
          "start_time": "2024-09-23T14:16:47.705084Z"
        },
        "colab": {
          "base_uri": "https://localhost:8080/",
          "height": 266
        },
        "id": "kSsWEjnyC8O6",
        "outputId": "6a17dc15-ed0b-41c0-9df8-5d3a711565ef"
      },
      "outputs": [
        {
          "data": {
            "image/png": "[encoded data removed]",
            "text/plain": [
              "<IPython.core.display.Image object>"
            ]
          },
          "metadata": {},
          "output_type": "display_data"
        }
      ],
      "source": [
        "graph = graph_builder.compile()\n",
        "display(Image(graph.get_graph().draw_mermaid_png()))"
      ]
    },
    {
      "cell_type": "markdown",
      "metadata": {
        "id": "cvOLWkYOC8O7"
      },
      "source": [
        "### 6.2.3 스트리밍"
      ]
    },
    {
      "cell_type": "code",
      "execution_count": 18,
      "metadata": {
        "ExecuteTime": {
          "end_time": "2024-09-23T14:17:33.170055Z",
          "start_time": "2024-09-23T14:17:08.204800Z"
        },
        "colab": {
          "base_uri": "https://localhost:8080/"
        },
        "id": "oWrNdZ5SC8O7",
        "outputId": "4d39fc10-f8ae-42c7-a700-0d8de0ecbfe2"
      },
      "outputs": [
        {
          "name": "stdout",
          "output_type": "stream",
          "text": [
            "User: 25년 4월5일 서울의 날씨 알려줘\n",
            "User: 25년 4월5일 서울의 날씨 알려줘\n",
            "Assistant: \n",
            "Assistant: [{\"title\": \"4월 2025의 날씨 서울: 온도 및 기후 - Climate-Data.org\", \"url\": \"https://ko.climate-data.org/%EC%95%84%EC%8B%9C%EC%95%84/%EB%8C%80%ED%95%9C%EB%AF%BC%EA%B5%AD/%EC%84%9C%EC%9A%B8-1931/r/4%EC%9B%94-4/\", \"content\": \"4월의 서울 날씨 ; 온도 4월, 10.7°C ; 온도 4월 최대. 16.3°C ; 온도 4월 분. 5.6°C ; 강수량 / 강수량 4월, 73mm\", \"score\": 0.83678174}, {\"title\": \"[오늘의 날씨] 2025년 4월 5일 - 조선일보\", \"url\": \"https://www.chosun.com/national/transport-environment/2025/04/05/4WK4T5QWVVFVPIZXV66L6YV5O4/\", \"content\": \"[오늘의 날씨] 2025년 4월 5일 2025년 4월 5일(토) 신문구독|中文|English|日本語 [오늘의 날씨] 2025년 4월 5일 조선일보 4일 오전 10시 59분, 문형배 헌법재판소장 권한대행을 비롯한 8명의 헌법재판관이 헌법재판소 대심판정 안으로 들어섰다. 4일 헌법재판소가 윤석열 대통령 탄핵을 인용하자 손현보 부산세계로교회 목사의 주도로 서울 여의도와 전국 각지에서 대규모 탄핵 반대 집... 尹 운명 가른 헌법 재판관 8인은 누구 헌법재판소는 4일 재판관 8명의 만장일치로 윤석열 전 대통령의 탄핵소추안을 인용했다. 尹 운명 가른 헌법 재판관 8인은 누구 헌법재판소는 4일 재판관 8명의 만장일치로 윤석열 전 대통령의 탄핵소추안을 인용했다. 尹 운명 가른 헌법 재판관 8인은 누구 尹 운명 가른 헌법 재판관 8인은 누구 칼럼 정치 일반 국제 일반 사회 일반 경제 일반 스포츠 일반 연예 일반 영화 소식 | 음악 등록(발행)일자: 2011년 07월 26일 로그인 로그인 아이디 찾기|비밀번호 재설정\", \"score\": 0.7959917}]\n",
            "Assistant: 2025년 4월 5일 서울의 날씨에 대한 정보는 다음과 같습니다:\n",
            "\n",
            "- **온도**: 평균 약 10.7°C, 최고 약 16.3°C, 최저 약 5.6°C\n",
            "- **강수량**: 4월 전체 강수량은 약 73mm로 예상됩니다.\n",
            "\n",
            "더 자세한 정보는 [Climate-Data.org](https://ko.climate-data.org/%EC%95%84%EC%8B%9C%EC%95%84/%EB%8C%80%ED%95%9C%EB%AF%BC%EA%B5%AD/%EC%84%9C%EC%9A%B8-1931/r/4%EC%9B%94-4/)에서 확인할 수 있습니다.\n",
            "User: q\n",
            "User: q\n",
            "Goodbye!\n"
          ]
        }
      ],
      "source": [
        "from langchain_core.messages import BaseMessage\n",
        "\n",
        "while True:\n",
        "    # 사용자의 질문을 입력받습니다\n",
        "    user_input = input(\"User: \")\n",
        "    print(\"User:\", user_input)\n",
        "    if user_input.lower() in [\"quit\", \"exit\", \"q\"]:\n",
        "        print(\"Goodbye!\")\n",
        "        break\n",
        "\n",
        "    # 업데이트된 내용을 확인할 수 있는 그래프 스트리밍을 정의합니다.\n",
        "    events = graph.stream(input={\"messages\": [(\"user\", user_input)]}, stream_mode=\"updates\")\n",
        "\n",
        "    # 그래프 이벤트 내의 메세지를 출력합니다.\n",
        "    for event in events:\n",
        "        for value in event.values():\n",
        "            if isinstance(value[\"messages\"][-1], BaseMessage):\n",
        "                print(\"Assistant:\", value[\"messages\"][-1].content)\n"
      ]
    },
    {
      "cell_type": "markdown",
      "metadata": {
        "id": "J5H5imhSC8PB"
      },
      "source": [
        "### 6.2.4 상태 저장하기"
      ]
    },
    {
      "cell_type": "code",
      "execution_count": 19,
      "metadata": {
        "ExecuteTime": {
          "end_time": "2024-09-23T14:18:23.010493Z",
          "start_time": "2024-09-23T14:18:22.988650Z"
        },
        "id": "SpViiaVkC8PB"
      },
      "outputs": [],
      "source": [
        "from langgraph.checkpoint.memory import MemorySaver\n",
        "\n",
        "memory = MemorySaver()"
      ]
    },
    {
      "cell_type": "code",
      "execution_count": 20,
      "metadata": {
        "ExecuteTime": {
          "end_time": "2024-09-23T14:20:52.648951Z",
          "start_time": "2024-09-23T14:20:52.595548Z"
        },
        "id": "3tr5V7sUC8PC"
      },
      "outputs": [],
      "source": [
        "from typing import Annotated\n",
        "\n",
        "from langchain_openai import ChatOpenAI\n",
        "from langchain_community.tools.tavily_search import TavilySearchResults\n",
        "from typing_extensions import TypedDict\n",
        "\n",
        "from langgraph.graph import StateGraph, START\n",
        "from langgraph.graph.message import add_messages\n",
        "from langgraph.prebuilt import ToolNode, tools_condition\n",
        "\n",
        "\n",
        "class State(TypedDict):\n",
        "    messages: Annotated[list, add_messages]\n",
        "\n",
        "\n",
        "graph_builder = StateGraph(State)\n",
        "\n",
        "\n",
        "tool = TavilySearchResults(max_results=2)\n",
        "tools = [tool]\n",
        "\n",
        "llm = ChatOpenAI(model=\"gpt-4o-mini\")\n",
        "llm_with_tools = llm.bind_tools(tools)\n",
        "\n",
        "def chatbot(state: State):\n",
        "    return {\"messages\": [llm_with_tools.invoke(state[\"messages\"])]}\n",
        "\n",
        "\n",
        "graph_builder.add_node(\"chatbot\", chatbot)\n",
        "\n",
        "# 미리 빌드된 도구노드\n",
        "tool_node = ToolNode(tools=[tool])\n",
        "graph_builder.add_node(\"tools\", tool_node)\n",
        "\n",
        "# 미리 빌드된 조건부 엣지\n",
        "graph_builder.add_conditional_edges(\n",
        "    \"chatbot\",\n",
        "    tools_condition,\n",
        ")\n",
        "\n",
        "graph_builder.add_edge(\"tools\", \"chatbot\")\n",
        "graph_builder.add_edge(START, \"chatbot\")\n",
        "\n",
        "# 체크포인터를 지정하여 그래프를 컴파일\n",
        "graph = graph_builder.compile(checkpointer=memory)"
      ]
    },
    {
      "cell_type": "code",
      "execution_count": 21,
      "metadata": {
        "ExecuteTime": {
          "end_time": "2024-09-23T14:20:53.655756Z",
          "start_time": "2024-09-23T14:20:53.417412Z"
        },
        "colab": {
          "base_uri": "https://localhost:8080/",
          "height": 266
        },
        "id": "WHapGBvnC8PF",
        "outputId": "3db00cb2-7ff8-4440-8906-abe7df063653"
      },
      "outputs": [
        {
          "data": {
            "image/png": "[encoded data removed]",
            "text/plain": [
              "<IPython.core.display.Image object>"
            ]
          },
          "metadata": {},
          "output_type": "display_data"
        }
      ],
      "source": [
        "from IPython.display import Image, display\n",
        "\n",
        "display(Image(graph.get_graph().draw_mermaid_png()))"
      ]
    },
    {
      "cell_type": "code",
      "execution_count": 22,
      "metadata": {
        "ExecuteTime": {
          "end_time": "2024-09-23T14:20:54.889555Z",
          "start_time": "2024-09-23T14:20:54.882817Z"
        },
        "id": "CL2HCqEGC8PG"
      },
      "outputs": [],
      "source": [
        "config = {\"configurable\": {\"thread_id\": \"1\"}}"
      ]
    },
    {
      "cell_type": "code",
      "execution_count": 23,
      "metadata": {
        "ExecuteTime": {
          "end_time": "2024-09-23T14:20:59.165773Z",
          "start_time": "2024-09-23T14:20:58.371569Z"
        },
        "colab": {
          "base_uri": "https://localhost:8080/"
        },
        "id": "s3DLe0DGC8PG",
        "outputId": "deea1a9e-3c52-4c9f-cd28-5956bf2b777f"
      },
      "outputs": [
        {
          "name": "stdout",
          "output_type": "stream",
          "text": [
            "================================\u001b[1m Human Message \u001b[0m=================================\n",
            "\n",
            "안녕! 내 이름은 오해원이야.\n",
            "==================================\u001b[1m Ai Message \u001b[0m==================================\n",
            "\n",
            "안녕하세요, 오해원님! 반가워요. 어떻게 도와드릴까요?\n"
          ]
        }
      ],
      "source": [
        "user_input = \"안녕! 내 이름은 오해원이야.\"\n",
        "\n",
        "events = graph.stream(\n",
        "    {\"messages\": [(\"user\", user_input)]}, config, stream_mode=\"values\"\n",
        ")\n",
        "for event in events:\n",
        "    event[\"messages\"][-1].pretty_print()"
      ]
    },
    {
      "cell_type": "code",
      "execution_count": 24,
      "metadata": {
        "ExecuteTime": {
          "end_time": "2024-09-23T14:21:02.610909Z",
          "start_time": "2024-09-23T14:21:01.734929Z"
        },
        "colab": {
          "base_uri": "https://localhost:8080/"
        },
        "id": "sGawMh5-C8PH",
        "outputId": "d03d91b8-d396-47e7-9cc1-c7330493a54b"
      },
      "outputs": [
        {
          "name": "stdout",
          "output_type": "stream",
          "text": [
            "================================\u001b[1m Human Message \u001b[0m=================================\n",
            "\n",
            "내 이름을 기억하니?\n",
            "==================================\u001b[1m Ai Message \u001b[0m==================================\n",
            "\n",
            "네, 오해원님! 당신의 이름을 기억하고 있습니다. 어떻게 도와드릴까요?\n"
          ]
        }
      ],
      "source": [
        "user_input = \"내 이름을 기억하니?\"\n",
        "\n",
        "events = graph.stream(\n",
        "    {\"messages\": [(\"user\", user_input)]}, config, stream_mode=\"values\"\n",
        ")\n",
        "for event in events:\n",
        "    event[\"messages\"][-1].pretty_print()"
      ]
    },
    {
      "cell_type": "code",
      "execution_count": 25,
      "metadata": {
        "ExecuteTime": {
          "end_time": "2024-09-23T14:21:12.427289Z",
          "start_time": "2024-09-23T14:21:11.068513Z"
        },
        "colab": {
          "base_uri": "https://localhost:8080/"
        },
        "id": "EKqesSAEC8PH",
        "outputId": "8f68d7a9-5a47-43c1-fa83-d7b7b8302f1e"
      },
      "outputs": [
        {
          "name": "stdout",
          "output_type": "stream",
          "text": [
            "================================\u001b[1m Human Message \u001b[0m=================================\n",
            "\n",
            "내 이름을 기억하니?\n",
            "==================================\u001b[1m Ai Message \u001b[0m==================================\n",
            "\n",
            "죄송하지만, 당신의 이름이나 개인 정보를 기억하지 못합니다. 대화가 끝나면 모든 정보가 초기화되기 때문입니다. 어떻게 도와드릴까요?\n"
          ]
        }
      ],
      "source": [
        "events = graph.stream(\n",
        "    {\"messages\": [(\"user\", user_input)]},\n",
        "    {\"configurable\": {\"thread_id\": \"2\"}},\n",
        "    stream_mode=\"values\",\n",
        ")\n",
        "for event in events:\n",
        "    event[\"messages\"][-1].pretty_print()"
      ]
    },
    {
      "cell_type": "code",
      "execution_count": 26,
      "metadata": {
        "ExecuteTime": {
          "end_time": "2024-09-23T14:21:18.162126Z",
          "start_time": "2024-09-23T14:21:18.148755Z"
        },
        "colab": {
          "base_uri": "https://localhost:8080/"
        },
        "id": "lLf2yPVhC8PH",
        "outputId": "53a29e25-b134-4e79-ca62-7e68bb14c807"
      },
      "outputs": [
        {
          "name": "stdout",
          "output_type": "stream",
          "text": [
            "StateSnapshot(values={'messages': [HumanMessage(content='안녕! 내 이름은 오해원이야.', additional_kwargs={}, response_metadata={}, id='9d23eb9a-0142-46cc-8e7d-e61ebe9fb765'), AIMessage(content='안녕하세요, 오해원님! 반가워요. 어떻게 도와드릴까요?', additional_kwargs={'refusal': None}, response_metadata={'token_usage': {'completion_tokens': 22, 'prompt_tokens': 90, 'total_tokens': 112, 'completion_tokens_details': {'accepted_prediction_tokens': 0, 'audio_tokens': 0, 'reasoning_tokens': 0, 'rejected_prediction_tokens': 0}, 'prompt_tokens_details': {'audio_tokens': 0, 'cached_tokens': 0}}, 'model_name': 'gpt-4o-mini-2024-07-18', 'system_fingerprint': 'fp_b376dfbbd5', 'id': 'chatcmpl-BImqDGOhmmqdJjNdeNRn9cgc28gBk', 'finish_reason': 'stop', 'logprobs': None}, id='run-55c746d3-418e-41d3-b5a7-5886c99cc791-0', usage_metadata={'input_tokens': 90, 'output_tokens': 22, 'total_tokens': 112, 'input_token_details': {'audio': 0, 'cache_read': 0}, 'output_token_details': {'audio': 0, 'reasoning': 0}}), HumanMessage(content='내 이름을 기억하니?', additional_kwargs={}, response_metadata={}, id='f682066f-2962-47ce-8885-82802526734a'), AIMessage(content='네, 오해원님! 당신의 이름을 기억하고 있습니다. 어떻게 도와드릴까요?', additional_kwargs={'refusal': None}, response_metadata={'token_usage': {'completion_tokens': 24, 'prompt_tokens': 125, 'total_tokens': 149, 'completion_tokens_details': {'accepted_prediction_tokens': 0, 'audio_tokens': 0, 'reasoning_tokens': 0, 'rejected_prediction_tokens': 0}, 'prompt_tokens_details': {'audio_tokens': 0, 'cached_tokens': 0}}, 'model_name': 'gpt-4o-mini-2024-07-18', 'system_fingerprint': 'fp_b376dfbbd5', 'id': 'chatcmpl-BImqYgV5Hgc2mFWYa56IDUwyjN4o0', 'finish_reason': 'stop', 'logprobs': None}, id='run-c4f9875d-1a05-4e4f-87ad-d067a83f1fe1-0', usage_metadata={'input_tokens': 125, 'output_tokens': 24, 'total_tokens': 149, 'input_token_details': {'audio': 0, 'cache_read': 0}, 'output_token_details': {'audio': 0, 'reasoning': 0}})]}, next=(), config={'configurable': {'thread_id': '1', 'checkpoint_ns': '', 'checkpoint_id': '1f011bf4-93cf-62f7-8004-80e5803113c0'}}, metadata={'source': 'loop', 'writes': {'chatbot': {'messages': [AIMessage(content='네, 오해원님! 당신의 이름을 기억하고 있습니다. 어떻게 도와드릴까요?', additional_kwargs={'refusal': None}, response_metadata={'token_usage': {'completion_tokens': 24, 'prompt_tokens': 125, 'total_tokens': 149, 'completion_tokens_details': {'accepted_prediction_tokens': 0, 'audio_tokens': 0, 'reasoning_tokens': 0, 'rejected_prediction_tokens': 0}, 'prompt_tokens_details': {'audio_tokens': 0, 'cached_tokens': 0}}, 'model_name': 'gpt-4o-mini-2024-07-18', 'system_fingerprint': 'fp_b376dfbbd5', 'id': 'chatcmpl-BImqYgV5Hgc2mFWYa56IDUwyjN4o0', 'finish_reason': 'stop', 'logprobs': None}, id='run-c4f9875d-1a05-4e4f-87ad-d067a83f1fe1-0', usage_metadata={'input_tokens': 125, 'output_tokens': 24, 'total_tokens': 149, 'input_token_details': {'audio': 0, 'cache_read': 0}, 'output_token_details': {'audio': 0, 'reasoning': 0}})]}}, 'step': 4, 'parents': {}, 'thread_id': '1'}, created_at='2025-04-05T01:42:51.364174+00:00', parent_config={'configurable': {'thread_id': '1', 'checkpoint_ns': '', 'checkpoint_id': '1f011bf3-cc4b-6545-8003-b59b93732546'}}, tasks=())\n"
          ]
        }
      ],
      "source": [
        "snapshot = graph.get_state(config)\n",
        "print(snapshot)"
      ]
    },
    {
      "cell_type": "markdown",
      "metadata": {
        "id": "V5bdIE4vC8PH"
      },
      "source": [
        "### 6.2.5 루프 개입하기"
      ]
    },
    {
      "cell_type": "code",
      "execution_count": 27,
      "metadata": {
        "ExecuteTime": {
          "end_time": "2024-09-23T14:21:26.952477Z",
          "start_time": "2024-09-23T14:21:26.938821Z"
        },
        "id": "bqEEQEx6C8PI"
      },
      "outputs": [],
      "source": [
        "graph = graph_builder.compile(\n",
        "    checkpointer=memory,\n",
        "    interrupt_before=[\"tools\"],\n",
        ")"
      ]
    },
    {
      "cell_type": "code",
      "execution_count": 28,
      "metadata": {
        "ExecuteTime": {
          "end_time": "2024-09-23T14:21:36.663183Z",
          "start_time": "2024-09-23T14:21:35.678463Z"
        },
        "colab": {
          "base_uri": "https://localhost:8080/"
        },
        "id": "l4nzZivTC8PI",
        "outputId": "a6ca1182-1d37-48fd-91f4-6c878180c8c6"
      },
      "outputs": [
        {
          "name": "stdout",
          "output_type": "stream",
          "text": [
            "================================\u001b[1m Human Message \u001b[0m=================================\n",
            "\n",
            "지금 서울 날씨 어때?\n",
            "==================================\u001b[1m Ai Message \u001b[0m==================================\n",
            "Tool Calls:\n",
            "  tavily_search_results_json (call_zlr5LoIBmvseV324lYHOK0SG)\n",
            " Call ID: call_zlr5LoIBmvseV324lYHOK0SG\n",
            "  Args:\n",
            "    query: 현재 서울 날씨\n"
          ]
        }
      ],
      "source": [
        "user_input = \"지금 서울 날씨 어때?\"\n",
        "config = {\"configurable\": {\"thread_id\": \"2\"}}\n",
        "events = graph.stream(\n",
        "    {\"messages\": [(\"user\", user_input)]}, config, stream_mode=\"values\"\n",
        ")\n",
        "for event in events:\n",
        "    if \"messages\" in event:\n",
        "        event[\"messages\"][-1].pretty_print()"
      ]
    },
    {
      "cell_type": "code",
      "execution_count": 29,
      "metadata": {
        "ExecuteTime": {
          "end_time": "2024-09-23T14:21:38.835791Z",
          "start_time": "2024-09-23T14:21:38.829478Z"
        },
        "colab": {
          "base_uri": "https://localhost:8080/"
        },
        "id": "OutdoGcIC8PI",
        "outputId": "972f0b78-4775-418b-ff8e-91c7c9da1847"
      },
      "outputs": [
        {
          "name": "stdout",
          "output_type": "stream",
          "text": [
            "('tools',)\n"
          ]
        }
      ],
      "source": [
        "snapshot = graph.get_state(config)\n",
        "print(snapshot.next)"
      ]
    },
    {
      "cell_type": "code",
      "execution_count": 30,
      "metadata": {
        "ExecuteTime": {
          "end_time": "2024-09-23T14:23:35.700495Z",
          "start_time": "2024-09-23T14:23:35.305378Z"
        },
        "colab": {
          "base_uri": "https://localhost:8080/"
        },
        "id": "tpEEWupBC8PK",
        "outputId": "cfc2f4c1-6785-4287-e98e-03b72fa3e9ed"
      },
      "outputs": [
        {
          "data": {
            "text/plain": [
              "{'configurable': {'thread_id': '2',\n",
              "  'checkpoint_ns': '',\n",
              "  'checkpoint_id': '1f011bf6-27d3-6147-8005-fed4b5b488aa'}}"
            ]
          },
          "execution_count": 30,
          "metadata": {},
          "output_type": "execute_result"
        }
      ],
      "source": [
        "from langchain_core.messages import AIMessage\n",
        "\n",
        "# 최근 메세지\n",
        "existing_message = snapshot.values[\"messages\"][-1]\n",
        "# 최근 메세지의 id\n",
        "existing_message_id = existing_message.tool_calls[0][\"id\"]\n",
        "\n",
        "# 강제할 응답 정의\n",
        "answer = (\n",
        "    \"서울의 날씨는 매우 맑아요.\"\n",
        ")\n",
        "\n",
        "# 강제할 응답을 포함한 메세지 상태 정의\n",
        "new_messages = [\n",
        "    ToolMessage(content=answer, tool_call_id=existing_message_id),\n",
        "    AIMessage(content=answer),\n",
        "]\n",
        "# 그래프 상태를 새로 작성한 메세지 상태로 변경\n",
        "graph.update_state(\n",
        "    config,\n",
        "    {\"messages\": new_messages},\n",
        ")\n"
      ]
    },
    {
      "cell_type": "code",
      "execution_count": 31,
      "metadata": {
        "ExecuteTime": {
          "end_time": "2024-09-23T14:23:39.693454Z",
          "start_time": "2024-09-23T14:23:39.678539Z"
        },
        "colab": {
          "base_uri": "https://localhost:8080/"
        },
        "id": "FVSo5bBOC8PL",
        "outputId": "8570d5ee-98a4-4fda-9a95-8d557a46d105"
      },
      "outputs": [
        {
          "name": "stdout",
          "output_type": "stream",
          "text": [
            "\n",
            "\n",
            "Last 2 messages;\n",
            "[ToolMessage(content='서울의 날씨는 매우 맑아요.', id='9614f462-a61c-4e2d-918d-c19a989829cd', tool_call_id='call_zlr5LoIBmvseV324lYHOK0SG'), AIMessage(content='서울의 날씨는 매우 맑아요.', additional_kwargs={}, response_metadata={}, id='595bc727-43ca-49ec-bdeb-15583437ff9d')]\n"
          ]
        }
      ],
      "source": [
        "print(\"\\n\\nLast 2 messages;\")\n",
        "print(graph.get_state(config).values[\"messages\"][-2:])"
      ]
    },
    {
      "cell_type": "code",
      "execution_count": 32,
      "metadata": {
        "ExecuteTime": {
          "end_time": "2024-09-23T14:24:01.856390Z",
          "start_time": "2024-09-23T14:24:01.850547Z"
        },
        "colab": {
          "base_uri": "https://localhost:8080/"
        },
        "id": "xtwKz-6xC8PM",
        "outputId": "856dd3de-3f16-45ff-ca39-d69fe8c60fb9"
      },
      "outputs": [
        {
          "name": "stdout",
          "output_type": "stream",
          "text": [
            "content='죄송하지만, 당신의 이름이나 개인 정보를 기억하지 못합니다. 대화가 끝나면 모든 정보가 초기화되기 때문입니다. 어떻게 도와드릴까요?' additional_kwargs={'refusal': None} response_metadata={'token_usage': {'completion_tokens': 40, 'prompt_tokens': 86, 'total_tokens': 126, 'completion_tokens_details': {'accepted_prediction_tokens': 0, 'audio_tokens': 0, 'reasoning_tokens': 0, 'rejected_prediction_tokens': 0}, 'prompt_tokens_details': {'audio_tokens': 0, 'cached_tokens': 0}}, 'model_name': 'gpt-4o-mini-2024-07-18', 'system_fingerprint': 'fp_b376dfbbd5', 'id': 'chatcmpl-BImqt0gYLolfNHWIVff073uEsX44x', 'finish_reason': 'stop', 'logprobs': None} id='run-263c5442-93a2-4846-8607-5ec724376b2b-0' usage_metadata={'input_tokens': 86, 'output_tokens': 40, 'total_tokens': 126, 'input_token_details': {'audio': 0, 'cache_read': 0}, 'output_token_details': {'audio': 0, 'reasoning': 0}}\n"
          ]
        }
      ],
      "source": [
        "existing_message = snapshot.values[\"messages\"][-3]\n",
        "print(existing_message)"
      ]
    },
    {
      "cell_type": "code",
      "execution_count": 33,
      "metadata": {
        "ExecuteTime": {
          "end_time": "2024-09-23T14:24:05.849321Z",
          "start_time": "2024-09-23T14:24:04.887138Z"
        },
        "colab": {
          "base_uri": "https://localhost:8080/"
        },
        "id": "mmY1AMTEC8PM",
        "outputId": "996ca7bf-85a0-423e-b9cd-4b923533e9da"
      },
      "outputs": [
        {
          "name": "stdout",
          "output_type": "stream",
          "text": [
            "================================\u001b[1m Human Message \u001b[0m=================================\n",
            "\n",
            "지금 서울 날씨 어때?\n",
            "==================================\u001b[1m Ai Message \u001b[0m==================================\n",
            "Tool Calls:\n",
            "  tavily_search_results_json (call_WzzcjUDLoPK6vfM7KMp428FO)\n",
            " Call ID: call_WzzcjUDLoPK6vfM7KMp428FO\n",
            "  Args:\n",
            "    query: Current weather in Seoul\n"
          ]
        }
      ],
      "source": [
        "from langchain_core.messages import AIMessage\n",
        "\n",
        "user_input = \"지금 서울 날씨 어때?\"\n",
        "config = {\"configurable\": {\"thread_id\": \"3\"}}\n",
        "events = graph.stream(\n",
        "    {\"messages\": [(\"user\", user_input)]}, config, stream_mode=\"values\"\n",
        ")\n",
        "for event in events:\n",
        "    if \"messages\" in event:\n",
        "        event[\"messages\"][-1].pretty_print()"
      ]
    },
    {
      "cell_type": "code",
      "execution_count": 34,
      "metadata": {
        "colab": {
          "base_uri": "https://localhost:8080/"
        },
        "id": "9DprWIimC8QR",
        "outputId": "41287488-22e2-4381-ce51-1b8ab6212fb7"
      },
      "outputs": [
        {
          "data": {
            "text/plain": [
              "{'configurable': {'thread_id': '3',\n",
              "  'checkpoint_ns': '',\n",
              "  'checkpoint_id': '1f011bf6-ee93-6004-8002-0b3871a3af94'}}"
            ]
          },
          "execution_count": 34,
          "metadata": {},
          "output_type": "execute_result"
        }
      ],
      "source": [
        "snapshot = graph.get_state(config)\n",
        "existing_message = snapshot.values[\"messages\"][-1]\n",
        "new_tool_call = existing_message.tool_calls[0].copy()\n",
        "new_tool_call[\"args\"][\"query\"] = \"지금 경기도 날씨 어때?\"\n",
        "new_message = AIMessage(\n",
        "    content=existing_message.content,\n",
        "    tool_calls=[new_tool_call],\n",
        "    id=existing_message.id,\n",
        ")\n",
        "\n",
        "graph.update_state(config, {\"messages\": [new_message]})"
      ]
    },
    {
      "cell_type": "code",
      "execution_count": 35,
      "metadata": {
        "ExecuteTime": {
          "end_time": "2024-09-23T14:24:17.618481Z",
          "start_time": "2024-09-23T14:24:17.608659Z"
        },
        "colab": {
          "base_uri": "https://localhost:8080/"
        },
        "id": "ODETsXRbC8QS",
        "outputId": "4c7a6cf5-a5f0-41eb-d10c-62c18f08d1dd"
      },
      "outputs": [
        {
          "name": "stdout",
          "output_type": "stream",
          "text": [
            "\n",
            "\n",
            "Last 2 messages;\n",
            "[HumanMessage(content='지금 서울 날씨 어때?', additional_kwargs={}, response_metadata={}, id='05f9d54d-30f8-49b0-8314-d623e3d58302'), AIMessage(content='', additional_kwargs={}, response_metadata={}, id='run-0b869f4e-9653-4f4f-ad7d-c4f68357962a-0', tool_calls=[{'name': 'tavily_search_results_json', 'args': {'query': '지금 경기도 날씨 어때?'}, 'id': 'call_WzzcjUDLoPK6vfM7KMp428FO', 'type': 'tool_call'}])]\n"
          ]
        }
      ],
      "source": [
        "print(\"\\n\\nLast 2 messages;\")\n",
        "print(graph.get_state(config).values[\"messages\"][-2:])"
      ]
    },
    {
      "cell_type": "code",
      "execution_count": 35,
      "metadata": {
        "id": "YQVfYY-RC8QS"
      },
      "outputs": [],
      "source": []
    }
  ],
  "metadata": {
    "colab": {
      "provenance": []
    },
    "kernelspec": {
      "display_name": "Python 3 (ipykernel)",
      "language": "python",
      "name": "python3"
    },
    "language_info": {
      "codemirror_mode": {
        "name": "ipython",
        "version": 3
      },
      "file_extension": ".py",
      "mimetype": "text/x-python",
      "name": "python",
      "nbconvert_exporter": "python",
      "pygments_lexer": "ipython3",
      "version": "3.10.12"
    }
  },
  "nbformat": 4,
  "nbformat_minor": 0
}
