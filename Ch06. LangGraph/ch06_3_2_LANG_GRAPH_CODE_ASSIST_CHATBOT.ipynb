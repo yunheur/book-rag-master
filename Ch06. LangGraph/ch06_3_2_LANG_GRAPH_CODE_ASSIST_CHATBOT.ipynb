{
  "cells": [
    {
      "cell_type": "markdown",
      "id": "1161ff9fa369f535",
      "metadata": {
        "id": "1161ff9fa369f535"
      },
      "source": [
        "## 6.3 랭그래프 실습"
      ]
    },
    {
      "cell_type": "markdown",
      "id": "62a5d0497b4a9258",
      "metadata": {
        "id": "62a5d0497b4a9258"
      },
      "source": [
        "### 6.3.2 [실습] 코드 어시스트 챗봇"
      ]
    },
    {
      "metadata": {
        "ExecuteTime": {
          "end_time": "2024-09-23T14:34:14.026707Z",
          "start_time": "2024-09-23T14:34:13.181177Z"
        },
        "id": "c3d4e7aa5c55cf3e"
      },
      "cell_type": "code",
      "source": [
        "%%capture --no-stderr\n",
        "! pip install langchain_community tiktoken langchain-openai chromadb langchain langgraph python-dotenv"
      ],
      "id": "c3d4e7aa5c55cf3e",
      "outputs": [],
      "execution_count": 1
    },
    {
      "metadata": {
        "colab": {
          "base_uri": "https://localhost:8080/"
        },
        "id": "64c3a7375954a048",
        "outputId": "3e0ce9b0-b8ad-4a98-8522-9c5f0b11dc3c"
      },
      "cell_type": "code",
      "outputs": [
        {
          "output_type": "stream",
          "name": "stdout",
          "text": [
            "Mounted at /content/drive\n"
          ]
        }
      ],
      "execution_count": 2,
      "source": [
        "from google.colab import drive\n",
        "drive.mount('/content/drive')"
      ],
      "id": "64c3a7375954a048"
    },
    {
      "metadata": {
        "ExecuteTime": {
          "end_time": "2024-09-23T14:34:19.898892Z",
          "start_time": "2024-09-23T14:34:15.222751Z"
        },
        "colab": {
          "base_uri": "https://localhost:8080/"
        },
        "id": "597e11ca06a691a7",
        "outputId": "1fdf146a-fe73-499d-8532-7e58a293e8bf"
      },
      "cell_type": "code",
      "source": [
        "from dotenv import load_dotenv\n",
        "\n",
        "# .env 파일에서 환경 변수 로드\n",
        "load_dotenv(\"/content/.env\")"
      ],
      "id": "597e11ca06a691a7",
      "outputs": [
        {
          "output_type": "execute_result",
          "data": {
            "text/plain": [
              "True"
            ]
          },
          "metadata": {},
          "execution_count": 3
        }
      ],
      "execution_count": 3
    },
    {
      "cell_type": "code",
      "id": "b3ce2c0a5d7a4c2",
      "metadata": {
        "ExecuteTime": {
          "end_time": "2024-09-23T14:34:34.081981Z",
          "start_time": "2024-09-23T14:34:33.781694Z"
        },
        "id": "b3ce2c0a5d7a4c2"
      },
      "source": [
        "from bs4 import BeautifulSoup as Soup\n",
        "from langchain_community.document_loaders.recursive_url_loader import RecursiveUrlLoader\n",
        "\n",
        "# 크롤링할 URL을 지정합니다.\n",
        "url = \"https://python.langchain.com/v0.2/docs/concepts/#langchain-expression-language-lcel\"\n",
        "# 해당 페이지를 재귀적으로 크롤링합니다\n",
        "loader = RecursiveUrlLoader(\n",
        "    url=url, max_depth=20, extractor=lambda x: Soup(x, \"html.parser\").text\n",
        ")\n",
        "\n",
        "# 지정된 URL에서 문서들을 크롤링하고, 이를 'docs' 변수에 저장합니다.\n",
        "docs = loader.load()\n",
        "\n",
        "# 크롤링된 문서들을 'source' 메타데이터를 기준으로 정렬합니다.\n",
        "d_sorted = sorted(docs, key=lambda x: x.metadata[\"source\"])\n",
        "d_reversed = list(reversed(d_sorted))\n",
        "\n",
        "# 모든 문서의 내용을 하나의 문자열로 연결합니다.\n",
        "concatenated_content = \"\\n\\n\\n --- \\n\\n\\n\".join(\n",
        "    [doc.page_content for doc in d_reversed]\n",
        ")"
      ],
      "outputs": [],
      "execution_count": 4
    },
    {
      "cell_type": "code",
      "id": "feaa6f09ff96a9f6",
      "metadata": {
        "ExecuteTime": {
          "end_time": "2024-09-23T14:35:18.580765Z",
          "start_time": "2024-09-23T14:35:18.138314Z"
        },
        "colab": {
          "base_uri": "https://localhost:8080/"
        },
        "id": "feaa6f09ff96a9f6",
        "outputId": "debacc1f-b0bd-48ac-9350-c3fa1cf72074"
      },
      "source": [
        "from langchain_core.prompts import ChatPromptTemplate\n",
        "from langchain_core.pydantic_v1 import BaseModel, Field\n",
        "from langchain_openai import ChatOpenAI\n",
        "\n",
        "# LLM이 LCEL 전문가로서 사용자의 질문에 답변하도록 지시하는 프롬프트를 정의합니다\n",
        "system = \"\"\"\n",
        "당신은 LCEL(LangChain expression language) 전문가인 코딩 어시스턴트입니다.\n",
        "다음은 필요한 LCEL 문서 전문입니다:\n",
        "-------\n",
        "{context}\n",
        "-------\n",
        "위에 제공된 문서를 기반으로 사용자 질문에 답변하세요.\n",
        "제공하는 코드는 실행 가능해야 하며, 필요한 모든 import 문과 변수들이 정의되어 있어야 합니다.\n",
        "답변을 다음과 같은 구조로 작성하세요:\n",
        "1. prefix : 문제와 접근 방식에 대한 설명\n",
        "2. imports : 코드 블록 import 문\n",
        "3. code : import 문을 제외한 코드 블록\n",
        "4. description : 질문에 대한 코드 스키마\n",
        "\n",
        "다음은 사용자 질문입니다:\n",
        "\"\"\"\n",
        "\n",
        "# 시스템 메시지와 사용자의 질문을 포함한 템플릿을 만듭니다\n",
        "code_gen_prompt = ChatPromptTemplate.from_messages(\n",
        "    [\n",
        "        (\"system\", system),\n",
        "        (\"placeholder\", \"{messages}\"),\n",
        "    ]\n",
        ")\n",
        "\n",
        "\n",
        "# 코드 출력을 구조화하기 위한 데이터 모델을 정의합니다.\n",
        "class code(BaseModel):\n",
        "    prefix: str = Field(description=\"문제와 접근 방식에 대한 설명\")\n",
        "    imports: str = Field(description=\"코드 블록 import 문\")\n",
        "    code: str = Field(description=\"import 문을 제외한 코드 블록\")\n",
        "    description: str = Field(description=\"질문에 대한 코드 스키마\")\n",
        "\n",
        "\n",
        "# 코드 생성을 위한 LLM 을 정의합니다.\n",
        "llm = ChatOpenAI(temperature=0, model=\"gpt-4o-mini\")\n",
        "\n",
        "# 프롬프트, 구조화된 LLM 출력을 결합하여 RAG 체인을 만듭니다.\n",
        "code_gen_chain = code_gen_prompt | llm.with_structured_output(code)"
      ],
      "outputs": [
        {
          "output_type": "stream",
          "name": "stderr",
          "text": [
            "/usr/local/lib/python3.11/dist-packages/IPython/core/interactiveshell.py:3553: LangChainDeprecationWarning: As of langchain-core 0.3.0, LangChain uses pydantic v2 internally. The langchain_core.pydantic_v1 module was a compatibility shim for pydantic v1, and should no longer be used. Please update the code to import from Pydantic directly.\n",
            "\n",
            "For example, replace imports like: `from langchain_core.pydantic_v1 import BaseModel`\n",
            "with: `from pydantic import BaseModel`\n",
            "or the v1 compatibility namespace if you are working in a code base that has not been fully upgraded to pydantic 2 yet. \tfrom pydantic.v1 import BaseModel\n",
            "\n",
            "  exec(code_obj, self.user_global_ns, self.user_ns)\n",
            "/usr/local/lib/python3.11/dist-packages/langchain_openai/chat_models/base.py:1624: UserWarning: Received a Pydantic BaseModel V1 schema. This is not supported by method=\"json_schema\". Please use method=\"function_calling\" or specify schema via JSON Schema or Pydantic V2 BaseModel. Overriding to method=\"function_calling\".\n",
            "  warnings.warn(\n"
          ]
        }
      ],
      "execution_count": 5
    },
    {
      "cell_type": "code",
      "id": "dd7494059e85abe2",
      "metadata": {
        "ExecuteTime": {
          "end_time": "2024-09-23T14:35:26.876885Z",
          "start_time": "2024-09-23T14:35:21.028729Z"
        },
        "colab": {
          "base_uri": "https://localhost:8080/"
        },
        "id": "dd7494059e85abe2",
        "outputId": "8b71a5c1-e3e7-43c9-a5d7-37901b06dfbe"
      },
      "source": [
        "question = \"LCEL로 RAG 체인 어떻게 만들어?\"\n",
        "solution = code_gen_chain.invoke(\n",
        "    {\"context\": concatenated_content, \"messages\": [(\"user\", question)]}\n",
        ")\n",
        "print(solution)"
      ],
      "outputs": [
        {
          "output_type": "stream",
          "name": "stdout",
          "text": [
            "prefix='이 코드는 LangChain Expression Language (LCEL)를 사용하여 Retrieval-Augmented Generation (RAG) 체인을 만드는 방법을 보여줍니다. RAG 체인은 LLM이 외부 데이터 소스에서 정보를 검색하고 이를 기반으로 응답을 생성하는 구조입니다.' imports='from langchain_core.prompts import ChatPromptTemplate\\nfrom langchain_openai import ChatOpenAI\\nfrom langchain_core.output_parsers import StrOutputParser\\nfrom langchain_core.retrievers import MyRetriever\\n\\n# RAG 체인 구성 요소 정의\\nretriever = MyRetriever()  # 사용자 정의 리트리버 인스턴스 생성\\nmodel = ChatOpenAI(model=\"gpt-4\")  # OpenAI 모델 인스턴스 생성\\nprompt_template = ChatPromptTemplate.from_template(\"{context}\\\\n{question}\")  # 프롬프트 템플릿 정의\\n\\n# RAG 체인 구성\\nchain = prompt_template | retriever | model | StrOutputParser()' code='# RAG 체인 실행\\nquestion = \"What is the capital of France?\"\\n\\n# 리트리버를 사용하여 관련 문서 검색\\ncontext = retriever.retrieve(question)\\n\\n# 체인 실행\\nresponse = chain.invoke({\"context\": context, \"question\": question})\\nprint(response)' description='이 코드는 LCEL을 사용하여 RAG 체인을 구성하는 방법을 보여줍니다. 사용자는 질문을 입력하면 리트리버가 관련 문서를 검색하고, 이를 기반으로 LLM이 응답을 생성합니다.'\n"
          ]
        }
      ],
      "execution_count": 6
    },
    {
      "cell_type": "code",
      "id": "90f03b11ba447270",
      "metadata": {
        "ExecuteTime": {
          "end_time": "2024-09-23T14:35:29.626926Z",
          "start_time": "2024-09-23T14:35:29.620881Z"
        },
        "id": "90f03b11ba447270"
      },
      "source": [
        "from typing import List, TypedDict\n",
        "\n",
        "\n",
        "class GraphState(TypedDict):\n",
        "    error: str\n",
        "    messages: List\n",
        "    generation: str\n",
        "    iterations: int"
      ],
      "outputs": [],
      "execution_count": 7
    },
    {
      "cell_type": "code",
      "id": "4a21d82e3d80cd15",
      "metadata": {
        "ExecuteTime": {
          "end_time": "2024-09-23T14:35:31.815230Z",
          "start_time": "2024-09-23T14:35:31.801Z"
        },
        "id": "4a21d82e3d80cd15"
      },
      "source": [
        "def generate(state: GraphState):\n",
        "    \"\"\"\n",
        "    코드를 생성합니다\n",
        "\n",
        "    Args:\n",
        "        state (dict): 현재 그래프의 상태\n",
        "\n",
        "    Returns:\n",
        "        state (dict): 생성한 코드가 업데이트된 상태\n",
        "    \"\"\"\n",
        "\n",
        "    print(\"---코드 생성---\")\n",
        "\n",
        "    messages = state[\"messages\"]\n",
        "    iterations = state[\"iterations\"]\n",
        "    error = state.get(\"error\", \"no\")\n",
        "\n",
        "    if error == \"yes\":\n",
        "        messages += [\n",
        "            (\n",
        "                \"user\",\n",
        "                \"다시 시도해보세요. 출력 결과를 prefix, imports, code block으로 구조화하기 위해 코드 도구를 호출하세요:\",\n",
        "            )\n",
        "        ]\n",
        "\n",
        "    code_solution = code_gen_chain.invoke(\n",
        "        {\"context\": concatenated_content, \"messages\": messages}\n",
        "    )\n",
        "    messages += [\n",
        "        (\n",
        "            \"assistant\",\n",
        "            f\"{code_solution.prefix} \\n Imports: {code_solution.imports} \\n Code: {code_solution.code}\",\n",
        "        )\n",
        "    ]\n",
        "\n",
        "    iterations = iterations + 1\n",
        "    return {\"generation\": code_solution, \"messages\": messages, \"iterations\": iterations}\n",
        "\n",
        "\n",
        "def code_check(state: GraphState):\n",
        "    \"\"\"\n",
        "    코드 검사\n",
        "\n",
        "    Args:\n",
        "        state (dict): 현재 그래프의 상태\n",
        "\n",
        "    Returns:\n",
        "        state (dict): 에러 여부가 업데이트된 상태\n",
        "    \"\"\"\n",
        "\n",
        "    print(\"---코드 검사---\")\n",
        "\n",
        "    messages = state[\"messages\"]\n",
        "    code_solution = state[\"generation\"]\n",
        "    iterations = state[\"iterations\"]\n",
        "\n",
        "    imports = code_solution.imports\n",
        "    code = code_solution.code\n",
        "\n",
        "    try:\n",
        "        exec(imports)\n",
        "    except Exception as e:\n",
        "        print(\"---import 체크: 실패---\")\n",
        "        error_message = [(\"user\", f\"당신의 코드는 import 테스트를 실패했습니다: {e}\")]\n",
        "        messages += error_message\n",
        "        return {\n",
        "            \"generation\": code_solution,\n",
        "            \"messages\": messages,\n",
        "            \"iterations\": iterations,\n",
        "            \"error\": \"yes\",\n",
        "        }\n",
        "\n",
        "    try:\n",
        "        exec(imports + \"\\n\" + code)\n",
        "    except Exception as e:\n",
        "        print(\"---code block 체크: 실패---\")\n",
        "        error_message = [(\"user\", f\"당신의 코드는 실행 테스트를 실패했습니다: {e}\")]\n",
        "        messages += error_message\n",
        "        return {\n",
        "            \"generation\": code_solution,\n",
        "            \"messages\": messages,\n",
        "            \"iterations\": iterations,\n",
        "            \"error\": \"yes\",\n",
        "        }\n",
        "\n",
        "    print(\"---에러 없음---\")\n",
        "    return {\n",
        "        \"generation\": code_solution,\n",
        "        \"messages\": messages,\n",
        "        \"iterations\": iterations,\n",
        "        \"error\": \"no\",\n",
        "    }\n",
        "\n",
        "\n",
        "def reflect(state: GraphState):\n",
        "    \"\"\"\n",
        "    에러 반영\n",
        "\n",
        "    Args:\n",
        "        state (dict): 현재 그래프 상태\n",
        "\n",
        "    Returns:\n",
        "        state (dict): 생성된 코드가 추가된 상태\n",
        "    \"\"\"\n",
        "\n",
        "    print(\"---코드 솔루션 생성---\")\n",
        "\n",
        "    messages = state[\"messages\"]\n",
        "    iterations = state[\"iterations\"]\n",
        "    code_solution = state[\"generation\"]\n",
        "\n",
        "    reflections = code_gen_chain.invoke(\n",
        "        {\"context\": concatenated_content, \"messages\": messages}\n",
        "    )\n",
        "    messages += [(\"assistant\", f\"여기 오류를 반영한 코드입니다: {reflections}\")]\n",
        "    return {\"generation\": code_solution, \"messages\": messages, \"iterations\": iterations}\n"
      ],
      "outputs": [],
      "execution_count": 8
    },
    {
      "cell_type": "code",
      "id": "b1acbe5114786c45",
      "metadata": {
        "ExecuteTime": {
          "end_time": "2024-09-23T14:35:52.619670Z",
          "start_time": "2024-09-23T14:35:52.611603Z"
        },
        "id": "b1acbe5114786c45"
      },
      "source": [
        "flag = \"do not reflect\"\n",
        "\n",
        "\n",
        "def decide_to_finish(state: GraphState):\n",
        "    \"\"\"\n",
        "    종료 여부를 결정합니다.\n",
        "\n",
        "    Args:\n",
        "        state (dict): 현재 그래프의 상태\n",
        "\n",
        "    Returns:\n",
        "        str: 다음에 호출할 노드\n",
        "    \"\"\"\n",
        "    error = state[\"error\"]\n",
        "    iterations = state[\"iterations\"]\n",
        "\n",
        "    if error == \"no\" or iterations == 3:\n",
        "        print(\"---종료---\")\n",
        "        return \"end\"\n",
        "    else:\n",
        "        print(\"---재시도---\")\n",
        "        if flag is True:\n",
        "            return \"reflect\"\n",
        "        else:\n",
        "            return \"generate\"\n"
      ],
      "outputs": [],
      "execution_count": 9
    },
    {
      "cell_type": "code",
      "id": "20b0b1e6a99340ea",
      "metadata": {
        "ExecuteTime": {
          "end_time": "2024-09-23T14:35:57.532110Z",
          "start_time": "2024-09-23T14:35:57.431159Z"
        },
        "id": "20b0b1e6a99340ea"
      },
      "source": [
        "from langgraph.graph import END, StateGraph, START\n",
        "\n",
        "workflow = StateGraph(GraphState)\n",
        "\n",
        "# 노드 정의\n",
        "workflow.add_node(\"generate\", generate)\n",
        "workflow.add_node(\"check_code\", code_check)\n",
        "workflow.add_node(\"reflect\", reflect)\n",
        "\n",
        "# 그래프 정의\n",
        "workflow.add_edge(START, \"generate\")\n",
        "workflow.add_edge(\"generate\", \"check_code\")\n",
        "workflow.add_conditional_edges(\n",
        "    \"check_code\",\n",
        "    decide_to_finish,\n",
        "    {\n",
        "        \"end\": END,\n",
        "        \"reflect\": \"reflect\",\n",
        "        \"generate\": \"generate\",\n",
        "    },\n",
        ")\n",
        "workflow.add_edge(\"reflect\", \"generate\")\n",
        "\n",
        "# 그래프 컴파일\n",
        "app = workflow.compile()"
      ],
      "outputs": [],
      "execution_count": 10
    },
    {
      "cell_type": "code",
      "id": "502f4879161b2778",
      "metadata": {
        "ExecuteTime": {
          "end_time": "2024-09-23T14:36:01.502351Z",
          "start_time": "2024-09-23T14:35:59.171635Z"
        },
        "colab": {
          "base_uri": "https://localhost:8080/",
          "height": 389
        },
        "id": "502f4879161b2778",
        "outputId": "a5b4b6fb-6c54-4129-b975-0a952a62050f"
      },
      "source": [
        "from IPython.display import Image, display\n",
        "\n",
        "display(Image(app.get_graph().draw_mermaid_png()))"
      ],
      "outputs": [
        {
          "output_type": "display_data",
          "data": {
            "image/png": "[encoded data removed]",
            "text/plain": [
              "<IPython.core.display.Image object>"
            ]
          },
          "metadata": {}
        }
      ],
      "execution_count": 11
    },
    {
      "cell_type": "code",
      "id": "3d34cd6a9abfe57d",
      "metadata": {
        "ExecuteTime": {
          "end_time": "2024-09-23T14:40:22.509212Z",
          "start_time": "2024-09-23T14:40:17.441290Z"
        },
        "colab": {
          "base_uri": "https://localhost:8080/"
        },
        "id": "3d34cd6a9abfe57d",
        "outputId": "5ced5284-34a4-4c4c-f1b3-20574244290d"
      },
      "source": [
        "question = \"문자열을 runnable 객체에 직접 전달하고, 이를 사용하여 내 프롬프트에 필요한 입력을 구성하려면 어떻게 해야 하나요?\"\n",
        "app.invoke({\"messages\": [(\"user\", question)], \"iterations\": 0})"
      ],
      "outputs": [
        {
          "output_type": "stream",
          "name": "stdout",
          "text": [
            "---코드 생성---\n",
            "---코드 검사---\n",
            "---code block 체크: 실패---\n",
            "---재시도---\n",
            "---코드 생성---\n",
            "---코드 검사---\n",
            "---code block 체크: 실패---\n",
            "---재시도---\n",
            "---코드 생성---\n",
            "---코드 검사---\n",
            "---code block 체크: 실패---\n",
            "---종료---\n"
          ]
        },
        {
          "output_type": "execute_result",
          "data": {
            "text/plain": [
              "{'error': 'yes',\n",
              " 'messages': [('user',\n",
              "   '문자열을 runnable 객체에 직접 전달하고, 이를 사용하여 내 프롬프트에 필요한 입력을 구성하려면 어떻게 해야 하나요?'),\n",
              "  ('assistant',\n",
              "   '이 코드는 문자열을 Runnable 객체에 직접 전달하고, 이를 사용하여 프롬프트에 필요한 입력을 구성하는 방법을 보여줍니다. Runnable 객체는 입력을 받아 처리할 수 있는 표준 인터페이스를 제공합니다. \\n Imports: from langchain_core.prompts import PromptTemplate\\nfrom langchain_core.runnables import Runnable \\n Code: # 문자열을 Runnable 객체에 전달하는 예제\\n\\n# 프롬프트 템플릿 정의\\nprompt_template = PromptTemplate.from_template(\"Tell me a joke about {topic}\")\\n\\n# Runnable 객체 생성\\nrunnable = Runnable(lambda inputs: prompt_template.invoke(inputs))\\n\\n# 문자열 입력\\ninput_string = {\\'topic\\': \\'cats\\'}\\n\\n# Runnable 객체 호출\\noutput = runnable.invoke(input_string)\\n\\n# 결과 출력\\nprint(output)'),\n",
              "  ('user', '당신의 코드는 실행 테스트를 실패했습니다: Runnable() takes no arguments'),\n",
              "  ('user',\n",
              "   '다시 시도해보세요. 출력 결과를 prefix, imports, code block으로 구조화하기 위해 코드 도구를 호출하세요:'),\n",
              "  ('assistant',\n",
              "   '이 코드는 문자열을 Runnable 객체에 직접 전달하고, 이를 사용하여 프롬프트에 필요한 입력을 구성하는 방법을 보여줍니다. Runnable 객체는 입력을 받아 처리할 수 있는 표준 인터페이스를 제공합니다. \\n Imports: from langchain_core.prompts import PromptTemplate\\nfrom langchain_core.runnables import RunnableLambda \\n Code: # 프롬프트 템플릿 정의\\nprompt_template = PromptTemplate.from_template(\"Tell me a joke about {topic}\")\\n\\n# Runnable 객체 생성\\nrunnable = RunnableLambda(lambda inputs: prompt_template.invoke(inputs))\\n\\n# 문자열 입력\\ninput_string = {\\'topic\\': \\'cats\\'}\\n\\n# Runnable 객체 호출\\noutput = runnable.invoke(input_string)\\n\\n# 결과 출력\\nprint(output)'),\n",
              "  ('user', \"당신의 코드는 실행 테스트를 실패했습니다: name 'prompt_template' is not defined\"),\n",
              "  ('user',\n",
              "   '다시 시도해보세요. 출력 결과를 prefix, imports, code block으로 구조화하기 위해 코드 도구를 호출하세요:'),\n",
              "  ('assistant',\n",
              "   '이 코드는 문자열을 Runnable 객체에 직접 전달하고, 이를 사용하여 프롬프트에 필요한 입력을 구성하는 방법을 보여줍니다. Runnable 객체는 입력을 받아 처리할 수 있는 표준 인터페이스를 제공합니다. \\n Imports: from langchain_core.prompts import PromptTemplate\\nfrom langchain_core.runnables import RunnableLambda \\n Code: # 프롬프트 템플릿 정의\\nprompt_template = PromptTemplate.from_template(\"Tell me a joke about {topic}\")\\n\\n# Runnable 객체 생성\\nrunnable = RunnableLambda(lambda inputs: prompt_template.invoke(inputs))\\n\\n# 문자열 입력\\ninput_string = {\\'topic\\': \\'cats\\'}\\n\\n# Runnable 객체 호출\\noutput = runnable.invoke(input_string)\\n\\n# 결과 출력\\nprint(output)'),\n",
              "  ('user', \"당신의 코드는 실행 테스트를 실패했습니다: name 'prompt_template' is not defined\")],\n",
              " 'generation': code(prefix='이 코드는 문자열을 Runnable 객체에 직접 전달하고, 이를 사용하여 프롬프트에 필요한 입력을 구성하는 방법을 보여줍니다. Runnable 객체는 입력을 받아 처리할 수 있는 표준 인터페이스를 제공합니다.', imports='from langchain_core.prompts import PromptTemplate\\nfrom langchain_core.runnables import RunnableLambda', code='# 프롬프트 템플릿 정의\\nprompt_template = PromptTemplate.from_template(\"Tell me a joke about {topic}\")\\n\\n# Runnable 객체 생성\\nrunnable = RunnableLambda(lambda inputs: prompt_template.invoke(inputs))\\n\\n# 문자열 입력\\ninput_string = {\\'topic\\': \\'cats\\'}\\n\\n# Runnable 객체 호출\\noutput = runnable.invoke(input_string)\\n\\n# 결과 출력\\nprint(output)', description='이 코드는 주어진 주제에 대한 농담을 생성하는 프롬프트를 사용하여 Runnable 객체를 호출하는 방법을 보여줍니다.'),\n",
              " 'iterations': 3}"
            ]
          },
          "metadata": {},
          "execution_count": 12
        }
      ],
      "execution_count": 12
    }
  ],
  "metadata": {
    "kernelspec": {
      "display_name": "Python 3 (ipykernel)",
      "language": "python",
      "name": "python3"
    },
    "language_info": {
      "codemirror_mode": {
        "name": "ipython",
        "version": 3
      },
      "file_extension": ".py",
      "mimetype": "text/x-python",
      "name": "python",
      "nbconvert_exporter": "python",
      "pygments_lexer": "ipython3",
      "version": "3.10.12"
    },
    "colab": {
      "provenance": []
    }
  },
  "nbformat": 4,
  "nbformat_minor": 5
}